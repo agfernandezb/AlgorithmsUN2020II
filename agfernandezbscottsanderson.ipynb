{
  "nbformat": 4,
  "nbformat_minor": 0,
  "metadata": {
    "celltoolbar": "Slideshow",
    "kernelspec": {
      "display_name": "Python 3",
      "language": "python",
      "name": "python3"
    },
    "language_info": {
      "codemirror_mode": {
        "name": "ipython",
        "version": 3
      },
      "file_extension": ".py",
      "mimetype": "text/x-python",
      "name": "python",
      "nbconvert_exporter": "python",
      "pygments_lexer": "ipython3",
      "version": "3.5.2"
    },
    "livereveal": {
      "start_slideshow_at": "selected"
    },
    "name": "Main.ipynb",
    "colab": {
      "name": "Main.ipynb",
      "provenance": [],
      "collapsed_sections": [
        "GcRZ7P9BMA4U",
        "A5hKh_xAMA6E",
        "GL_e6Y1KMA6q",
        "_rmATgUeMA70",
        "8oK_DXPHMA77",
        "DubtKIWBMA9E",
        "xpOS4oAjMA9F"
      ]
    }
  },
  "cells": [
    {
      "cell_type": "code",
      "metadata": {
        "id": "lBz7LQbLMKJU",
        "colab_type": "code",
        "colab": {
          "base_uri": "https://localhost:8080/",
          "height": 313
        },
        "outputId": "16555bca-79ac-4eeb-83fc-bd5a669286e2"
      },
      "source": [
        "pip install -U fortran-magic"
      ],
      "execution_count": 1,
      "outputs": [
        {
          "output_type": "stream",
          "text": [
            "Requirement already up-to-date: fortran-magic in /usr/local/lib/python3.6/dist-packages (0.7)\n",
            "Requirement already satisfied, skipping upgrade: numpy in /usr/local/lib/python3.6/dist-packages (from fortran-magic) (1.18.5)\n",
            "Requirement already satisfied, skipping upgrade: ipython in /usr/local/lib/python3.6/dist-packages (from fortran-magic) (5.5.0)\n",
            "Requirement already satisfied, skipping upgrade: decorator in /usr/local/lib/python3.6/dist-packages (from ipython->fortran-magic) (4.4.2)\n",
            "Requirement already satisfied, skipping upgrade: setuptools>=18.5 in /usr/local/lib/python3.6/dist-packages (from ipython->fortran-magic) (49.6.0)\n",
            "Requirement already satisfied, skipping upgrade: pygments in /usr/local/lib/python3.6/dist-packages (from ipython->fortran-magic) (2.1.3)\n",
            "Requirement already satisfied, skipping upgrade: pickleshare in /usr/local/lib/python3.6/dist-packages (from ipython->fortran-magic) (0.7.5)\n",
            "Requirement already satisfied, skipping upgrade: simplegeneric>0.8 in /usr/local/lib/python3.6/dist-packages (from ipython->fortran-magic) (0.8.1)\n",
            "Requirement already satisfied, skipping upgrade: prompt-toolkit<2.0.0,>=1.0.4 in /usr/local/lib/python3.6/dist-packages (from ipython->fortran-magic) (1.0.18)\n",
            "Requirement already satisfied, skipping upgrade: pexpect; sys_platform != \"win32\" in /usr/local/lib/python3.6/dist-packages (from ipython->fortran-magic) (4.8.0)\n",
            "Requirement already satisfied, skipping upgrade: traitlets>=4.2 in /usr/local/lib/python3.6/dist-packages (from ipython->fortran-magic) (4.3.3)\n",
            "Requirement already satisfied, skipping upgrade: wcwidth in /usr/local/lib/python3.6/dist-packages (from prompt-toolkit<2.0.0,>=1.0.4->ipython->fortran-magic) (0.2.5)\n",
            "Requirement already satisfied, skipping upgrade: six>=1.9.0 in /usr/local/lib/python3.6/dist-packages (from prompt-toolkit<2.0.0,>=1.0.4->ipython->fortran-magic) (1.15.0)\n",
            "Requirement already satisfied, skipping upgrade: ptyprocess>=0.5 in /usr/local/lib/python3.6/dist-packages (from pexpect; sys_platform != \"win32\"->ipython->fortran-magic) (0.6.0)\n",
            "Requirement already satisfied, skipping upgrade: ipython-genutils in /usr/local/lib/python3.6/dist-packages (from traitlets>=4.2->ipython->fortran-magic) (0.2.0)\n"
          ],
          "name": "stdout"
        }
      ]
    },
    {
      "cell_type": "code",
      "metadata": {
        "id": "IICxzJR0MW9C",
        "colab_type": "code",
        "colab": {
          "base_uri": "https://localhost:8080/",
          "height": 74
        },
        "outputId": "20445479-f36d-4364-efc6-e855c49fed4a"
      },
      "source": [
        "%reload_ext fortranmagic"
      ],
      "execution_count": 2,
      "outputs": [
        {
          "output_type": "stream",
          "text": [
            "/usr/local/lib/python3.6/dist-packages/fortranmagic.py:147: UserWarning: get_ipython_cache_dir has moved to the IPython.paths module since IPython 4.0.\n",
            "  self._lib_dir = os.path.join(get_ipython_cache_dir(), 'fortran')\n"
          ],
          "name": "stderr"
        },
        {
          "output_type": "display_data",
          "data": {
            "application/javascript": [
              "$.getScript(\"https://raw.github.com/marijnh/CodeMirror/master/mode/fortran/fortran.js\", function () {\n",
              "IPython.config.cell_magic_highlight['magic_fortran'] = {'reg':[/^%%fortran/]};});\n"
            ]
          },
          "metadata": {
            "tags": []
          }
        }
      ]
    },
    {
      "cell_type": "code",
      "metadata": {
        "id": "sUnrH4GhMtfh",
        "colab_type": "code",
        "colab": {
          "base_uri": "https://localhost:8080/",
          "height": 74
        },
        "outputId": "919c5854-cf63-4354-d225-1a33387a1e39"
      },
      "source": [
        "%matplotlib inline\n",
        "\n",
        "import sys; sys.path.append('..')\n",
        "\n",
        "import pandas as pd\n",
        "import numpy as np\n",
        "import matplotlib as mpl\n",
        "import matplotlib.pyplot as plt\n",
        "import seaborn as sns\n",
        "\n",
        "jan2017 = pd.to_datetime(['2017-01-03 00:00:00+00:00',\n",
        " '2017-01-04 00:00:00+00:00',\n",
        " '2017-01-05 00:00:00+00:00',\n",
        " '2017-01-06 00:00:00+00:00',\n",
        " '2017-01-09 00:00:00+00:00',\n",
        " '2017-01-10 00:00:00+00:00',\n",
        " '2017-01-11 00:00:00+00:00',\n",
        " '2017-01-12 00:00:00+00:00',\n",
        " '2017-01-13 00:00:00+00:00',\n",
        " '2017-01-17 00:00:00+00:00',\n",
        " '2017-01-18 00:00:00+00:00',\n",
        " '2017-01-19 00:00:00+00:00',\n",
        " '2017-01-20 00:00:00+00:00',\n",
        " '2017-01-23 00:00:00+00:00',\n",
        " '2017-01-24 00:00:00+00:00',\n",
        " '2017-01-25 00:00:00+00:00',\n",
        " '2017-01-26 00:00:00+00:00',\n",
        " '2017-01-27 00:00:00+00:00',\n",
        " '2017-01-30 00:00:00+00:00',\n",
        " '2017-01-31 00:00:00+00:00',\n",
        " '2017-02-01 00:00:00+00:00'])\n",
        "calendar = jan2017.values.astype('datetime64[D]')\n",
        "\n",
        "event_dates = pd.to_datetime(['2017-01-06 00:00:00+00:00', \n",
        "                             '2017-01-07 00:00:00+00:00', \n",
        "                             '2017-01-08 00:00:00+00:00']).values.astype('datetime64[D]')\n",
        "event_values = np.array([10, 15, 20])\n",
        "\n",
        "feb2020 = pd.to_datetime(['2020-02-01 00:00:00+00:00',\n",
        " '2020-02-01 00:00:00+00:00',\n",
        " '2020-02-01 00:00:00+00:00',\n",
        " '2020-02-01 00:00:00+00:00',\n",
        " '2020-02-01 00:00:00+00:00',\n",
        " '2020-02-01 00:00:00+00:00',\n",
        " '2020-02-01 00:00:00+00:00'])\n",
        "calendarr = feb2020.values.astype('datetime64[D]')\n",
        "dates_ev = pd.to_datetime(['2017-02-01 00:00:00+00:00', \n",
        "                             '2017-02-02 00:00:00+00:00', \n",
        "                             '2017-02-03 00:00:00+00:00']).values.astype('datetime64[D]')\n",
        "event_values = np.array([10, 15, 20])\n",
        "values_ev = np.array([5,20,35,15,90,17,26])"
      ],
      "execution_count": 3,
      "outputs": [
        {
          "output_type": "stream",
          "text": [
            "/usr/local/lib/python3.6/dist-packages/statsmodels/tools/_testing.py:19: FutureWarning: pandas.util.testing is deprecated. Use the functions in the public API at pandas.testing instead.\n",
            "  import pandas.util.testing as tm\n"
          ],
          "name": "stderr"
        }
      ]
    },
    {
      "cell_type": "markdown",
      "metadata": {
        "ein.tags": "worksheet-0",
        "id": "aJ6vjkHSMA3I",
        "colab_type": "text"
      },
      "source": [
        "<center>\n",
        "  <h1>The PyData Toolbox</h1>\n",
        "  <h3>Scott Sanderson (Twitter: @scottbsanderson, GitHub: ssanderson)</h3>\n",
        "  <h3><a href=\"https://github.com/ssanderson/pydata-toolbox\">https://github.com/ssanderson/pydata-toolbox</a></h3>\n",
        "</center>"
      ]
    },
    {
      "cell_type": "markdown",
      "metadata": {
        "collapsed": true,
        "ein.tags": "worksheet-0",
        "id": "UMpFjLDhMA3J",
        "colab_type": "text"
      },
      "source": [
        "# About Me:\n",
        "\n",
        "<img src=\"images/me.jpg\" alt=\"Drawing\" style=\"width: 300px;\"/>\n",
        "\n",
        "- Senior Engineer at [Quantopian](www.quantopian.com)\n",
        "- Background in Mathematics and Philosophy\n",
        "- **Twitter:** [@scottbsanderson](https://twitter.com/scottbsanderson)\n",
        "- **GitHub:** [ssanderson](github.com/ssanderson)"
      ]
    },
    {
      "cell_type": "markdown",
      "metadata": {
        "id": "UIQ5QdAUMA3O",
        "colab_type": "text"
      },
      "source": [
        "## Outline\n",
        "\n",
        "- Built-in Data Structures\n",
        "- Numpy `array`\n",
        "- Pandas `Series`/`DataFrame`\n",
        "- Plotting and \"Real-World\" Analyses"
      ]
    },
    {
      "cell_type": "markdown",
      "metadata": {
        "id": "9Xv40oC5MA3Q",
        "colab_type": "text"
      },
      "source": [
        "# Data Structures"
      ]
    },
    {
      "cell_type": "markdown",
      "metadata": {
        "id": "022Mj0_hMA3S",
        "colab_type": "text"
      },
      "source": [
        "> Rule 5. Data dominates. If you've chosen the right data structures and organized things well, the algorithms\n",
        "will almost always be self-evident. Data structures, not algorithms, are central to programming.\n",
        "\n",
        "- *Notes on Programming in C*, by Rob Pike."
      ]
    },
    {
      "cell_type": "markdown",
      "metadata": {
        "id": "E2yY0etkMA3T",
        "colab_type": "text"
      },
      "source": [
        "# Lists"
      ]
    },
    {
      "cell_type": "code",
      "metadata": {
        "id": "BiYEzg6gMA3V",
        "colab_type": "code",
        "colab": {}
      },
      "source": [
        "ran_the_first_cell = True\n",
        "assert ran_the_first_cell, \"Oh noes!\""
      ],
      "execution_count": 4,
      "outputs": []
    },
    {
      "cell_type": "code",
      "metadata": {
        "id": "breTuG2INvat",
        "colab_type": "code",
        "colab": {}
      },
      "source": [
        "first_cell = True\n",
        "assert first_cell, \"Celda!\""
      ],
      "execution_count": 5,
      "outputs": []
    },
    {
      "cell_type": "code",
      "metadata": {
        "id": "m0AXN0pEMA3b",
        "colab_type": "code",
        "colab": {
          "base_uri": "https://localhost:8080/",
          "height": 35
        },
        "outputId": "4e4e18fd-3b39-4820-ceb6-179c1f56202d"
      },
      "source": [
        "l = [1, 'two', 3.0, 4, 5.0, \"six\"]\n",
        "l"
      ],
      "execution_count": 6,
      "outputs": [
        {
          "output_type": "execute_result",
          "data": {
            "text/plain": [
              "[1, 'two', 3.0, 4, 5.0, 'six']"
            ]
          },
          "metadata": {
            "tags": []
          },
          "execution_count": 6
        }
      ]
    },
    {
      "cell_type": "code",
      "metadata": {
        "id": "tI2GJ711N_kR",
        "colab_type": "code",
        "colab": {
          "base_uri": "https://localhost:8080/",
          "height": 35
        },
        "outputId": "b09d7b48-4927-4619-8fd2-92d5e032f3bd"
      },
      "source": [
        "ll = [1,True,'what',10.0,35.0,\"zzzz\"]\n",
        "print (ll)"
      ],
      "execution_count": 7,
      "outputs": [
        {
          "output_type": "stream",
          "text": [
            "[1, True, 'what', 10.0, 35.0, 'zzzz']\n"
          ],
          "name": "stdout"
        }
      ]
    },
    {
      "cell_type": "code",
      "metadata": {
        "id": "5BmNA-_wMA3i",
        "colab_type": "code",
        "colab": {
          "base_uri": "https://localhost:8080/",
          "height": 54
        },
        "outputId": "e6781415-78bc-4265-991d-6a18a7e0a736"
      },
      "source": [
        "# Lists can be indexed like C-style arrays.\n",
        "first = l[0]\n",
        "second = l[1]\n",
        "print(\"first:\", first)\n",
        "print(\"second:\", second)"
      ],
      "execution_count": 8,
      "outputs": [
        {
          "output_type": "stream",
          "text": [
            "first: 1\n",
            "second: two\n"
          ],
          "name": "stdout"
        }
      ]
    },
    {
      "cell_type": "code",
      "metadata": {
        "id": "RyugA1CuOfS0",
        "colab_type": "code",
        "colab": {
          "base_uri": "https://localhost:8080/",
          "height": 54
        },
        "outputId": "2ec7991e-b84e-46ca-b9d6-7a4b62320ccd"
      },
      "source": [
        "true = ll[1]\n",
        "six = ll[-1]\n",
        "print(\"True:\", true)\n",
        "print(\"second:\", six)"
      ],
      "execution_count": 9,
      "outputs": [
        {
          "output_type": "stream",
          "text": [
            "True: True\n",
            "second: zzzz\n"
          ],
          "name": "stdout"
        }
      ]
    },
    {
      "cell_type": "code",
      "metadata": {
        "id": "aU5A8QTvMA3p",
        "colab_type": "code",
        "colab": {
          "base_uri": "https://localhost:8080/",
          "height": 54
        },
        "outputId": "71423368-25f0-44ab-cadc-44371c0a660b"
      },
      "source": [
        "# Negative indexing gives elements relative to the end of the list.\n",
        "last = l[-1]\n",
        "penultimate = l[-2]\n",
        "print(\"last:\", last)\n",
        "print(\"second to last:\", penultimate)"
      ],
      "execution_count": 10,
      "outputs": [
        {
          "output_type": "stream",
          "text": [
            "last: six\n",
            "second to last: 5.0\n"
          ],
          "name": "stdout"
        }
      ]
    },
    {
      "cell_type": "code",
      "metadata": {
        "id": "KLEX0EFeO_jm",
        "colab_type": "code",
        "colab": {
          "base_uri": "https://localhost:8080/",
          "height": 54
        },
        "outputId": "bd4de3a6-cfcf-439d-cd91-00b7c0b3ca37"
      },
      "source": [
        "ulti = ll[-1]\n",
        "ante_penulti = ll[-3]\n",
        "print(ulti)\n",
        "print(ante_penulti)"
      ],
      "execution_count": 11,
      "outputs": [
        {
          "output_type": "stream",
          "text": [
            "zzzz\n",
            "10.0\n"
          ],
          "name": "stdout"
        }
      ]
    },
    {
      "cell_type": "code",
      "metadata": {
        "id": "y4QMhlPKMA3v",
        "colab_type": "code",
        "colab": {
          "base_uri": "https://localhost:8080/",
          "height": 35
        },
        "outputId": "fe915268-4364-4d35-f49f-f3ef4f16d608"
      },
      "source": [
        "# Lists can also be sliced, which makes a copy of elements between \n",
        "# start (inclusive) and stop (exclusive)\n",
        "sublist = l[1:3]\n",
        "sublist"
      ],
      "execution_count": 12,
      "outputs": [
        {
          "output_type": "execute_result",
          "data": {
            "text/plain": [
              "['two', 3.0]"
            ]
          },
          "metadata": {
            "tags": []
          },
          "execution_count": 12
        }
      ]
    },
    {
      "cell_type": "code",
      "metadata": {
        "id": "3YCp1S1OPJFb",
        "colab_type": "code",
        "colab": {
          "base_uri": "https://localhost:8080/",
          "height": 35
        },
        "outputId": "b701e588-0297-4f38-aef6-e9ae894984f9"
      },
      "source": [
        "mini_list = ll[0:4]\n",
        "print (mini_list)"
      ],
      "execution_count": 13,
      "outputs": [
        {
          "output_type": "stream",
          "text": [
            "[1, True, 'what', 10.0]\n"
          ],
          "name": "stdout"
        }
      ]
    },
    {
      "cell_type": "code",
      "metadata": {
        "id": "sDuG_A76MA30",
        "colab_type": "code",
        "colab": {
          "base_uri": "https://localhost:8080/",
          "height": 35
        },
        "outputId": "dadb640c-8b5b-4184-dfc5-559fc373cc88"
      },
      "source": [
        "# l[:N] is equivalent to l[0:N].\n",
        "first_three = l[:3]\n",
        "first_three"
      ],
      "execution_count": 14,
      "outputs": [
        {
          "output_type": "execute_result",
          "data": {
            "text/plain": [
              "[1, 'two', 3.0]"
            ]
          },
          "metadata": {
            "tags": []
          },
          "execution_count": 14
        }
      ]
    },
    {
      "cell_type": "code",
      "metadata": {
        "id": "fhArQdCpPWdr",
        "colab_type": "code",
        "colab": {
          "base_uri": "https://localhost:8080/",
          "height": 35
        },
        "outputId": "7fda619c-f819-4d53-952f-9d0226828a47"
      },
      "source": [
        "primeros_Dos = ll[:2]\n",
        "primeros_Dos"
      ],
      "execution_count": 15,
      "outputs": [
        {
          "output_type": "execute_result",
          "data": {
            "text/plain": [
              "[1, True]"
            ]
          },
          "metadata": {
            "tags": []
          },
          "execution_count": 15
        }
      ]
    },
    {
      "cell_type": "code",
      "metadata": {
        "id": "E8Y-roPXMA35",
        "colab_type": "code",
        "colab": {
          "base_uri": "https://localhost:8080/",
          "height": 35
        },
        "outputId": "de32b845-8435-4b04-cde1-7bd0cfa8e0ee"
      },
      "source": [
        "# l[3:] is equivalent to l[3:len(l)].\n",
        "after_three = l[3:]\n",
        "after_three"
      ],
      "execution_count": 16,
      "outputs": [
        {
          "output_type": "execute_result",
          "data": {
            "text/plain": [
              "[4, 5.0, 'six']"
            ]
          },
          "metadata": {
            "tags": []
          },
          "execution_count": 16
        }
      ]
    },
    {
      "cell_type": "code",
      "metadata": {
        "id": "tUB299xFPoUs",
        "colab_type": "code",
        "colab": {
          "base_uri": "https://localhost:8080/",
          "height": 35
        },
        "outputId": "7470e8f9-e065-4f34-e8d8-ad4eba9c481f"
      },
      "source": [
        "sin_primeros_cuatro = ll[4:]\n",
        "sin_primeros_cuatro"
      ],
      "execution_count": 17,
      "outputs": [
        {
          "output_type": "execute_result",
          "data": {
            "text/plain": [
              "[35.0, 'zzzz']"
            ]
          },
          "metadata": {
            "tags": []
          },
          "execution_count": 17
        }
      ]
    },
    {
      "cell_type": "code",
      "metadata": {
        "id": "s6NwUb_JMA3_",
        "colab_type": "code",
        "colab": {
          "base_uri": "https://localhost:8080/",
          "height": 35
        },
        "outputId": "a65b37de-2178-4bc2-d8d1-2c4d6d1fd171"
      },
      "source": [
        "# There's also a third parameter, \"step\", which gets every Nth element.\n",
        "l = ['a', 'b', 'c', 'd', 'e', 'f', 'g','h']\n",
        "l[1:7:2]"
      ],
      "execution_count": 18,
      "outputs": [
        {
          "output_type": "execute_result",
          "data": {
            "text/plain": [
              "['b', 'd', 'f']"
            ]
          },
          "metadata": {
            "tags": []
          },
          "execution_count": 18
        }
      ]
    },
    {
      "cell_type": "code",
      "metadata": {
        "id": "_nTkdO2CPwgT",
        "colab_type": "code",
        "colab": {
          "base_uri": "https://localhost:8080/",
          "height": 35
        },
        "outputId": "dfab2049-9e40-4848-8d86-9b55b15d5e83"
      },
      "source": [
        "vocales = ['a', 'e', 'i', 'o', 'u']\n",
        "vocales[::3]"
      ],
      "execution_count": 19,
      "outputs": [
        {
          "output_type": "execute_result",
          "data": {
            "text/plain": [
              "['a', 'o']"
            ]
          },
          "metadata": {
            "tags": []
          },
          "execution_count": 19
        }
      ]
    },
    {
      "cell_type": "code",
      "metadata": {
        "id": "WdgttmN3MA4D",
        "colab_type": "code",
        "colab": {
          "base_uri": "https://localhost:8080/",
          "height": 35
        },
        "outputId": "5e1caefe-4d08-41a1-acfa-b448583196fc"
      },
      "source": [
        "# This is a cute way to reverse a list.\n",
        "l[::-1]"
      ],
      "execution_count": 20,
      "outputs": [
        {
          "output_type": "execute_result",
          "data": {
            "text/plain": [
              "['h', 'g', 'f', 'e', 'd', 'c', 'b', 'a']"
            ]
          },
          "metadata": {
            "tags": []
          },
          "execution_count": 20
        }
      ]
    },
    {
      "cell_type": "code",
      "metadata": {
        "id": "KkS47RLgP6lp",
        "colab_type": "code",
        "colab": {
          "base_uri": "https://localhost:8080/",
          "height": 35
        },
        "outputId": "636dfa90-a74b-4fae-ef30-ff6c651b52fa"
      },
      "source": [
        "rev_voc = vocales[::-1]\n",
        "rev_voc"
      ],
      "execution_count": 21,
      "outputs": [
        {
          "output_type": "execute_result",
          "data": {
            "text/plain": [
              "['u', 'o', 'i', 'e', 'a']"
            ]
          },
          "metadata": {
            "tags": []
          },
          "execution_count": 21
        }
      ]
    },
    {
      "cell_type": "code",
      "metadata": {
        "id": "cl_obiPCMA4J",
        "colab_type": "code",
        "colab": {
          "base_uri": "https://localhost:8080/",
          "height": 54
        },
        "outputId": "9fd773f3-b086-47b0-fa05-22dcba146f60"
      },
      "source": [
        "# Lists can be grown efficiently (in O(1) amortized time).\n",
        "l = [1, 2, 3, 4, 5]\n",
        "print(\"Before:\", l)\n",
        "l.append('six')\n",
        "print(\"After:\", l)"
      ],
      "execution_count": 22,
      "outputs": [
        {
          "output_type": "stream",
          "text": [
            "Before: [1, 2, 3, 4, 5]\n",
            "After: [1, 2, 3, 4, 5, 'six']\n"
          ],
          "name": "stdout"
        }
      ]
    },
    {
      "cell_type": "code",
      "metadata": {
        "id": "0Fi8jJfwQiXt",
        "colab_type": "code",
        "colab": {
          "base_uri": "https://localhost:8080/",
          "height": 54
        },
        "outputId": "2bfe71b3-4cea-4a70-8581-a4d4fe66179a"
      },
      "source": [
        "print (ll)\n",
        "ll.append('He llegado')\n",
        "print (ll)"
      ],
      "execution_count": 23,
      "outputs": [
        {
          "output_type": "stream",
          "text": [
            "[1, True, 'what', 10.0, 35.0, 'zzzz']\n",
            "[1, True, 'what', 10.0, 35.0, 'zzzz', 'He llegado']\n"
          ],
          "name": "stdout"
        }
      ]
    },
    {
      "cell_type": "code",
      "metadata": {
        "id": "_2VYsbWzMA4O",
        "colab_type": "code",
        "colab": {
          "base_uri": "https://localhost:8080/",
          "height": 35
        },
        "outputId": "042574e3-3fca-4760-8272-7f3f053d3f21"
      },
      "source": [
        "# Comprehensions let us perform elementwise computations.\n",
        "l = [1, 2, 3, 4, 5]\n",
        "[x * 2 for x in l]"
      ],
      "execution_count": 24,
      "outputs": [
        {
          "output_type": "execute_result",
          "data": {
            "text/plain": [
              "[2, 4, 6, 8, 10]"
            ]
          },
          "metadata": {
            "tags": []
          },
          "execution_count": 24
        }
      ]
    },
    {
      "cell_type": "code",
      "metadata": {
        "id": "Iwou3sQFQrxy",
        "colab_type": "code",
        "colab": {
          "base_uri": "https://localhost:8080/",
          "height": 35
        },
        "outputId": "6dcfd0da-e6c5-418c-d583-367ab8781b4c"
      },
      "source": [
        "pares = [0,2,4,6,8,10]\n",
        "print('impares', [x+1 for x in pares])"
      ],
      "execution_count": 25,
      "outputs": [
        {
          "output_type": "stream",
          "text": [
            "impares [1, 3, 5, 7, 9, 11]\n"
          ],
          "name": "stdout"
        }
      ]
    },
    {
      "cell_type": "markdown",
      "metadata": {
        "ein.tags": "worksheet-0",
        "id": "GcRZ7P9BMA4U",
        "colab_type": "text"
      },
      "source": [
        "## Review: Python Lists\n",
        "\n",
        "- Zero-indexed sequence of arbitrary Python values.\n",
        "- Slicing syntax: `l[start:stop:step]` copies elements at regular intervals from `start` to `stop`.\n",
        "- Efficient (`O(1)`) appends and removes from end.\n",
        "- Comprehension syntax: `[f(x) for x in l if cond(x)]`."
      ]
    },
    {
      "cell_type": "markdown",
      "metadata": {
        "id": "i5MtLBs1MA4V",
        "colab_type": "text"
      },
      "source": [
        "# Dictionaries"
      ]
    },
    {
      "cell_type": "code",
      "metadata": {
        "id": "rArBYO03MA4W",
        "colab_type": "code",
        "colab": {
          "base_uri": "https://localhost:8080/",
          "height": 35
        },
        "outputId": "e2cee116-c967-42b1-8d0d-345ec9bae16d"
      },
      "source": [
        "# Dictionaries are key-value mappings.\n",
        "philosophers = {'David': 'Hume', 'Immanuel': 'Kant', 'Bertrand': 'Russell'}\n",
        "philosophers"
      ],
      "execution_count": 26,
      "outputs": [
        {
          "output_type": "execute_result",
          "data": {
            "text/plain": [
              "{'Bertrand': 'Russell', 'David': 'Hume', 'Immanuel': 'Kant'}"
            ]
          },
          "metadata": {
            "tags": []
          },
          "execution_count": 26
        }
      ]
    },
    {
      "cell_type": "code",
      "metadata": {
        "id": "ndOKpni1SH2L",
        "colab_type": "code",
        "colab": {
          "base_uri": "https://localhost:8080/",
          "height": 35
        },
        "outputId": "8b27aa36-9bfa-49b3-c759-dc207f801c9e"
      },
      "source": [
        "chino_basico = {'Hola': '你好', 'Adios': '再见', 'bueno': '好'}\n",
        "chino_basico"
      ],
      "execution_count": 27,
      "outputs": [
        {
          "output_type": "execute_result",
          "data": {
            "text/plain": [
              "{'Adios': '再见', 'Hola': '你好', 'bueno': '好'}"
            ]
          },
          "metadata": {
            "tags": []
          },
          "execution_count": 27
        }
      ]
    },
    {
      "cell_type": "code",
      "metadata": {
        "id": "3WsZBNLKMA4b",
        "colab_type": "code",
        "colab": {
          "base_uri": "https://localhost:8080/",
          "height": 90
        },
        "outputId": "d47af6cd-04d7-42a1-ffe1-28aefa0b4cee"
      },
      "source": [
        "# Like lists, dictionaries are size-mutable.\n",
        "philosophers['Ludwig'] = 'Wittgenstein'\n",
        "philosophers"
      ],
      "execution_count": 28,
      "outputs": [
        {
          "output_type": "execute_result",
          "data": {
            "text/plain": [
              "{'Bertrand': 'Russell',\n",
              " 'David': 'Hume',\n",
              " 'Immanuel': 'Kant',\n",
              " 'Ludwig': 'Wittgenstein'}"
            ]
          },
          "metadata": {
            "tags": []
          },
          "execution_count": 28
        }
      ]
    },
    {
      "cell_type": "code",
      "metadata": {
        "id": "8ppYGH0dSrNf",
        "colab_type": "code",
        "colab": {
          "base_uri": "https://localhost:8080/",
          "height": 35
        },
        "outputId": "5da380fe-9a98-45de-b4e2-536c2828b6bf"
      },
      "source": [
        "chino_basico['Adios'] = '下次见'\n",
        "chino_basico"
      ],
      "execution_count": 29,
      "outputs": [
        {
          "output_type": "execute_result",
          "data": {
            "text/plain": [
              "{'Adios': '下次见', 'Hola': '你好', 'bueno': '好'}"
            ]
          },
          "metadata": {
            "tags": []
          },
          "execution_count": 29
        }
      ]
    },
    {
      "cell_type": "code",
      "metadata": {
        "id": "CJnYiQdUMA4h",
        "colab_type": "code",
        "colab": {
          "base_uri": "https://localhost:8080/",
          "height": 35
        },
        "outputId": "c08acb88-c15a-4a11-b588-1a225c79a2aa"
      },
      "source": [
        "del philosophers['David']\n",
        "philosophers"
      ],
      "execution_count": 30,
      "outputs": [
        {
          "output_type": "execute_result",
          "data": {
            "text/plain": [
              "{'Bertrand': 'Russell', 'Immanuel': 'Kant', 'Ludwig': 'Wittgenstein'}"
            ]
          },
          "metadata": {
            "tags": []
          },
          "execution_count": 30
        }
      ]
    },
    {
      "cell_type": "code",
      "metadata": {
        "id": "AAqXxPRIS9Ip",
        "colab_type": "code",
        "colab": {
          "base_uri": "https://localhost:8080/",
          "height": 35
        },
        "outputId": "e22fd1fc-c237-4bcd-9bbe-0deac865d6de"
      },
      "source": [
        "del chino_basico['bueno']\n",
        "chino_basico"
      ],
      "execution_count": 31,
      "outputs": [
        {
          "output_type": "execute_result",
          "data": {
            "text/plain": [
              "{'Adios': '下次见', 'Hola': '你好'}"
            ]
          },
          "metadata": {
            "tags": []
          },
          "execution_count": 31
        }
      ]
    },
    {
      "cell_type": "code",
      "metadata": {
        "id": "3dGRVv45MA4l",
        "colab_type": "code",
        "colab": {}
      },
      "source": [
        "# No slicing.\n",
        "#philosophers['Bertrand':'Immanuel']"
      ],
      "execution_count": 32,
      "outputs": []
    },
    {
      "cell_type": "code",
      "metadata": {
        "id": "h-2CF-c5THO5",
        "colab_type": "code",
        "colab": {}
      },
      "source": [
        "#No slicing, da error el intentar tomar ciertas partes del diccionario"
      ],
      "execution_count": 33,
      "outputs": []
    },
    {
      "cell_type": "markdown",
      "metadata": {
        "ein.tags": "worksheet-0",
        "id": "4BCJvDY6MA4o",
        "colab_type": "text"
      },
      "source": [
        "## Review: Python Dictionaries\n",
        "\n",
        "- Unordered key-value mapping from (almost) arbitrary keys to arbitrary values.\n",
        "- Efficient (`O(1)`) lookup, insertion, and deletion.\n",
        "- No slicing (would require a notion of order)."
      ]
    },
    {
      "cell_type": "markdown",
      "metadata": {
        "id": "of-OxGeVMA4o",
        "colab_type": "text"
      },
      "source": [
        "<center><img src=\"images/pacino.gif\" alt=\"Drawing\" style=\"width: 100%;\"/></center>\n"
      ]
    },
    {
      "cell_type": "code",
      "metadata": {
        "id": "KJIbWRyBMA4q",
        "colab_type": "code",
        "colab": {}
      },
      "source": [
        "# Suppose we have some matrices...\n",
        "a = [[1, 2, 3],\n",
        "     [2, 3, 4],\n",
        "     [5, 6, 7],\n",
        "     [1, 1, 1]]\n",
        "\n",
        "b = [[1, 2, 3, 4],\n",
        "     [2, 3, 4, 5]]"
      ],
      "execution_count": 34,
      "outputs": []
    },
    {
      "cell_type": "code",
      "metadata": {
        "id": "Id_580cUT0z2",
        "colab_type": "code",
        "colab": {}
      },
      "source": [
        "#matrices\n",
        "aa = [[1, 1, 2],\n",
        "     [3, 5, 8],\n",
        "     [13, 21, 34],\n",
        "     [55, 89, 144]]\n",
        "\n",
        "bb = [[1, 1, 2, 2],\n",
        "     [3, 3, 4, 4],\n",
        "     [5, 5, 6, 6]]"
      ],
      "execution_count": 35,
      "outputs": []
    },
    {
      "cell_type": "code",
      "metadata": {
        "id": "Lg452aHNMA4u",
        "colab_type": "code",
        "colab": {}
      },
      "source": [
        "def matmul(A, B):\n",
        "    \"\"\"Multiply matrix A by matrix B.\"\"\"\n",
        "    rows_out = len(A)\n",
        "    cols_out = len(B[0])\n",
        "    out = [[0 for col in range(cols_out)] for row in range(rows_out)]\n",
        "    \n",
        "    for i in range(rows_out):\n",
        "        for j in range(cols_out):\n",
        "            for k in range(len(B)):\n",
        "                out[i][j] += A[i][k] * B[k][j]\n",
        "    return out"
      ],
      "execution_count": 36,
      "outputs": []
    },
    {
      "cell_type": "code",
      "metadata": {
        "id": "pvR3xifgUtEQ",
        "colab_type": "code",
        "colab": {
          "base_uri": "https://localhost:8080/",
          "height": 72
        },
        "outputId": "638d2557-413c-4b93-9430-c0f0c5b12901"
      },
      "source": [
        "ba = matmul(bb,aa)\n",
        "for i in range(len(ba)):\n",
        "  print(ba[i])"
      ],
      "execution_count": 37,
      "outputs": [
        {
          "output_type": "stream",
          "text": [
            "[140, 226, 366]\n",
            "[284, 458, 742]\n",
            "[428, 690, 1118]\n"
          ],
          "name": "stdout"
        }
      ]
    },
    {
      "cell_type": "markdown",
      "metadata": {
        "id": "S5RtBeEXMA4x",
        "colab_type": "text"
      },
      "source": [
        "<center><img src=\"images/gross.gif\" alt=\"Drawing\" style=\"width: 50%;\"/></center>\n"
      ]
    },
    {
      "cell_type": "code",
      "metadata": {
        "id": "xIdxRrtWMA4z",
        "colab_type": "code",
        "colab": {
          "base_uri": "https://localhost:8080/",
          "height": 72
        },
        "outputId": "fdb44a52-642b-4702-a4d5-3f88cafc7153"
      },
      "source": [
        "%%time\n",
        "matmul(a, b)"
      ],
      "execution_count": 38,
      "outputs": [
        {
          "output_type": "stream",
          "text": [
            "CPU times: user 32 µs, sys: 6 µs, total: 38 µs\n",
            "Wall time: 41.5 µs\n"
          ],
          "name": "stdout"
        },
        {
          "output_type": "execute_result",
          "data": {
            "text/plain": [
              "[[5, 8, 11, 14], [8, 13, 18, 23], [17, 28, 39, 50], [3, 5, 7, 9]]"
            ]
          },
          "metadata": {
            "tags": []
          },
          "execution_count": 38
        }
      ]
    },
    {
      "cell_type": "code",
      "metadata": {
        "id": "IaKrDyAMV8zI",
        "colab_type": "code",
        "colab": {
          "base_uri": "https://localhost:8080/",
          "height": 72
        },
        "outputId": "4a0baded-5e78-4245-e43f-8c06d20a3db3"
      },
      "source": [
        "%%time \n",
        "matmul(bb,aa)"
      ],
      "execution_count": 39,
      "outputs": [
        {
          "output_type": "stream",
          "text": [
            "CPU times: user 26 µs, sys: 5 µs, total: 31 µs\n",
            "Wall time: 35.3 µs\n"
          ],
          "name": "stdout"
        },
        {
          "output_type": "execute_result",
          "data": {
            "text/plain": [
              "[[140, 226, 366], [284, 458, 742], [428, 690, 1118]]"
            ]
          },
          "metadata": {
            "tags": []
          },
          "execution_count": 39
        }
      ]
    },
    {
      "cell_type": "code",
      "metadata": {
        "id": "zujMbYxRMA43",
        "colab_type": "code",
        "colab": {
          "base_uri": "https://localhost:8080/",
          "height": 54
        },
        "outputId": "746d871f-db9c-43af-8760-cc1d15edf0c6"
      },
      "source": [
        "import random\n",
        "def random_matrix(m, n):\n",
        "    out = []\n",
        "    for row in range(m):\n",
        "        out.append([random.random() for _ in range(n)])\n",
        "    return out\n",
        "\n",
        "randm = random_matrix(2, 3)\n",
        "randm"
      ],
      "execution_count": 40,
      "outputs": [
        {
          "output_type": "execute_result",
          "data": {
            "text/plain": [
              "[[0.13510018105340293, 0.42396836493460477, 0.6772149337424976],\n",
              " [0.03490200494410822, 0.05315353787215693, 0.840585138009219]]"
            ]
          },
          "metadata": {
            "tags": []
          },
          "execution_count": 40
        }
      ]
    },
    {
      "cell_type": "code",
      "metadata": {
        "id": "gDLDdJQnWHLO",
        "colab_type": "code",
        "colab": {
          "base_uri": "https://localhost:8080/",
          "height": 90
        },
        "outputId": "73f8aec0-139f-488f-a7ab-dac8c1f7937e"
      },
      "source": [
        "%%time\n",
        "rand = matmul(random_matrix(2,2),random_matrix(2,4))\n",
        "for i in range(len(rand)):\n",
        "  print(rand[i])"
      ],
      "execution_count": 41,
      "outputs": [
        {
          "output_type": "stream",
          "text": [
            "[0.18614652919724473, 0.546775679353335, 0.07874881202502709, 0.43083457376675766]\n",
            "[0.5520356910470828, 0.3432842925597293, 0.3171187197895554, 0.16473882047908192]\n",
            "CPU times: user 1.02 ms, sys: 6 µs, total: 1.03 ms\n",
            "Wall time: 1.79 ms\n"
          ],
          "name": "stdout"
        }
      ]
    },
    {
      "cell_type": "code",
      "metadata": {
        "scrolled": true,
        "id": "UHEP_HNQMA47",
        "colab_type": "code",
        "colab": {
          "base_uri": "https://localhost:8080/",
          "height": 54
        },
        "outputId": "e698f454-b160-4f5f-e7dd-b066931f6141"
      },
      "source": [
        "%%time\n",
        "randa = random_matrix(600, 100)\n",
        "randb = random_matrix(100, 600)\n",
        "x = matmul(randa, randb)"
      ],
      "execution_count": 42,
      "outputs": [
        {
          "output_type": "stream",
          "text": [
            "CPU times: user 6.96 s, sys: 9.81 ms, total: 6.97 s\n",
            "Wall time: 6.97 s\n"
          ],
          "name": "stdout"
        }
      ]
    },
    {
      "cell_type": "code",
      "metadata": {
        "id": "3VXoTWqmWyLL",
        "colab_type": "code",
        "colab": {
          "base_uri": "https://localhost:8080/",
          "height": 109
        },
        "outputId": "1df85979-d81c-4023-bd80-f79e7ac223f8"
      },
      "source": [
        "%%time\n",
        "randd = matmul(matmul(random_matrix(3,3),random_matrix(3,4)),matmul(random_matrix(4,4),random_matrix(4,3)))\n",
        "for i in range(len(randd)):\n",
        "  print(randd[i])"
      ],
      "execution_count": 43,
      "outputs": [
        {
          "output_type": "stream",
          "text": [
            "[0.6797527399687204, 0.7997011219992598, 0.7492525635679921]\n",
            "[2.2506372798108214, 2.641714948332586, 2.4706692737419185]\n",
            "[1.444875443621982, 1.6837869540366137, 1.606435751007763]\n",
            "CPU times: user 1e+03 µs, sys: 0 ns, total: 1e+03 µs\n",
            "Wall time: 850 µs\n"
          ],
          "name": "stdout"
        }
      ]
    },
    {
      "cell_type": "code",
      "metadata": {
        "id": "DzmcsthcMA4_",
        "colab_type": "code",
        "colab": {}
      },
      "source": [
        "# Maybe that's not that bad?  Let's try a simpler case.\n",
        "def python_dot_product(xs, ys):\n",
        "    return sum(x * y for x, y in zip(xs, ys))"
      ],
      "execution_count": 44,
      "outputs": []
    },
    {
      "cell_type": "code",
      "metadata": {
        "id": "kgA42JSoMA5E",
        "colab_type": "code",
        "colab": {}
      },
      "source": [
        "%%fortran\n",
        "subroutine fortran_dot_product(xs, ys, result)\n",
        "    double precision, intent(in) :: xs(:)\n",
        "    double precision, intent(in) :: ys(:)\n",
        "    double precision, intent(out) :: result\n",
        "    \n",
        "    result = sum(xs * ys)\n",
        "end"
      ],
      "execution_count": 45,
      "outputs": []
    },
    {
      "cell_type": "code",
      "metadata": {
        "id": "LyxEOCMBMA5H",
        "colab_type": "code",
        "colab": {}
      },
      "source": [
        "list_data = [float(i) for i in range(100000)]\n",
        "array_data = np.array(list_data)"
      ],
      "execution_count": 46,
      "outputs": []
    },
    {
      "cell_type": "code",
      "metadata": {
        "id": "XNhazej0Xk4_",
        "colab_type": "code",
        "colab": {}
      },
      "source": [
        "numeros = [(i*2)+1 for i in range (100000)]\n",
        "ad = np.array(numeros)"
      ],
      "execution_count": 47,
      "outputs": []
    },
    {
      "cell_type": "code",
      "metadata": {
        "id": "-o2WqXHSMA5M",
        "colab_type": "code",
        "colab": {
          "base_uri": "https://localhost:8080/",
          "height": 72
        },
        "outputId": "7ed314ef-f7ce-4da5-f9e2-8646643dbd0e"
      },
      "source": [
        "%%time\n",
        "python_dot_product(list_data, list_data)"
      ],
      "execution_count": 48,
      "outputs": [
        {
          "output_type": "stream",
          "text": [
            "CPU times: user 11 ms, sys: 0 ns, total: 11 ms\n",
            "Wall time: 11.8 ms\n"
          ],
          "name": "stdout"
        },
        {
          "output_type": "execute_result",
          "data": {
            "text/plain": [
              "333328333350000.0"
            ]
          },
          "metadata": {
            "tags": []
          },
          "execution_count": 48
        }
      ]
    },
    {
      "cell_type": "code",
      "metadata": {
        "id": "A1EKe8mXX7ls",
        "colab_type": "code",
        "colab": {
          "base_uri": "https://localhost:8080/",
          "height": 72
        },
        "outputId": "4c70646e-847c-4ac6-990f-1b545d0bff9e"
      },
      "source": [
        "%%time\n",
        "python_dot_product(ad,ad)"
      ],
      "execution_count": 49,
      "outputs": [
        {
          "output_type": "stream",
          "text": [
            "CPU times: user 51.1 ms, sys: 1.05 ms, total: 52.1 ms\n",
            "Wall time: 52.5 ms\n"
          ],
          "name": "stdout"
        },
        {
          "output_type": "execute_result",
          "data": {
            "text/plain": [
              "1333333333300000"
            ]
          },
          "metadata": {
            "tags": []
          },
          "execution_count": 49
        }
      ]
    },
    {
      "cell_type": "code",
      "metadata": {
        "id": "2JDfXXqfMA5P",
        "colab_type": "code",
        "colab": {
          "base_uri": "https://localhost:8080/",
          "height": 72
        },
        "outputId": "f5f1eda0-b121-4a87-b2c4-e707b05a0938"
      },
      "source": [
        "%%time\n",
        "fortran_dot_product(array_data, array_data)"
      ],
      "execution_count": 50,
      "outputs": [
        {
          "output_type": "stream",
          "text": [
            "CPU times: user 223 µs, sys: 0 ns, total: 223 µs\n",
            "Wall time: 230 µs\n"
          ],
          "name": "stdout"
        },
        {
          "output_type": "execute_result",
          "data": {
            "text/plain": [
              "333328333350000.0"
            ]
          },
          "metadata": {
            "tags": []
          },
          "execution_count": 50
        }
      ]
    },
    {
      "cell_type": "code",
      "metadata": {
        "id": "TIgHxqZNYA0L",
        "colab_type": "code",
        "colab": {
          "base_uri": "https://localhost:8080/",
          "height": 72
        },
        "outputId": "982cdaa7-9839-416c-e2f2-a766ecea6141"
      },
      "source": [
        "%%time\n",
        "fortran_dot_product(ad,ad)"
      ],
      "execution_count": 51,
      "outputs": [
        {
          "output_type": "stream",
          "text": [
            "CPU times: user 1.53 ms, sys: 978 µs, total: 2.5 ms\n",
            "Wall time: 2.24 ms\n"
          ],
          "name": "stdout"
        },
        {
          "output_type": "execute_result",
          "data": {
            "text/plain": [
              "1333333333300000.0"
            ]
          },
          "metadata": {
            "tags": []
          },
          "execution_count": 51
        }
      ]
    },
    {
      "cell_type": "markdown",
      "metadata": {
        "id": "KlDHBcCMMA5T",
        "colab_type": "text"
      },
      "source": [
        "<center><img src=\"images/sloth.gif\" alt=\"Drawing\" style=\"width: 1080px;\"/></center>\n"
      ]
    },
    {
      "cell_type": "markdown",
      "metadata": {
        "id": "eRDTzc_FMA5W",
        "colab_type": "text"
      },
      "source": [
        "## Why is the Python Version so Much Slower?"
      ]
    },
    {
      "cell_type": "code",
      "metadata": {
        "id": "-PuDYyGqMA5X",
        "colab_type": "code",
        "colab": {
          "base_uri": "https://localhost:8080/",
          "height": 35
        },
        "outputId": "aac7b17b-edb0-4847-f0a0-e8091a6c722d"
      },
      "source": [
        "# Dynamic typing.\n",
        "def mul_elemwise(xs, ys):\n",
        "    return [x * y for x, y in zip(xs, ys)]\n",
        "\n",
        "mul_elemwise([1, 2, 3, 4], [1, 2 + 0j, 3.0, 'four'])\n",
        "#[type(x) for x in _]"
      ],
      "execution_count": 52,
      "outputs": [
        {
          "output_type": "execute_result",
          "data": {
            "text/plain": [
              "[1, (4+0j), 9.0, 'fourfourfourfour']"
            ]
          },
          "metadata": {
            "tags": []
          },
          "execution_count": 52
        }
      ]
    },
    {
      "cell_type": "code",
      "metadata": {
        "id": "aUfTz0ZgZKVw",
        "colab_type": "code",
        "colab": {
          "base_uri": "https://localhost:8080/",
          "height": 1000
        },
        "outputId": "a9880115-2c51-45f5-c75b-1cbdd0a2e1b7"
      },
      "source": [
        "mul_elemwise(ad,list_data)"
      ],
      "execution_count": 53,
      "outputs": [
        {
          "output_type": "execute_result",
          "data": {
            "text/plain": [
              "[0.0,\n",
              " 3.0,\n",
              " 10.0,\n",
              " 21.0,\n",
              " 36.0,\n",
              " 55.0,\n",
              " 78.0,\n",
              " 105.0,\n",
              " 136.0,\n",
              " 171.0,\n",
              " 210.0,\n",
              " 253.0,\n",
              " 300.0,\n",
              " 351.0,\n",
              " 406.0,\n",
              " 465.0,\n",
              " 528.0,\n",
              " 595.0,\n",
              " 666.0,\n",
              " 741.0,\n",
              " 820.0,\n",
              " 903.0,\n",
              " 990.0,\n",
              " 1081.0,\n",
              " 1176.0,\n",
              " 1275.0,\n",
              " 1378.0,\n",
              " 1485.0,\n",
              " 1596.0,\n",
              " 1711.0,\n",
              " 1830.0,\n",
              " 1953.0,\n",
              " 2080.0,\n",
              " 2211.0,\n",
              " 2346.0,\n",
              " 2485.0,\n",
              " 2628.0,\n",
              " 2775.0,\n",
              " 2926.0,\n",
              " 3081.0,\n",
              " 3240.0,\n",
              " 3403.0,\n",
              " 3570.0,\n",
              " 3741.0,\n",
              " 3916.0,\n",
              " 4095.0,\n",
              " 4278.0,\n",
              " 4465.0,\n",
              " 4656.0,\n",
              " 4851.0,\n",
              " 5050.0,\n",
              " 5253.0,\n",
              " 5460.0,\n",
              " 5671.0,\n",
              " 5886.0,\n",
              " 6105.0,\n",
              " 6328.0,\n",
              " 6555.0,\n",
              " 6786.0,\n",
              " 7021.0,\n",
              " 7260.0,\n",
              " 7503.0,\n",
              " 7750.0,\n",
              " 8001.0,\n",
              " 8256.0,\n",
              " 8515.0,\n",
              " 8778.0,\n",
              " 9045.0,\n",
              " 9316.0,\n",
              " 9591.0,\n",
              " 9870.0,\n",
              " 10153.0,\n",
              " 10440.0,\n",
              " 10731.0,\n",
              " 11026.0,\n",
              " 11325.0,\n",
              " 11628.0,\n",
              " 11935.0,\n",
              " 12246.0,\n",
              " 12561.0,\n",
              " 12880.0,\n",
              " 13203.0,\n",
              " 13530.0,\n",
              " 13861.0,\n",
              " 14196.0,\n",
              " 14535.0,\n",
              " 14878.0,\n",
              " 15225.0,\n",
              " 15576.0,\n",
              " 15931.0,\n",
              " 16290.0,\n",
              " 16653.0,\n",
              " 17020.0,\n",
              " 17391.0,\n",
              " 17766.0,\n",
              " 18145.0,\n",
              " 18528.0,\n",
              " 18915.0,\n",
              " 19306.0,\n",
              " 19701.0,\n",
              " 20100.0,\n",
              " 20503.0,\n",
              " 20910.0,\n",
              " 21321.0,\n",
              " 21736.0,\n",
              " 22155.0,\n",
              " 22578.0,\n",
              " 23005.0,\n",
              " 23436.0,\n",
              " 23871.0,\n",
              " 24310.0,\n",
              " 24753.0,\n",
              " 25200.0,\n",
              " 25651.0,\n",
              " 26106.0,\n",
              " 26565.0,\n",
              " 27028.0,\n",
              " 27495.0,\n",
              " 27966.0,\n",
              " 28441.0,\n",
              " 28920.0,\n",
              " 29403.0,\n",
              " 29890.0,\n",
              " 30381.0,\n",
              " 30876.0,\n",
              " 31375.0,\n",
              " 31878.0,\n",
              " 32385.0,\n",
              " 32896.0,\n",
              " 33411.0,\n",
              " 33930.0,\n",
              " 34453.0,\n",
              " 34980.0,\n",
              " 35511.0,\n",
              " 36046.0,\n",
              " 36585.0,\n",
              " 37128.0,\n",
              " 37675.0,\n",
              " 38226.0,\n",
              " 38781.0,\n",
              " 39340.0,\n",
              " 39903.0,\n",
              " 40470.0,\n",
              " 41041.0,\n",
              " 41616.0,\n",
              " 42195.0,\n",
              " 42778.0,\n",
              " 43365.0,\n",
              " 43956.0,\n",
              " 44551.0,\n",
              " 45150.0,\n",
              " 45753.0,\n",
              " 46360.0,\n",
              " 46971.0,\n",
              " 47586.0,\n",
              " 48205.0,\n",
              " 48828.0,\n",
              " 49455.0,\n",
              " 50086.0,\n",
              " 50721.0,\n",
              " 51360.0,\n",
              " 52003.0,\n",
              " 52650.0,\n",
              " 53301.0,\n",
              " 53956.0,\n",
              " 54615.0,\n",
              " 55278.0,\n",
              " 55945.0,\n",
              " 56616.0,\n",
              " 57291.0,\n",
              " 57970.0,\n",
              " 58653.0,\n",
              " 59340.0,\n",
              " 60031.0,\n",
              " 60726.0,\n",
              " 61425.0,\n",
              " 62128.0,\n",
              " 62835.0,\n",
              " 63546.0,\n",
              " 64261.0,\n",
              " 64980.0,\n",
              " 65703.0,\n",
              " 66430.0,\n",
              " 67161.0,\n",
              " 67896.0,\n",
              " 68635.0,\n",
              " 69378.0,\n",
              " 70125.0,\n",
              " 70876.0,\n",
              " 71631.0,\n",
              " 72390.0,\n",
              " 73153.0,\n",
              " 73920.0,\n",
              " 74691.0,\n",
              " 75466.0,\n",
              " 76245.0,\n",
              " 77028.0,\n",
              " 77815.0,\n",
              " 78606.0,\n",
              " 79401.0,\n",
              " 80200.0,\n",
              " 81003.0,\n",
              " 81810.0,\n",
              " 82621.0,\n",
              " 83436.0,\n",
              " 84255.0,\n",
              " 85078.0,\n",
              " 85905.0,\n",
              " 86736.0,\n",
              " 87571.0,\n",
              " 88410.0,\n",
              " 89253.0,\n",
              " 90100.0,\n",
              " 90951.0,\n",
              " 91806.0,\n",
              " 92665.0,\n",
              " 93528.0,\n",
              " 94395.0,\n",
              " 95266.0,\n",
              " 96141.0,\n",
              " 97020.0,\n",
              " 97903.0,\n",
              " 98790.0,\n",
              " 99681.0,\n",
              " 100576.0,\n",
              " 101475.0,\n",
              " 102378.0,\n",
              " 103285.0,\n",
              " 104196.0,\n",
              " 105111.0,\n",
              " 106030.0,\n",
              " 106953.0,\n",
              " 107880.0,\n",
              " 108811.0,\n",
              " 109746.0,\n",
              " 110685.0,\n",
              " 111628.0,\n",
              " 112575.0,\n",
              " 113526.0,\n",
              " 114481.0,\n",
              " 115440.0,\n",
              " 116403.0,\n",
              " 117370.0,\n",
              " 118341.0,\n",
              " 119316.0,\n",
              " 120295.0,\n",
              " 121278.0,\n",
              " 122265.0,\n",
              " 123256.0,\n",
              " 124251.0,\n",
              " 125250.0,\n",
              " 126253.0,\n",
              " 127260.0,\n",
              " 128271.0,\n",
              " 129286.0,\n",
              " 130305.0,\n",
              " 131328.0,\n",
              " 132355.0,\n",
              " 133386.0,\n",
              " 134421.0,\n",
              " 135460.0,\n",
              " 136503.0,\n",
              " 137550.0,\n",
              " 138601.0,\n",
              " 139656.0,\n",
              " 140715.0,\n",
              " 141778.0,\n",
              " 142845.0,\n",
              " 143916.0,\n",
              " 144991.0,\n",
              " 146070.0,\n",
              " 147153.0,\n",
              " 148240.0,\n",
              " 149331.0,\n",
              " 150426.0,\n",
              " 151525.0,\n",
              " 152628.0,\n",
              " 153735.0,\n",
              " 154846.0,\n",
              " 155961.0,\n",
              " 157080.0,\n",
              " 158203.0,\n",
              " 159330.0,\n",
              " 160461.0,\n",
              " 161596.0,\n",
              " 162735.0,\n",
              " 163878.0,\n",
              " 165025.0,\n",
              " 166176.0,\n",
              " 167331.0,\n",
              " 168490.0,\n",
              " 169653.0,\n",
              " 170820.0,\n",
              " 171991.0,\n",
              " 173166.0,\n",
              " 174345.0,\n",
              " 175528.0,\n",
              " 176715.0,\n",
              " 177906.0,\n",
              " 179101.0,\n",
              " 180300.0,\n",
              " 181503.0,\n",
              " 182710.0,\n",
              " 183921.0,\n",
              " 185136.0,\n",
              " 186355.0,\n",
              " 187578.0,\n",
              " 188805.0,\n",
              " 190036.0,\n",
              " 191271.0,\n",
              " 192510.0,\n",
              " 193753.0,\n",
              " 195000.0,\n",
              " 196251.0,\n",
              " 197506.0,\n",
              " 198765.0,\n",
              " 200028.0,\n",
              " 201295.0,\n",
              " 202566.0,\n",
              " 203841.0,\n",
              " 205120.0,\n",
              " 206403.0,\n",
              " 207690.0,\n",
              " 208981.0,\n",
              " 210276.0,\n",
              " 211575.0,\n",
              " 212878.0,\n",
              " 214185.0,\n",
              " 215496.0,\n",
              " 216811.0,\n",
              " 218130.0,\n",
              " 219453.0,\n",
              " 220780.0,\n",
              " 222111.0,\n",
              " 223446.0,\n",
              " 224785.0,\n",
              " 226128.0,\n",
              " 227475.0,\n",
              " 228826.0,\n",
              " 230181.0,\n",
              " 231540.0,\n",
              " 232903.0,\n",
              " 234270.0,\n",
              " 235641.0,\n",
              " 237016.0,\n",
              " 238395.0,\n",
              " 239778.0,\n",
              " 241165.0,\n",
              " 242556.0,\n",
              " 243951.0,\n",
              " 245350.0,\n",
              " 246753.0,\n",
              " 248160.0,\n",
              " 249571.0,\n",
              " 250986.0,\n",
              " 252405.0,\n",
              " 253828.0,\n",
              " 255255.0,\n",
              " 256686.0,\n",
              " 258121.0,\n",
              " 259560.0,\n",
              " 261003.0,\n",
              " 262450.0,\n",
              " 263901.0,\n",
              " 265356.0,\n",
              " 266815.0,\n",
              " 268278.0,\n",
              " 269745.0,\n",
              " 271216.0,\n",
              " 272691.0,\n",
              " 274170.0,\n",
              " 275653.0,\n",
              " 277140.0,\n",
              " 278631.0,\n",
              " 280126.0,\n",
              " 281625.0,\n",
              " 283128.0,\n",
              " 284635.0,\n",
              " 286146.0,\n",
              " 287661.0,\n",
              " 289180.0,\n",
              " 290703.0,\n",
              " 292230.0,\n",
              " 293761.0,\n",
              " 295296.0,\n",
              " 296835.0,\n",
              " 298378.0,\n",
              " 299925.0,\n",
              " 301476.0,\n",
              " 303031.0,\n",
              " 304590.0,\n",
              " 306153.0,\n",
              " 307720.0,\n",
              " 309291.0,\n",
              " 310866.0,\n",
              " 312445.0,\n",
              " 314028.0,\n",
              " 315615.0,\n",
              " 317206.0,\n",
              " 318801.0,\n",
              " 320400.0,\n",
              " 322003.0,\n",
              " 323610.0,\n",
              " 325221.0,\n",
              " 326836.0,\n",
              " 328455.0,\n",
              " 330078.0,\n",
              " 331705.0,\n",
              " 333336.0,\n",
              " 334971.0,\n",
              " 336610.0,\n",
              " 338253.0,\n",
              " 339900.0,\n",
              " 341551.0,\n",
              " 343206.0,\n",
              " 344865.0,\n",
              " 346528.0,\n",
              " 348195.0,\n",
              " 349866.0,\n",
              " 351541.0,\n",
              " 353220.0,\n",
              " 354903.0,\n",
              " 356590.0,\n",
              " 358281.0,\n",
              " 359976.0,\n",
              " 361675.0,\n",
              " 363378.0,\n",
              " 365085.0,\n",
              " 366796.0,\n",
              " 368511.0,\n",
              " 370230.0,\n",
              " 371953.0,\n",
              " 373680.0,\n",
              " 375411.0,\n",
              " 377146.0,\n",
              " 378885.0,\n",
              " 380628.0,\n",
              " 382375.0,\n",
              " 384126.0,\n",
              " 385881.0,\n",
              " 387640.0,\n",
              " 389403.0,\n",
              " 391170.0,\n",
              " 392941.0,\n",
              " 394716.0,\n",
              " 396495.0,\n",
              " 398278.0,\n",
              " 400065.0,\n",
              " 401856.0,\n",
              " 403651.0,\n",
              " 405450.0,\n",
              " 407253.0,\n",
              " 409060.0,\n",
              " 410871.0,\n",
              " 412686.0,\n",
              " 414505.0,\n",
              " 416328.0,\n",
              " 418155.0,\n",
              " 419986.0,\n",
              " 421821.0,\n",
              " 423660.0,\n",
              " 425503.0,\n",
              " 427350.0,\n",
              " 429201.0,\n",
              " 431056.0,\n",
              " 432915.0,\n",
              " 434778.0,\n",
              " 436645.0,\n",
              " 438516.0,\n",
              " 440391.0,\n",
              " 442270.0,\n",
              " 444153.0,\n",
              " 446040.0,\n",
              " 447931.0,\n",
              " 449826.0,\n",
              " 451725.0,\n",
              " 453628.0,\n",
              " 455535.0,\n",
              " 457446.0,\n",
              " 459361.0,\n",
              " 461280.0,\n",
              " 463203.0,\n",
              " 465130.0,\n",
              " 467061.0,\n",
              " 468996.0,\n",
              " 470935.0,\n",
              " 472878.0,\n",
              " 474825.0,\n",
              " 476776.0,\n",
              " 478731.0,\n",
              " 480690.0,\n",
              " 482653.0,\n",
              " 484620.0,\n",
              " 486591.0,\n",
              " 488566.0,\n",
              " 490545.0,\n",
              " 492528.0,\n",
              " 494515.0,\n",
              " 496506.0,\n",
              " 498501.0,\n",
              " 500500.0,\n",
              " 502503.0,\n",
              " 504510.0,\n",
              " 506521.0,\n",
              " 508536.0,\n",
              " 510555.0,\n",
              " 512578.0,\n",
              " 514605.0,\n",
              " 516636.0,\n",
              " 518671.0,\n",
              " 520710.0,\n",
              " 522753.0,\n",
              " 524800.0,\n",
              " 526851.0,\n",
              " 528906.0,\n",
              " 530965.0,\n",
              " 533028.0,\n",
              " 535095.0,\n",
              " 537166.0,\n",
              " 539241.0,\n",
              " 541320.0,\n",
              " 543403.0,\n",
              " 545490.0,\n",
              " 547581.0,\n",
              " 549676.0,\n",
              " 551775.0,\n",
              " 553878.0,\n",
              " 555985.0,\n",
              " 558096.0,\n",
              " 560211.0,\n",
              " 562330.0,\n",
              " 564453.0,\n",
              " 566580.0,\n",
              " 568711.0,\n",
              " 570846.0,\n",
              " 572985.0,\n",
              " 575128.0,\n",
              " 577275.0,\n",
              " 579426.0,\n",
              " 581581.0,\n",
              " 583740.0,\n",
              " 585903.0,\n",
              " 588070.0,\n",
              " 590241.0,\n",
              " 592416.0,\n",
              " 594595.0,\n",
              " 596778.0,\n",
              " 598965.0,\n",
              " 601156.0,\n",
              " 603351.0,\n",
              " 605550.0,\n",
              " 607753.0,\n",
              " 609960.0,\n",
              " 612171.0,\n",
              " 614386.0,\n",
              " 616605.0,\n",
              " 618828.0,\n",
              " 621055.0,\n",
              " 623286.0,\n",
              " 625521.0,\n",
              " 627760.0,\n",
              " 630003.0,\n",
              " 632250.0,\n",
              " 634501.0,\n",
              " 636756.0,\n",
              " 639015.0,\n",
              " 641278.0,\n",
              " 643545.0,\n",
              " 645816.0,\n",
              " 648091.0,\n",
              " 650370.0,\n",
              " 652653.0,\n",
              " 654940.0,\n",
              " 657231.0,\n",
              " 659526.0,\n",
              " 661825.0,\n",
              " 664128.0,\n",
              " 666435.0,\n",
              " 668746.0,\n",
              " 671061.0,\n",
              " 673380.0,\n",
              " 675703.0,\n",
              " 678030.0,\n",
              " 680361.0,\n",
              " 682696.0,\n",
              " 685035.0,\n",
              " 687378.0,\n",
              " 689725.0,\n",
              " 692076.0,\n",
              " 694431.0,\n",
              " 696790.0,\n",
              " 699153.0,\n",
              " 701520.0,\n",
              " 703891.0,\n",
              " 706266.0,\n",
              " 708645.0,\n",
              " 711028.0,\n",
              " 713415.0,\n",
              " 715806.0,\n",
              " 718201.0,\n",
              " 720600.0,\n",
              " 723003.0,\n",
              " 725410.0,\n",
              " 727821.0,\n",
              " 730236.0,\n",
              " 732655.0,\n",
              " 735078.0,\n",
              " 737505.0,\n",
              " 739936.0,\n",
              " 742371.0,\n",
              " 744810.0,\n",
              " 747253.0,\n",
              " 749700.0,\n",
              " 752151.0,\n",
              " 754606.0,\n",
              " 757065.0,\n",
              " 759528.0,\n",
              " 761995.0,\n",
              " 764466.0,\n",
              " 766941.0,\n",
              " 769420.0,\n",
              " 771903.0,\n",
              " 774390.0,\n",
              " 776881.0,\n",
              " 779376.0,\n",
              " 781875.0,\n",
              " 784378.0,\n",
              " 786885.0,\n",
              " 789396.0,\n",
              " 791911.0,\n",
              " 794430.0,\n",
              " 796953.0,\n",
              " 799480.0,\n",
              " 802011.0,\n",
              " 804546.0,\n",
              " 807085.0,\n",
              " 809628.0,\n",
              " 812175.0,\n",
              " 814726.0,\n",
              " 817281.0,\n",
              " 819840.0,\n",
              " 822403.0,\n",
              " 824970.0,\n",
              " 827541.0,\n",
              " 830116.0,\n",
              " 832695.0,\n",
              " 835278.0,\n",
              " 837865.0,\n",
              " 840456.0,\n",
              " 843051.0,\n",
              " 845650.0,\n",
              " 848253.0,\n",
              " 850860.0,\n",
              " 853471.0,\n",
              " 856086.0,\n",
              " 858705.0,\n",
              " 861328.0,\n",
              " 863955.0,\n",
              " 866586.0,\n",
              " 869221.0,\n",
              " 871860.0,\n",
              " 874503.0,\n",
              " 877150.0,\n",
              " 879801.0,\n",
              " 882456.0,\n",
              " 885115.0,\n",
              " 887778.0,\n",
              " 890445.0,\n",
              " 893116.0,\n",
              " 895791.0,\n",
              " 898470.0,\n",
              " 901153.0,\n",
              " 903840.0,\n",
              " 906531.0,\n",
              " 909226.0,\n",
              " 911925.0,\n",
              " 914628.0,\n",
              " 917335.0,\n",
              " 920046.0,\n",
              " 922761.0,\n",
              " 925480.0,\n",
              " 928203.0,\n",
              " 930930.0,\n",
              " 933661.0,\n",
              " 936396.0,\n",
              " 939135.0,\n",
              " 941878.0,\n",
              " 944625.0,\n",
              " 947376.0,\n",
              " 950131.0,\n",
              " 952890.0,\n",
              " 955653.0,\n",
              " 958420.0,\n",
              " 961191.0,\n",
              " 963966.0,\n",
              " 966745.0,\n",
              " 969528.0,\n",
              " 972315.0,\n",
              " 975106.0,\n",
              " 977901.0,\n",
              " 980700.0,\n",
              " 983503.0,\n",
              " 986310.0,\n",
              " 989121.0,\n",
              " 991936.0,\n",
              " 994755.0,\n",
              " 997578.0,\n",
              " 1000405.0,\n",
              " 1003236.0,\n",
              " 1006071.0,\n",
              " 1008910.0,\n",
              " 1011753.0,\n",
              " 1014600.0,\n",
              " 1017451.0,\n",
              " 1020306.0,\n",
              " 1023165.0,\n",
              " 1026028.0,\n",
              " 1028895.0,\n",
              " 1031766.0,\n",
              " 1034641.0,\n",
              " 1037520.0,\n",
              " 1040403.0,\n",
              " 1043290.0,\n",
              " 1046181.0,\n",
              " 1049076.0,\n",
              " 1051975.0,\n",
              " 1054878.0,\n",
              " 1057785.0,\n",
              " 1060696.0,\n",
              " 1063611.0,\n",
              " 1066530.0,\n",
              " 1069453.0,\n",
              " 1072380.0,\n",
              " 1075311.0,\n",
              " 1078246.0,\n",
              " 1081185.0,\n",
              " 1084128.0,\n",
              " 1087075.0,\n",
              " 1090026.0,\n",
              " 1092981.0,\n",
              " 1095940.0,\n",
              " 1098903.0,\n",
              " 1101870.0,\n",
              " 1104841.0,\n",
              " 1107816.0,\n",
              " 1110795.0,\n",
              " 1113778.0,\n",
              " 1116765.0,\n",
              " 1119756.0,\n",
              " 1122751.0,\n",
              " 1125750.0,\n",
              " 1128753.0,\n",
              " 1131760.0,\n",
              " 1134771.0,\n",
              " 1137786.0,\n",
              " 1140805.0,\n",
              " 1143828.0,\n",
              " 1146855.0,\n",
              " 1149886.0,\n",
              " 1152921.0,\n",
              " 1155960.0,\n",
              " 1159003.0,\n",
              " 1162050.0,\n",
              " 1165101.0,\n",
              " 1168156.0,\n",
              " 1171215.0,\n",
              " 1174278.0,\n",
              " 1177345.0,\n",
              " 1180416.0,\n",
              " 1183491.0,\n",
              " 1186570.0,\n",
              " 1189653.0,\n",
              " 1192740.0,\n",
              " 1195831.0,\n",
              " 1198926.0,\n",
              " 1202025.0,\n",
              " 1205128.0,\n",
              " 1208235.0,\n",
              " 1211346.0,\n",
              " 1214461.0,\n",
              " 1217580.0,\n",
              " 1220703.0,\n",
              " 1223830.0,\n",
              " 1226961.0,\n",
              " 1230096.0,\n",
              " 1233235.0,\n",
              " 1236378.0,\n",
              " 1239525.0,\n",
              " 1242676.0,\n",
              " 1245831.0,\n",
              " 1248990.0,\n",
              " 1252153.0,\n",
              " 1255320.0,\n",
              " 1258491.0,\n",
              " 1261666.0,\n",
              " 1264845.0,\n",
              " 1268028.0,\n",
              " 1271215.0,\n",
              " 1274406.0,\n",
              " 1277601.0,\n",
              " 1280800.0,\n",
              " 1284003.0,\n",
              " 1287210.0,\n",
              " 1290421.0,\n",
              " 1293636.0,\n",
              " 1296855.0,\n",
              " 1300078.0,\n",
              " 1303305.0,\n",
              " 1306536.0,\n",
              " 1309771.0,\n",
              " 1313010.0,\n",
              " 1316253.0,\n",
              " 1319500.0,\n",
              " 1322751.0,\n",
              " 1326006.0,\n",
              " 1329265.0,\n",
              " 1332528.0,\n",
              " 1335795.0,\n",
              " 1339066.0,\n",
              " 1342341.0,\n",
              " 1345620.0,\n",
              " 1348903.0,\n",
              " 1352190.0,\n",
              " 1355481.0,\n",
              " 1358776.0,\n",
              " 1362075.0,\n",
              " 1365378.0,\n",
              " 1368685.0,\n",
              " 1371996.0,\n",
              " 1375311.0,\n",
              " 1378630.0,\n",
              " 1381953.0,\n",
              " 1385280.0,\n",
              " 1388611.0,\n",
              " 1391946.0,\n",
              " 1395285.0,\n",
              " 1398628.0,\n",
              " 1401975.0,\n",
              " 1405326.0,\n",
              " 1408681.0,\n",
              " 1412040.0,\n",
              " 1415403.0,\n",
              " 1418770.0,\n",
              " 1422141.0,\n",
              " 1425516.0,\n",
              " 1428895.0,\n",
              " 1432278.0,\n",
              " 1435665.0,\n",
              " 1439056.0,\n",
              " 1442451.0,\n",
              " 1445850.0,\n",
              " 1449253.0,\n",
              " 1452660.0,\n",
              " 1456071.0,\n",
              " 1459486.0,\n",
              " 1462905.0,\n",
              " 1466328.0,\n",
              " 1469755.0,\n",
              " 1473186.0,\n",
              " 1476621.0,\n",
              " 1480060.0,\n",
              " 1483503.0,\n",
              " 1486950.0,\n",
              " 1490401.0,\n",
              " 1493856.0,\n",
              " 1497315.0,\n",
              " 1500778.0,\n",
              " 1504245.0,\n",
              " 1507716.0,\n",
              " 1511191.0,\n",
              " 1514670.0,\n",
              " 1518153.0,\n",
              " 1521640.0,\n",
              " 1525131.0,\n",
              " 1528626.0,\n",
              " 1532125.0,\n",
              " 1535628.0,\n",
              " 1539135.0,\n",
              " 1542646.0,\n",
              " 1546161.0,\n",
              " 1549680.0,\n",
              " 1553203.0,\n",
              " 1556730.0,\n",
              " 1560261.0,\n",
              " 1563796.0,\n",
              " 1567335.0,\n",
              " 1570878.0,\n",
              " 1574425.0,\n",
              " 1577976.0,\n",
              " 1581531.0,\n",
              " 1585090.0,\n",
              " 1588653.0,\n",
              " 1592220.0,\n",
              " 1595791.0,\n",
              " 1599366.0,\n",
              " 1602945.0,\n",
              " 1606528.0,\n",
              " 1610115.0,\n",
              " 1613706.0,\n",
              " 1617301.0,\n",
              " 1620900.0,\n",
              " 1624503.0,\n",
              " 1628110.0,\n",
              " 1631721.0,\n",
              " 1635336.0,\n",
              " 1638955.0,\n",
              " 1642578.0,\n",
              " 1646205.0,\n",
              " 1649836.0,\n",
              " 1653471.0,\n",
              " 1657110.0,\n",
              " 1660753.0,\n",
              " 1664400.0,\n",
              " 1668051.0,\n",
              " 1671706.0,\n",
              " 1675365.0,\n",
              " 1679028.0,\n",
              " 1682695.0,\n",
              " 1686366.0,\n",
              " 1690041.0,\n",
              " 1693720.0,\n",
              " 1697403.0,\n",
              " 1701090.0,\n",
              " 1704781.0,\n",
              " 1708476.0,\n",
              " 1712175.0,\n",
              " 1715878.0,\n",
              " 1719585.0,\n",
              " 1723296.0,\n",
              " 1727011.0,\n",
              " 1730730.0,\n",
              " 1734453.0,\n",
              " 1738180.0,\n",
              " 1741911.0,\n",
              " 1745646.0,\n",
              " 1749385.0,\n",
              " 1753128.0,\n",
              " 1756875.0,\n",
              " 1760626.0,\n",
              " 1764381.0,\n",
              " 1768140.0,\n",
              " 1771903.0,\n",
              " 1775670.0,\n",
              " 1779441.0,\n",
              " 1783216.0,\n",
              " 1786995.0,\n",
              " 1790778.0,\n",
              " 1794565.0,\n",
              " 1798356.0,\n",
              " 1802151.0,\n",
              " 1805950.0,\n",
              " 1809753.0,\n",
              " 1813560.0,\n",
              " 1817371.0,\n",
              " 1821186.0,\n",
              " 1825005.0,\n",
              " 1828828.0,\n",
              " 1832655.0,\n",
              " 1836486.0,\n",
              " 1840321.0,\n",
              " 1844160.0,\n",
              " 1848003.0,\n",
              " 1851850.0,\n",
              " 1855701.0,\n",
              " 1859556.0,\n",
              " 1863415.0,\n",
              " 1867278.0,\n",
              " 1871145.0,\n",
              " 1875016.0,\n",
              " 1878891.0,\n",
              " 1882770.0,\n",
              " 1886653.0,\n",
              " 1890540.0,\n",
              " 1894431.0,\n",
              " 1898326.0,\n",
              " 1902225.0,\n",
              " 1906128.0,\n",
              " 1910035.0,\n",
              " 1913946.0,\n",
              " 1917861.0,\n",
              " 1921780.0,\n",
              " 1925703.0,\n",
              " 1929630.0,\n",
              " 1933561.0,\n",
              " 1937496.0,\n",
              " 1941435.0,\n",
              " 1945378.0,\n",
              " 1949325.0,\n",
              " 1953276.0,\n",
              " 1957231.0,\n",
              " 1961190.0,\n",
              " 1965153.0,\n",
              " 1969120.0,\n",
              " 1973091.0,\n",
              " 1977066.0,\n",
              " 1981045.0,\n",
              " 1985028.0,\n",
              " 1989015.0,\n",
              " 1993006.0,\n",
              " 1997001.0,\n",
              " ...]"
            ]
          },
          "metadata": {
            "tags": []
          },
          "execution_count": 53
        }
      ]
    },
    {
      "cell_type": "code",
      "metadata": {
        "id": "dEXXzxlfMA5a",
        "colab_type": "code",
        "colab": {
          "base_uri": "https://localhost:8080/",
          "height": 127
        },
        "outputId": "132164f7-232f-4549-a4f2-d239c5bfc663"
      },
      "source": [
        "# Interpretation overhead.\n",
        "source_code = 'a + b * c'\n",
        "bytecode = compile(source_code, '', 'eval')\n",
        "import dis; dis.dis(bytecode)"
      ],
      "execution_count": 54,
      "outputs": [
        {
          "output_type": "stream",
          "text": [
            "  1           0 LOAD_NAME                0 (a)\n",
            "              2 LOAD_NAME                1 (b)\n",
            "              4 LOAD_NAME                2 (c)\n",
            "              6 BINARY_MULTIPLY\n",
            "              8 BINARY_ADD\n",
            "             10 RETURN_VALUE\n"
          ],
          "name": "stdout"
        }
      ]
    },
    {
      "cell_type": "code",
      "metadata": {
        "id": "X1g_BDEOZ1Mm",
        "colab_type": "code",
        "colab": {
          "base_uri": "https://localhost:8080/",
          "height": 201
        },
        "outputId": "fcef3af7-d3d7-4f93-8951-f715b964fa14"
      },
      "source": [
        "source = 'aaa + b * c + \"aaaa\" * 2131'\n",
        "bytee = compile(source, '', 'eval')\n",
        "import dis; dis.dis(bytee)"
      ],
      "execution_count": 55,
      "outputs": [
        {
          "output_type": "stream",
          "text": [
            "  1           0 LOAD_NAME                0 (aaa)\n",
            "              2 LOAD_NAME                1 (b)\n",
            "              4 LOAD_NAME                2 (c)\n",
            "              6 BINARY_MULTIPLY\n",
            "              8 BINARY_ADD\n",
            "             10 LOAD_CONST               0 ('aaaa')\n",
            "             12 LOAD_CONST               1 (2131)\n",
            "             14 BINARY_MULTIPLY\n",
            "             16 BINARY_ADD\n",
            "             18 RETURN_VALUE\n"
          ],
          "name": "stdout"
        }
      ]
    },
    {
      "cell_type": "markdown",
      "metadata": {
        "id": "WwTowPTpMA5e",
        "colab_type": "text"
      },
      "source": [
        "## Why is the Python Version so Slow?\n",
        "- Dynamic typing means that every single operation requires dispatching on the input type.\n",
        "- Having an interpreter means that every instruction is fetched and dispatched at runtime.\n",
        "- Other overheads:\n",
        "  - Arbitrary-size integers.\n",
        "  - Reference-counted garbage collection."
      ]
    },
    {
      "cell_type": "markdown",
      "metadata": {
        "id": "yxlQZVlBMA5f",
        "colab_type": "text"
      },
      "source": [
        "> This is the paradox that we have to work with when we're doing scientific or numerically-intensive Python. What makes Python fast for development -- this high-level, interpreted, and dynamically-typed aspect of the language -- is exactly what makes it slow for code execution.\n",
        "\n",
        "- Jake VanderPlas, [*Losing Your Loops: Fast Numerical Computing with NumPy*](https://www.youtube.com/watch?v=EEUXKG97YRw)"
      ]
    },
    {
      "cell_type": "markdown",
      "metadata": {
        "id": "9RcQZ20TMA5f",
        "colab_type": "text"
      },
      "source": [
        "# What Do We Do?"
      ]
    },
    {
      "cell_type": "markdown",
      "metadata": {
        "id": "ELkRMB0BMA5h",
        "colab_type": "text"
      },
      "source": [
        "<center><img src=\"images/runaway.gif\" alt=\"Drawing\" style=\"width: 50%;\"/></center>"
      ]
    },
    {
      "cell_type": "markdown",
      "metadata": {
        "id": "7a0XLk4YMA5h",
        "colab_type": "text"
      },
      "source": [
        "<center><img src=\"images/thisisfine.gif\" alt=\"Drawing\" style=\"width: 1080px;\"/></center>"
      ]
    },
    {
      "cell_type": "markdown",
      "metadata": {
        "id": "OtB0SB1FMA5i",
        "colab_type": "text"
      },
      "source": [
        "- Python is slow for numerical computation because it performs dynamic dispatch on every operation we perform..."
      ]
    },
    {
      "cell_type": "markdown",
      "metadata": {
        "collapsed": true,
        "id": "n1JT8VqBMA5i",
        "colab_type": "text"
      },
      "source": [
        "- ...but often, we just want to do the same thing over and over in a loop!"
      ]
    },
    {
      "cell_type": "markdown",
      "metadata": {
        "id": "y7hy7TbLMA5i",
        "colab_type": "text"
      },
      "source": [
        "- If we don't need Python's dynamicism, we don't want to pay (much) for it."
      ]
    },
    {
      "cell_type": "markdown",
      "metadata": {
        "id": "N1n2HqwCMA5j",
        "colab_type": "text"
      },
      "source": [
        "- **Idea:** Dispatch **once per operation** instead of **once per element**."
      ]
    },
    {
      "cell_type": "code",
      "metadata": {
        "id": "rPKe3xQuMA5j",
        "colab_type": "code",
        "colab": {
          "base_uri": "https://localhost:8080/",
          "height": 35
        },
        "outputId": "864efc13-028d-4ddb-cd9f-81534f02456e"
      },
      "source": [
        "import numpy as np\n",
        "\n",
        "data = np.array([1, 2, 3, 4])\n",
        "data"
      ],
      "execution_count": 56,
      "outputs": [
        {
          "output_type": "execute_result",
          "data": {
            "text/plain": [
              "array([1, 2, 3, 4])"
            ]
          },
          "metadata": {
            "tags": []
          },
          "execution_count": 56
        }
      ]
    },
    {
      "cell_type": "code",
      "metadata": {
        "id": "rZoYvDf2aUQJ",
        "colab_type": "code",
        "colab": {
          "base_uri": "https://localhost:8080/",
          "height": 35
        },
        "outputId": "2590cebe-6e81-445e-9fa1-20ed3d61c4e0"
      },
      "source": [
        "pp = np.array([7,8,9,10,11,12,13])\n",
        "(pp+1)*2"
      ],
      "execution_count": 57,
      "outputs": [
        {
          "output_type": "execute_result",
          "data": {
            "text/plain": [
              "array([16, 18, 20, 22, 24, 26, 28])"
            ]
          },
          "metadata": {
            "tags": []
          },
          "execution_count": 57
        }
      ]
    },
    {
      "cell_type": "code",
      "metadata": {
        "id": "1W58SFK5MA5n",
        "colab_type": "code",
        "colab": {
          "base_uri": "https://localhost:8080/",
          "height": 35
        },
        "outputId": "117f78c9-d602-453a-cfc7-c88d7a3a8e8c"
      },
      "source": [
        "data + data"
      ],
      "execution_count": 58,
      "outputs": [
        {
          "output_type": "execute_result",
          "data": {
            "text/plain": [
              "array([2, 4, 6, 8])"
            ]
          },
          "metadata": {
            "tags": []
          },
          "execution_count": 58
        }
      ]
    },
    {
      "cell_type": "code",
      "metadata": {
        "id": "yzHbctG3aeoX",
        "colab_type": "code",
        "colab": {
          "base_uri": "https://localhost:8080/",
          "height": 35
        },
        "outputId": "e5f64af2-a6b7-4fa2-ab97-1e6faee2105f"
      },
      "source": [
        "pp * pp"
      ],
      "execution_count": 59,
      "outputs": [
        {
          "output_type": "execute_result",
          "data": {
            "text/plain": [
              "array([ 49,  64,  81, 100, 121, 144, 169])"
            ]
          },
          "metadata": {
            "tags": []
          },
          "execution_count": 59
        }
      ]
    },
    {
      "cell_type": "code",
      "metadata": {
        "id": "RA25AYbIMA5r",
        "colab_type": "code",
        "colab": {
          "base_uri": "https://localhost:8080/",
          "height": 72
        },
        "outputId": "b45cb3a3-cc9d-4328-e4cb-5044077967e6"
      },
      "source": [
        "%%time\n",
        "# Naive dot product\n",
        "(array_data * array_data).sum()"
      ],
      "execution_count": 60,
      "outputs": [
        {
          "output_type": "stream",
          "text": [
            "CPU times: user 585 µs, sys: 0 ns, total: 585 µs\n",
            "Wall time: 651 µs\n"
          ],
          "name": "stdout"
        },
        {
          "output_type": "execute_result",
          "data": {
            "text/plain": [
              "333328333350000.0"
            ]
          },
          "metadata": {
            "tags": []
          },
          "execution_count": 60
        }
      ]
    },
    {
      "cell_type": "code",
      "metadata": {
        "id": "Gv1K9Ajyax3D",
        "colab_type": "code",
        "colab": {
          "base_uri": "https://localhost:8080/",
          "height": 72
        },
        "outputId": "b7155d9e-d3ba-497e-d4c9-dffcc016c07b"
      },
      "source": [
        "%%time\n",
        "pp*pp"
      ],
      "execution_count": 61,
      "outputs": [
        {
          "output_type": "stream",
          "text": [
            "CPU times: user 22 µs, sys: 0 ns, total: 22 µs\n",
            "Wall time: 25 µs\n"
          ],
          "name": "stdout"
        },
        {
          "output_type": "execute_result",
          "data": {
            "text/plain": [
              "array([ 49,  64,  81, 100, 121, 144, 169])"
            ]
          },
          "metadata": {
            "tags": []
          },
          "execution_count": 61
        }
      ]
    },
    {
      "cell_type": "code",
      "metadata": {
        "id": "M4MyniRPMA5u",
        "colab_type": "code",
        "colab": {
          "base_uri": "https://localhost:8080/",
          "height": 72
        },
        "outputId": "37fdb2f1-0b6e-4315-fffd-a1446f9443d3"
      },
      "source": [
        "%%time\n",
        "# Built-in dot product.\n",
        "array_data.dot(array_data)"
      ],
      "execution_count": 62,
      "outputs": [
        {
          "output_type": "stream",
          "text": [
            "CPU times: user 323 µs, sys: 3.92 ms, total: 4.25 ms\n",
            "Wall time: 4.96 ms\n"
          ],
          "name": "stdout"
        },
        {
          "output_type": "execute_result",
          "data": {
            "text/plain": [
              "333328333350000.0"
            ]
          },
          "metadata": {
            "tags": []
          },
          "execution_count": 62
        }
      ]
    },
    {
      "cell_type": "code",
      "metadata": {
        "id": "7I39TyBXbIZo",
        "colab_type": "code",
        "colab": {
          "base_uri": "https://localhost:8080/",
          "height": 72
        },
        "outputId": "f2456955-7406-4f0f-b036-3d3e42956287"
      },
      "source": [
        "%%time\n",
        "pp.dot(pp)"
      ],
      "execution_count": 63,
      "outputs": [
        {
          "output_type": "stream",
          "text": [
            "CPU times: user 31 µs, sys: 1 µs, total: 32 µs\n",
            "Wall time: 36.5 µs\n"
          ],
          "name": "stdout"
        },
        {
          "output_type": "execute_result",
          "data": {
            "text/plain": [
              "728"
            ]
          },
          "metadata": {
            "tags": []
          },
          "execution_count": 63
        }
      ]
    },
    {
      "cell_type": "code",
      "metadata": {
        "id": "WxP0G8rXMA5x",
        "colab_type": "code",
        "colab": {
          "base_uri": "https://localhost:8080/",
          "height": 72
        },
        "outputId": "5d9aa47b-67d9-458c-ede4-b7a326951a6f"
      },
      "source": [
        "%%time\n",
        "fortran_dot_product(array_data, array_data)"
      ],
      "execution_count": 64,
      "outputs": [
        {
          "output_type": "stream",
          "text": [
            "CPU times: user 1 µs, sys: 192 µs, total: 193 µs\n",
            "Wall time: 201 µs\n"
          ],
          "name": "stdout"
        },
        {
          "output_type": "execute_result",
          "data": {
            "text/plain": [
              "333328333350000.0"
            ]
          },
          "metadata": {
            "tags": []
          },
          "execution_count": 64
        }
      ]
    },
    {
      "cell_type": "code",
      "metadata": {
        "id": "lz_MrXSJbMQ5",
        "colab_type": "code",
        "colab": {
          "base_uri": "https://localhost:8080/",
          "height": 72
        },
        "outputId": "efa519f2-0b0d-4549-fe6b-dd977e4d23de"
      },
      "source": [
        "%%time\n",
        "fortran_dot_product(fortran_dot_product(pp,pp),fortran_dot_product(pp,pp)) "
      ],
      "execution_count": 65,
      "outputs": [
        {
          "output_type": "stream",
          "text": [
            "CPU times: user 33 µs, sys: 1e+03 ns, total: 34 µs\n",
            "Wall time: 38.4 µs\n"
          ],
          "name": "stdout"
        },
        {
          "output_type": "execute_result",
          "data": {
            "text/plain": [
              "529984.0"
            ]
          },
          "metadata": {
            "tags": []
          },
          "execution_count": 65
        }
      ]
    },
    {
      "cell_type": "code",
      "metadata": {
        "id": "y1BURjRyMA51",
        "colab_type": "code",
        "colab": {}
      },
      "source": [
        "# Numpy won't allow us to write a string into an int array.\n",
        "#data[0] = \"foo\""
      ],
      "execution_count": 66,
      "outputs": []
    },
    {
      "cell_type": "code",
      "metadata": {
        "id": "jUwqLFambWDc",
        "colab_type": "code",
        "colab": {}
      },
      "source": [
        "#Numpy solo permite int dentro de int array...好"
      ],
      "execution_count": 67,
      "outputs": []
    },
    {
      "cell_type": "code",
      "metadata": {
        "id": "DeWouWiUMA53",
        "colab_type": "code",
        "colab": {}
      },
      "source": [
        "# We also can't grow an array once it's created.\n",
        "#data.append(3)"
      ],
      "execution_count": 68,
      "outputs": []
    },
    {
      "cell_type": "code",
      "metadata": {
        "id": "VZ0MFVEXbde7",
        "colab_type": "code",
        "colab": {}
      },
      "source": [
        "#No se puede incrementar el tamaño de un array una vez creado. "
      ],
      "execution_count": 69,
      "outputs": []
    },
    {
      "cell_type": "code",
      "metadata": {
        "id": "oKATAUZnMA57",
        "colab_type": "code",
        "colab": {
          "base_uri": "https://localhost:8080/",
          "height": 54
        },
        "outputId": "b32eb4fc-27be-4fd0-f54f-c5e753f6706d"
      },
      "source": [
        "# We **can** reshape an array though.\n",
        "two_by_two = data.reshape(2, 2)\n",
        "two_by_two"
      ],
      "execution_count": 70,
      "outputs": [
        {
          "output_type": "execute_result",
          "data": {
            "text/plain": [
              "array([[1, 2],\n",
              "       [3, 4]])"
            ]
          },
          "metadata": {
            "tags": []
          },
          "execution_count": 70
        }
      ]
    },
    {
      "cell_type": "code",
      "metadata": {
        "id": "VTYHfX_MbxRD",
        "colab_type": "code",
        "colab": {
          "base_uri": "https://localhost:8080/",
          "height": 146
        },
        "outputId": "c2060e56-d761-4e87-ca30-d8238625503c"
      },
      "source": [
        "# Se 'puede' cambiar el tamaño de un array, las comillas indican lo turbio de la cuestion.\n",
        "print(pp.shape)\n",
        "print(data.shape)\n",
        "ppp = np.array([5,6,7,8,9,10,11,12])\n",
        "print(ppp)\n",
        "aa = ppp.reshape(4,2)\n",
        "aa"
      ],
      "execution_count": 71,
      "outputs": [
        {
          "output_type": "stream",
          "text": [
            "(7,)\n",
            "(4,)\n",
            "[ 5  6  7  8  9 10 11 12]\n"
          ],
          "name": "stdout"
        },
        {
          "output_type": "execute_result",
          "data": {
            "text/plain": [
              "array([[ 5,  6],\n",
              "       [ 7,  8],\n",
              "       [ 9, 10],\n",
              "       [11, 12]])"
            ]
          },
          "metadata": {
            "tags": []
          },
          "execution_count": 71
        }
      ]
    },
    {
      "cell_type": "markdown",
      "metadata": {
        "id": "1kCN9tppMA59",
        "colab_type": "text"
      },
      "source": [
        "Numpy arrays are:\n",
        "\n",
        "- Fixed-type"
      ]
    },
    {
      "cell_type": "markdown",
      "metadata": {
        "id": "bb_zrDhcMA59",
        "colab_type": "text"
      },
      "source": [
        "- Size-immutable"
      ]
    },
    {
      "cell_type": "markdown",
      "metadata": {
        "id": "dpZthFKuMA5-",
        "colab_type": "text"
      },
      "source": [
        "- Multi-dimensional"
      ]
    },
    {
      "cell_type": "markdown",
      "metadata": {
        "id": "9wLMKr3oMA5-",
        "colab_type": "text"
      },
      "source": [
        "- Fast\\*"
      ]
    },
    {
      "cell_type": "markdown",
      "metadata": {
        "id": "IPJ2w4qfMA5_",
        "colab_type": "text"
      },
      "source": [
        "\\* If you use them correctly."
      ]
    },
    {
      "cell_type": "markdown",
      "metadata": {
        "id": "gOGDXceRMA6A",
        "colab_type": "text"
      },
      "source": [
        "# What's in an Array?"
      ]
    },
    {
      "cell_type": "code",
      "metadata": {
        "id": "NzBZkTEoMA6A",
        "colab_type": "code",
        "colab": {
          "base_uri": "https://localhost:8080/",
          "height": 164
        },
        "outputId": "73a7df9c-704f-42ab-a7f0-afe243c10e58"
      },
      "source": [
        "arr = np.array([1, 2, 3, 4, 5, 6], dtype='int16').reshape(2, 3)\n",
        "print(\"Array:\\n\", arr, sep='')\n",
        "print(\"===========\")\n",
        "print(\"DType:\", arr.dtype)\n",
        "print(\"Shape:\", arr.shape)\n",
        "print(\"Strides:\", arr.strides)\n",
        "print(\"Data:\", arr.data.tobytes())"
      ],
      "execution_count": 72,
      "outputs": [
        {
          "output_type": "stream",
          "text": [
            "Array:\n",
            "[[1 2 3]\n",
            " [4 5 6]]\n",
            "===========\n",
            "DType: int16\n",
            "Shape: (2, 3)\n",
            "Strides: (6, 2)\n",
            "Data: b'\\x01\\x00\\x02\\x00\\x03\\x00\\x04\\x00\\x05\\x00\\x06\\x00'\n"
          ],
          "name": "stdout"
        }
      ]
    },
    {
      "cell_type": "code",
      "metadata": {
        "id": "eXtus8rQdQg0",
        "colab_type": "code",
        "colab": {
          "base_uri": "https://localhost:8080/",
          "height": 182
        },
        "outputId": "d914b5a9-782a-4a4b-d357-22e535c6fb41"
      },
      "source": [
        "arr = np.array([4, 5, 6, 8, 9, 12,34,62,88], dtype='int16').reshape(3, 3)\n",
        "print(\"Array:\\n\", arr, sep='')\n",
        "print(\"===========\")\n",
        "print(\"DType:\", arr.dtype)\n",
        "print(\"Shape:\", arr.shape)\n",
        "print(\"Strides:\", arr.strides)\n",
        "print(\"Data:\", arr.data.tobytes())"
      ],
      "execution_count": 73,
      "outputs": [
        {
          "output_type": "stream",
          "text": [
            "Array:\n",
            "[[ 4  5  6]\n",
            " [ 8  9 12]\n",
            " [34 62 88]]\n",
            "===========\n",
            "DType: int16\n",
            "Shape: (3, 3)\n",
            "Strides: (6, 2)\n",
            "Data: b'\\x04\\x00\\x05\\x00\\x06\\x00\\x08\\x00\\t\\x00\\x0c\\x00\"\\x00>\\x00X\\x00'\n"
          ],
          "name": "stdout"
        }
      ]
    },
    {
      "cell_type": "markdown",
      "metadata": {
        "id": "A5hKh_xAMA6E",
        "colab_type": "text"
      },
      "source": [
        "# Core Operations\n",
        "\n",
        "- Vectorized **ufuncs** for elementwise operations.\n",
        "- Fancy indexing and masking for selection and filtering.\n",
        "- Aggregations across axes.\n",
        "- Broadcasting"
      ]
    },
    {
      "cell_type": "markdown",
      "metadata": {
        "id": "KPp03w68MA6E",
        "colab_type": "text"
      },
      "source": [
        "# UFuncs\n",
        "\n",
        "UFuncs (universal functions) are functions that operate elementwise on one or more arrays."
      ]
    },
    {
      "cell_type": "code",
      "metadata": {
        "id": "7zUYUj4UMA6F",
        "colab_type": "code",
        "colab": {
          "base_uri": "https://localhost:8080/",
          "height": 72
        },
        "outputId": "e643908a-b20c-4087-8942-d5a1c1eecc5e"
      },
      "source": [
        "data = np.arange(15).reshape(3, 5)\n",
        "data"
      ],
      "execution_count": 74,
      "outputs": [
        {
          "output_type": "execute_result",
          "data": {
            "text/plain": [
              "array([[ 0,  1,  2,  3,  4],\n",
              "       [ 5,  6,  7,  8,  9],\n",
              "       [10, 11, 12, 13, 14]])"
            ]
          },
          "metadata": {
            "tags": []
          },
          "execution_count": 74
        }
      ]
    },
    {
      "cell_type": "code",
      "metadata": {
        "id": "6aq_NCH8lc8g",
        "colab_type": "code",
        "colab": {
          "base_uri": "https://localhost:8080/",
          "height": 146
        },
        "outputId": "f6f76a0d-72a8-43dc-dd02-69941ee5637e"
      },
      "source": [
        "dd = np.arange(21).reshape(7,3)\n",
        "dd"
      ],
      "execution_count": 75,
      "outputs": [
        {
          "output_type": "execute_result",
          "data": {
            "text/plain": [
              "array([[ 0,  1,  2],\n",
              "       [ 3,  4,  5],\n",
              "       [ 6,  7,  8],\n",
              "       [ 9, 10, 11],\n",
              "       [12, 13, 14],\n",
              "       [15, 16, 17],\n",
              "       [18, 19, 20]])"
            ]
          },
          "metadata": {
            "tags": []
          },
          "execution_count": 75
        }
      ]
    },
    {
      "cell_type": "code",
      "metadata": {
        "id": "_0UqvqccMA6I",
        "colab_type": "code",
        "colab": {
          "base_uri": "https://localhost:8080/",
          "height": 146
        },
        "outputId": "f54ea82d-02fc-449a-93a8-cbde45b1349e"
      },
      "source": [
        "# Binary operators.\n",
        "dd+dd"
      ],
      "execution_count": 76,
      "outputs": [
        {
          "output_type": "execute_result",
          "data": {
            "text/plain": [
              "array([[ 0,  2,  4],\n",
              "       [ 6,  8, 10],\n",
              "       [12, 14, 16],\n",
              "       [18, 20, 22],\n",
              "       [24, 26, 28],\n",
              "       [30, 32, 34],\n",
              "       [36, 38, 40]])"
            ]
          },
          "metadata": {
            "tags": []
          },
          "execution_count": 76
        }
      ]
    },
    {
      "cell_type": "code",
      "metadata": {
        "id": "sLv4MzxfMA6M",
        "colab_type": "code",
        "colab": {
          "base_uri": "https://localhost:8080/",
          "height": 72
        },
        "outputId": "2603bd4c-4188-487b-8ac6-93219e812e5c"
      },
      "source": [
        "# Unary functions.\n",
        "np.sqrt(data)"
      ],
      "execution_count": 77,
      "outputs": [
        {
          "output_type": "execute_result",
          "data": {
            "text/plain": [
              "array([[0.        , 1.        , 1.41421356, 1.73205081, 2.        ],\n",
              "       [2.23606798, 2.44948974, 2.64575131, 2.82842712, 3.        ],\n",
              "       [3.16227766, 3.31662479, 3.46410162, 3.60555128, 3.74165739]])"
            ]
          },
          "metadata": {
            "tags": []
          },
          "execution_count": 77
        }
      ]
    },
    {
      "cell_type": "code",
      "metadata": {
        "id": "-nGN8_pZmhlu",
        "colab_type": "code",
        "colab": {
          "base_uri": "https://localhost:8080/",
          "height": 146
        },
        "outputId": "48bf59d9-219f-429a-ec87-ac489061cfae"
      },
      "source": [
        "np.sqrt(dd+dd)"
      ],
      "execution_count": 78,
      "outputs": [
        {
          "output_type": "execute_result",
          "data": {
            "text/plain": [
              "array([[0.        , 1.41421356, 2.        ],\n",
              "       [2.44948974, 2.82842712, 3.16227766],\n",
              "       [3.46410162, 3.74165739, 4.        ],\n",
              "       [4.24264069, 4.47213595, 4.69041576],\n",
              "       [4.89897949, 5.09901951, 5.29150262],\n",
              "       [5.47722558, 5.65685425, 5.83095189],\n",
              "       [6.        , 6.164414  , 6.32455532]])"
            ]
          },
          "metadata": {
            "tags": []
          },
          "execution_count": 78
        }
      ]
    },
    {
      "cell_type": "code",
      "metadata": {
        "id": "zLrp1PEjMA6f",
        "colab_type": "code",
        "colab": {
          "base_uri": "https://localhost:8080/",
          "height": 72
        },
        "outputId": "46c411ea-8673-4901-e0ef-d2d7d943dca0"
      },
      "source": [
        "# Comparison operations\n",
        "(data % 3) == 0"
      ],
      "execution_count": 79,
      "outputs": [
        {
          "output_type": "execute_result",
          "data": {
            "text/plain": [
              "array([[ True, False, False,  True, False],\n",
              "       [False,  True, False, False,  True],\n",
              "       [False, False,  True, False, False]])"
            ]
          },
          "metadata": {
            "tags": []
          },
          "execution_count": 79
        }
      ]
    },
    {
      "cell_type": "code",
      "metadata": {
        "id": "hpj8CoRCmkks",
        "colab_type": "code",
        "colab": {
          "base_uri": "https://localhost:8080/",
          "height": 146
        },
        "outputId": "2415e193-5dc4-4f9f-85ec-f744bf53cd3f"
      },
      "source": [
        "(dd % 2) == 0"
      ],
      "execution_count": 80,
      "outputs": [
        {
          "output_type": "execute_result",
          "data": {
            "text/plain": [
              "array([[ True, False,  True],\n",
              "       [False,  True, False],\n",
              "       [ True, False,  True],\n",
              "       [False,  True, False],\n",
              "       [ True, False,  True],\n",
              "       [False,  True, False],\n",
              "       [ True, False,  True]])"
            ]
          },
          "metadata": {
            "tags": []
          },
          "execution_count": 80
        }
      ]
    },
    {
      "cell_type": "code",
      "metadata": {
        "id": "odB9X1TuMA6i",
        "colab_type": "code",
        "colab": {
          "base_uri": "https://localhost:8080/",
          "height": 72
        },
        "outputId": "24039a1c-3a75-4874-ad53-32c0bf3bc641"
      },
      "source": [
        "# Boolean combinators.\n",
        "((data % 2) == 0) & ((data % 3) == 0)"
      ],
      "execution_count": 81,
      "outputs": [
        {
          "output_type": "execute_result",
          "data": {
            "text/plain": [
              "array([[ True, False, False, False, False],\n",
              "       [False,  True, False, False, False],\n",
              "       [False, False,  True, False, False]])"
            ]
          },
          "metadata": {
            "tags": []
          },
          "execution_count": 81
        }
      ]
    },
    {
      "cell_type": "code",
      "metadata": {
        "id": "mcNnLa_LmstE",
        "colab_type": "code",
        "colab": {
          "base_uri": "https://localhost:8080/",
          "height": 146
        },
        "outputId": "d6f8d322-ff32-4098-889a-df3bd7df7e39"
      },
      "source": [
        "((dd+1%4) == 1) & (dd%2 == 1)"
      ],
      "execution_count": 82,
      "outputs": [
        {
          "output_type": "execute_result",
          "data": {
            "text/plain": [
              "array([[False, False, False],\n",
              "       [False, False, False],\n",
              "       [False, False, False],\n",
              "       [False, False, False],\n",
              "       [False, False, False],\n",
              "       [False, False, False],\n",
              "       [False, False, False]])"
            ]
          },
          "metadata": {
            "tags": []
          },
          "execution_count": 82
        }
      ]
    },
    {
      "cell_type": "code",
      "metadata": {
        "id": "XWU8Gp4QMA6l",
        "colab_type": "code",
        "colab": {
          "base_uri": "https://localhost:8080/",
          "height": 72
        },
        "outputId": "b1c742d4-e73a-448e-b097-dfe3fe4aee6b"
      },
      "source": [
        "# as of python 3.5, @ is matrix-multiply\n",
        "data @ data.T"
      ],
      "execution_count": 83,
      "outputs": [
        {
          "output_type": "execute_result",
          "data": {
            "text/plain": [
              "array([[ 30,  80, 130],\n",
              "       [ 80, 255, 430],\n",
              "       [130, 430, 730]])"
            ]
          },
          "metadata": {
            "tags": []
          },
          "execution_count": 83
        }
      ]
    },
    {
      "cell_type": "code",
      "metadata": {
        "id": "xQXzumghm3VS",
        "colab_type": "code",
        "colab": {
          "base_uri": "https://localhost:8080/",
          "height": 72
        },
        "outputId": "0bd0fa86-d62d-4b35-9e39-19659a69c2f1"
      },
      "source": [
        "dd.T @ dd "
      ],
      "execution_count": 84,
      "outputs": [
        {
          "output_type": "execute_result",
          "data": {
            "text/plain": [
              "array([[ 819,  882,  945],\n",
              "       [ 882,  952, 1022],\n",
              "       [ 945, 1022, 1099]])"
            ]
          },
          "metadata": {
            "tags": []
          },
          "execution_count": 84
        }
      ]
    },
    {
      "cell_type": "markdown",
      "metadata": {
        "id": "GL_e6Y1KMA6q",
        "colab_type": "text"
      },
      "source": [
        "# UFuncs Review\n",
        "\n",
        "- UFuncs provide efficient elementwise operations applied across one or more arrays.\n",
        "- Arithmetic Operators (`+`, `*`, `/`)\n",
        "- Comparisons (`==`, `>`, `!=`)\n",
        "- Boolean Operators (`&`, `|`, `^`)\n",
        "- Trigonometric Functions (`sin`, `cos`)\n",
        "- Transcendental Functions (`exp`, `log`)"
      ]
    },
    {
      "cell_type": "markdown",
      "metadata": {
        "id": "C7M2lEW8MA6q",
        "colab_type": "text"
      },
      "source": [
        "# Selections"
      ]
    },
    {
      "cell_type": "markdown",
      "metadata": {
        "id": "00N2MkVtMA6r",
        "colab_type": "text"
      },
      "source": [
        "We often want to perform an operation on just a subset of our data."
      ]
    },
    {
      "cell_type": "code",
      "metadata": {
        "id": "rX7g8eKJMA6r",
        "colab_type": "code",
        "colab": {
          "base_uri": "https://localhost:8080/",
          "height": 54
        },
        "outputId": "7ae42f42-2f46-4c17-b2fa-71aabf7c9c04"
      },
      "source": [
        "sines = np.sin(np.linspace(0, 3.14, 10))\n",
        "cosines = np.cos(np.linspace(0, 3.14, 10))\n",
        "sines"
      ],
      "execution_count": 85,
      "outputs": [
        {
          "output_type": "execute_result",
          "data": {
            "text/plain": [
              "array([0.        , 0.34185385, 0.64251645, 0.86575984, 0.98468459,\n",
              "       0.98496101, 0.8665558 , 0.64373604, 0.34335012, 0.00159265])"
            ]
          },
          "metadata": {
            "tags": []
          },
          "execution_count": 85
        }
      ]
    },
    {
      "cell_type": "code",
      "metadata": {
        "id": "2SjVRRxro6i3",
        "colab_type": "code",
        "colab": {
          "base_uri": "https://localhost:8080/",
          "height": 72
        },
        "outputId": "06691d04-82c6-4b3a-e255-385f1a14c95b"
      },
      "source": [
        "tanes = np.tan(np.linspace(0, 3.14, 10))\n",
        "sines = np.sin(np.linspace(1, 1.4, 5))\n",
        "tanes"
      ],
      "execution_count": 86,
      "outputs": [
        {
          "output_type": "execute_result",
          "data": {
            "text/plain": [
              "array([ 0.00000000e+00,  3.63769843e-01,  8.38496694e-01,  1.72992922e+00,\n",
              "        5.64790107e+00, -5.70077307e+00, -1.73630571e+00, -8.41212735e-01,\n",
              "       -3.65574297e-01, -1.59265494e-03])"
            ]
          },
          "metadata": {
            "tags": []
          },
          "execution_count": 86
        }
      ]
    },
    {
      "cell_type": "code",
      "metadata": {
        "id": "LEGRdFyMMA6v",
        "colab_type": "code",
        "colab": {
          "base_uri": "https://localhost:8080/",
          "height": 35
        },
        "outputId": "2dfd1c27-281c-4313-9aee-65c995b86c3c"
      },
      "source": [
        "# Slicing works with the same semantics as Python lists.\n",
        "sines[0]"
      ],
      "execution_count": 87,
      "outputs": [
        {
          "output_type": "execute_result",
          "data": {
            "text/plain": [
              "0.8414709848078965"
            ]
          },
          "metadata": {
            "tags": []
          },
          "execution_count": 87
        }
      ]
    },
    {
      "cell_type": "code",
      "metadata": {
        "id": "aul8TxxiztqX",
        "colab_type": "code",
        "colab": {
          "base_uri": "https://localhost:8080/",
          "height": 35
        },
        "outputId": "eb8592d7-7967-411b-bbbb-807cbe77614e"
      },
      "source": [
        "tanes[0:4]"
      ],
      "execution_count": 88,
      "outputs": [
        {
          "output_type": "execute_result",
          "data": {
            "text/plain": [
              "array([0.        , 0.36376984, 0.83849669, 1.72992922])"
            ]
          },
          "metadata": {
            "tags": []
          },
          "execution_count": 88
        }
      ]
    },
    {
      "cell_type": "code",
      "metadata": {
        "id": "0mogieTnMA6z",
        "colab_type": "code",
        "colab": {
          "base_uri": "https://localhost:8080/",
          "height": 35
        },
        "outputId": "7f485216-a9ee-49e4-e55f-c46003549de7"
      },
      "source": [
        "sines[:3]  # First three elements  "
      ],
      "execution_count": 89,
      "outputs": [
        {
          "output_type": "execute_result",
          "data": {
            "text/plain": [
              "array([0.84147098, 0.89120736, 0.93203909])"
            ]
          },
          "metadata": {
            "tags": []
          },
          "execution_count": 89
        }
      ]
    },
    {
      "cell_type": "code",
      "metadata": {
        "id": "aon7_gwPzryR",
        "colab_type": "code",
        "colab": {
          "base_uri": "https://localhost:8080/",
          "height": 54
        },
        "outputId": "6738ac9c-d2d6-425f-f3fa-3ef7a79149c8"
      },
      "source": [
        "tanes[:4:-1]"
      ],
      "execution_count": 90,
      "outputs": [
        {
          "output_type": "execute_result",
          "data": {
            "text/plain": [
              "array([-1.59265494e-03, -3.65574297e-01, -8.41212735e-01, -1.73630571e+00,\n",
              "       -5.70077307e+00])"
            ]
          },
          "metadata": {
            "tags": []
          },
          "execution_count": 90
        }
      ]
    },
    {
      "cell_type": "code",
      "metadata": {
        "id": "qfK44ERfMA62",
        "colab_type": "code",
        "colab": {
          "base_uri": "https://localhost:8080/",
          "height": 35
        },
        "outputId": "c6498f29-8892-4bd4-c2cf-741b141bab9b"
      },
      "source": [
        "sines[5:]  # Elements from 5 on."
      ],
      "execution_count": 91,
      "outputs": [
        {
          "output_type": "execute_result",
          "data": {
            "text/plain": [
              "array([], dtype=float64)"
            ]
          },
          "metadata": {
            "tags": []
          },
          "execution_count": 91
        }
      ]
    },
    {
      "cell_type": "code",
      "metadata": {
        "id": "r5oaJcRvzyhf",
        "colab_type": "code",
        "colab": {
          "base_uri": "https://localhost:8080/",
          "height": 35
        },
        "outputId": "6a8720f0-fb81-4c0b-841e-6746417828aa"
      },
      "source": [
        "tanes[0:5]"
      ],
      "execution_count": 92,
      "outputs": [
        {
          "output_type": "execute_result",
          "data": {
            "text/plain": [
              "array([0.        , 0.36376984, 0.83849669, 1.72992922, 5.64790107])"
            ]
          },
          "metadata": {
            "tags": []
          },
          "execution_count": 92
        }
      ]
    },
    {
      "cell_type": "code",
      "metadata": {
        "id": "inJGFqroMA65",
        "colab_type": "code",
        "colab": {
          "base_uri": "https://localhost:8080/",
          "height": 35
        },
        "outputId": "09b4bd85-7e5a-4e54-e51d-84b37fe8a3fd"
      },
      "source": [
        "sines[::2]  # Every other element."
      ],
      "execution_count": 93,
      "outputs": [
        {
          "output_type": "execute_result",
          "data": {
            "text/plain": [
              "array([0.84147098, 0.93203909, 0.98544973])"
            ]
          },
          "metadata": {
            "tags": []
          },
          "execution_count": 93
        }
      ]
    },
    {
      "cell_type": "code",
      "metadata": {
        "id": "Gnk4FqdMz0xG",
        "colab_type": "code",
        "colab": {
          "base_uri": "https://localhost:8080/",
          "height": 35
        },
        "outputId": "ea89899c-38ad-47ca-851e-8f5ddb970aac"
      },
      "source": [
        "tanes[::3]"
      ],
      "execution_count": 94,
      "outputs": [
        {
          "output_type": "execute_result",
          "data": {
            "text/plain": [
              "array([ 0.00000000e+00,  1.72992922e+00, -1.73630571e+00, -1.59265494e-03])"
            ]
          },
          "metadata": {
            "tags": []
          },
          "execution_count": 94
        }
      ]
    },
    {
      "cell_type": "code",
      "metadata": {
        "id": "W_sWQRlxMA68",
        "colab_type": "code",
        "colab": {
          "base_uri": "https://localhost:8080/",
          "height": 127
        },
        "outputId": "bd8a23ab-acae-4564-8c1b-bb88d79a5aec"
      },
      "source": [
        "# More interesting: we can index with boolean arrays to filter by a predicate.\n",
        "print(\"sines:\\n\", sines)\n",
        "print(\"sines > 0.5:\\n\", sines > 0.5)\n",
        "print(\"sines[sines > 0.5]:\\n\", sines[sines > 0.5])"
      ],
      "execution_count": 95,
      "outputs": [
        {
          "output_type": "stream",
          "text": [
            "sines:\n",
            " [0.84147098 0.89120736 0.93203909 0.96355819 0.98544973]\n",
            "sines > 0.5:\n",
            " [ True  True  True  True  True]\n",
            "sines[sines > 0.5]:\n",
            " [0.84147098 0.89120736 0.93203909 0.96355819 0.98544973]\n"
          ],
          "name": "stdout"
        }
      ]
    },
    {
      "cell_type": "code",
      "metadata": {
        "id": "cueAvjmEz3xG",
        "colab_type": "code",
        "colab": {
          "base_uri": "https://localhost:8080/",
          "height": 182
        },
        "outputId": "97cc4eff-f7f2-46fd-8da1-d08a11dd5a50"
      },
      "source": [
        "print(\"tan:\\n\", tanes)\n",
        "print(\"tanes > 0:\\n\", tanes > 0)\n",
        "print(\"tanes[tanes <= 0]:\\n\", tanes[tanes <= 0])"
      ],
      "execution_count": 96,
      "outputs": [
        {
          "output_type": "stream",
          "text": [
            "tan:\n",
            " [ 0.00000000e+00  3.63769843e-01  8.38496694e-01  1.72992922e+00\n",
            "  5.64790107e+00 -5.70077307e+00 -1.73630571e+00 -8.41212735e-01\n",
            " -3.65574297e-01 -1.59265494e-03]\n",
            "tanes > 0:\n",
            " [False  True  True  True  True False False False False False]\n",
            "tanes[tanes <= 0]:\n",
            " [ 0.00000000e+00 -5.70077307e+00 -1.73630571e+00 -8.41212735e-01\n",
            " -3.65574297e-01 -1.59265494e-03]\n"
          ],
          "name": "stdout"
        }
      ]
    },
    {
      "cell_type": "code",
      "metadata": {
        "id": "ZUbO1Xg0MA6_",
        "colab_type": "code",
        "colab": {
          "base_uri": "https://localhost:8080/",
          "height": 54
        },
        "outputId": "f496aadb-4a2b-4311-ea4b-90d082ac9950"
      },
      "source": [
        "# We index with lists/arrays of integers to select values at those indices.\n",
        "print(sines)\n",
        "sines[[0, 3, 4]]"
      ],
      "execution_count": 97,
      "outputs": [
        {
          "output_type": "stream",
          "text": [
            "[0.84147098 0.89120736 0.93203909 0.96355819 0.98544973]\n"
          ],
          "name": "stdout"
        },
        {
          "output_type": "execute_result",
          "data": {
            "text/plain": [
              "array([0.84147098, 0.96355819, 0.98544973])"
            ]
          },
          "metadata": {
            "tags": []
          },
          "execution_count": 97
        }
      ]
    },
    {
      "cell_type": "code",
      "metadata": {
        "id": "Qv0K8ZCG0HiY",
        "colab_type": "code",
        "colab": {
          "base_uri": "https://localhost:8080/",
          "height": 90
        },
        "outputId": "a943decd-d665-433e-bb44-da800e1245c4"
      },
      "source": [
        "# We index with lists/arrays of integers to select values at those indices.\n",
        "print(tanes)\n",
        "tanes[[1, 5 , 2]]"
      ],
      "execution_count": 98,
      "outputs": [
        {
          "output_type": "stream",
          "text": [
            "[ 0.00000000e+00  3.63769843e-01  8.38496694e-01  1.72992922e+00\n",
            "  5.64790107e+00 -5.70077307e+00 -1.73630571e+00 -8.41212735e-01\n",
            " -3.65574297e-01 -1.59265494e-03]\n"
          ],
          "name": "stdout"
        },
        {
          "output_type": "execute_result",
          "data": {
            "text/plain": [
              "array([ 0.36376984, -5.70077307,  0.83849669])"
            ]
          },
          "metadata": {
            "tags": []
          },
          "execution_count": 98
        }
      ]
    },
    {
      "cell_type": "code",
      "metadata": {
        "id": "gVPLacagMA7C",
        "colab_type": "code",
        "colab": {}
      },
      "source": [
        "# Index arrays are often used for sorting one or more arrays.\n",
        "unsorted_data = np.array([1, 3, 2, 12, -1, 5, 2])"
      ],
      "execution_count": 99,
      "outputs": []
    },
    {
      "cell_type": "code",
      "metadata": {
        "id": "NYTf0Ydl0Oyw",
        "colab_type": "code",
        "colab": {}
      },
      "source": [
        "unsort = np.array([1,1,2,100,-3,5,-4,-7])"
      ],
      "execution_count": 100,
      "outputs": []
    },
    {
      "cell_type": "code",
      "metadata": {
        "id": "B1dIFJ5JMA7E",
        "colab_type": "code",
        "colab": {
          "base_uri": "https://localhost:8080/",
          "height": 35
        },
        "outputId": "120d994a-da0a-4238-8d3a-ce58d63b9a5d"
      },
      "source": [
        "sort_indices = np.argsort(unsorted_data)\n",
        "sort_indices"
      ],
      "execution_count": 101,
      "outputs": [
        {
          "output_type": "execute_result",
          "data": {
            "text/plain": [
              "array([4, 0, 2, 6, 1, 5, 3])"
            ]
          },
          "metadata": {
            "tags": []
          },
          "execution_count": 101
        }
      ]
    },
    {
      "cell_type": "code",
      "metadata": {
        "id": "UJYh3T8V0XnV",
        "colab_type": "code",
        "colab": {
          "base_uri": "https://localhost:8080/",
          "height": 35
        },
        "outputId": "2f22b5f8-9874-46f7-a286-e07bab7d94ee"
      },
      "source": [
        "sort = np.argsort(unsort)\n",
        "sort"
      ],
      "execution_count": 102,
      "outputs": [
        {
          "output_type": "execute_result",
          "data": {
            "text/plain": [
              "array([7, 6, 4, 0, 1, 2, 5, 3])"
            ]
          },
          "metadata": {
            "tags": []
          },
          "execution_count": 102
        }
      ]
    },
    {
      "cell_type": "code",
      "metadata": {
        "id": "7dAU5uLMMA7G",
        "colab_type": "code",
        "colab": {
          "base_uri": "https://localhost:8080/",
          "height": 35
        },
        "outputId": "f39bd9da-949e-401d-b53a-2b05edef8d61"
      },
      "source": [
        "unsorted_data[sort_indices]"
      ],
      "execution_count": 103,
      "outputs": [
        {
          "output_type": "execute_result",
          "data": {
            "text/plain": [
              "array([-1,  1,  2,  2,  3,  5, 12])"
            ]
          },
          "metadata": {
            "tags": []
          },
          "execution_count": 103
        }
      ]
    },
    {
      "cell_type": "code",
      "metadata": {
        "id": "o9zKoV4_0lcg",
        "colab_type": "code",
        "colab": {
          "base_uri": "https://localhost:8080/",
          "height": 35
        },
        "outputId": "46f3486f-25c3-4a39-d945-64d1772d7b24"
      },
      "source": [
        "sorted = unsort[sort]\n",
        "sorted"
      ],
      "execution_count": 104,
      "outputs": [
        {
          "output_type": "execute_result",
          "data": {
            "text/plain": [
              "array([ -7,  -4,  -3,   1,   1,   2,   5, 100])"
            ]
          },
          "metadata": {
            "tags": []
          },
          "execution_count": 104
        }
      ]
    },
    {
      "cell_type": "code",
      "metadata": {
        "id": "hYqy_TulMA7J",
        "colab_type": "code",
        "colab": {}
      },
      "source": [
        "market_caps = np.array([12, 6, 10, 5, 6])  # Presumably in dollars?\n",
        "assets = np.array(['A', 'B', 'C', 'D', 'E'])"
      ],
      "execution_count": 105,
      "outputs": []
    },
    {
      "cell_type": "code",
      "metadata": {
        "id": "Zd4_1C-Y0v3-",
        "colab_type": "code",
        "colab": {}
      },
      "source": [
        "caps = np.array([5, 34, 18, 6, 34])\n",
        "asset = np.array(['A', 'B', 'C', 'D', 'E'])"
      ],
      "execution_count": 106,
      "outputs": []
    },
    {
      "cell_type": "code",
      "metadata": {
        "id": "I0VLOsimMA7L",
        "colab_type": "code",
        "colab": {
          "base_uri": "https://localhost:8080/",
          "height": 35
        },
        "outputId": "43452065-6093-424e-c649-8c1e3fea4a9e"
      },
      "source": [
        "# Sort assets by market cap by using the permutation that would sort market caps on ``assets``.\n",
        "sort_by_mcap = np.argsort(market_caps)\n",
        "assets[sort_by_mcap]"
      ],
      "execution_count": 107,
      "outputs": [
        {
          "output_type": "execute_result",
          "data": {
            "text/plain": [
              "array(['D', 'B', 'E', 'C', 'A'], dtype='<U1')"
            ]
          },
          "metadata": {
            "tags": []
          },
          "execution_count": 107
        }
      ]
    },
    {
      "cell_type": "code",
      "metadata": {
        "id": "JL6tx1Zp1ELB",
        "colab_type": "code",
        "colab": {
          "base_uri": "https://localhost:8080/",
          "height": 35
        },
        "outputId": "a9ce88c0-8889-4935-ee0a-56e56ff06fdb"
      },
      "source": [
        "sort_cap = np.argsort(caps)\n",
        "asset[sort_cap]"
      ],
      "execution_count": 108,
      "outputs": [
        {
          "output_type": "execute_result",
          "data": {
            "text/plain": [
              "array(['A', 'D', 'C', 'B', 'E'], dtype='<U1')"
            ]
          },
          "metadata": {
            "tags": []
          },
          "execution_count": 108
        }
      ]
    },
    {
      "cell_type": "code",
      "metadata": {
        "scrolled": true,
        "id": "6JSkkRIhMA7N",
        "colab_type": "code",
        "colab": {
          "base_uri": "https://localhost:8080/",
          "height": 219
        },
        "outputId": "354514cf-8b78-43d1-dc74-406e8cea9c4c"
      },
      "source": [
        "# Indexers are also useful for aligning data.\n",
        "print(\"Dates:\\n\", repr(event_dates))\n",
        "print(\"Values:\\n\", repr(event_values))\n",
        "print(\"Calendar:\\n\", repr(calendar))"
      ],
      "execution_count": 109,
      "outputs": [
        {
          "output_type": "stream",
          "text": [
            "Dates:\n",
            " array(['2017-01-06', '2017-01-07', '2017-01-08'], dtype='datetime64[D]')\n",
            "Values:\n",
            " array([10, 15, 20])\n",
            "Calendar:\n",
            " array(['2017-01-03', '2017-01-04', '2017-01-05', '2017-01-06',\n",
            "       '2017-01-09', '2017-01-10', '2017-01-11', '2017-01-12',\n",
            "       '2017-01-13', '2017-01-17', '2017-01-18', '2017-01-19',\n",
            "       '2017-01-20', '2017-01-23', '2017-01-24', '2017-01-25',\n",
            "       '2017-01-26', '2017-01-27', '2017-01-30', '2017-01-31',\n",
            "       '2017-02-01'], dtype='datetime64[D]')\n"
          ],
          "name": "stdout"
        }
      ]
    },
    {
      "cell_type": "code",
      "metadata": {
        "id": "pp-t3dvR2hjX",
        "colab_type": "code",
        "colab": {
          "base_uri": "https://localhost:8080/",
          "height": 146
        },
        "outputId": "06c25f6e-d0bf-4e17-f66c-32f7698af438"
      },
      "source": [
        "print(\"Fechas:\\n\", repr(dates_ev))\n",
        "print(\"Values:\\n\", repr(values_ev))\n",
        "print(\"Calendar:\\n\", repr(calendarr))"
      ],
      "execution_count": 110,
      "outputs": [
        {
          "output_type": "stream",
          "text": [
            "Fechas:\n",
            " array(['2017-02-01', '2017-02-02', '2017-02-03'], dtype='datetime64[D]')\n",
            "Values:\n",
            " array([ 5, 20, 35, 15, 90, 17, 26])\n",
            "Calendar:\n",
            " array(['2020-02-01', '2020-02-01', '2020-02-01', '2020-02-01',\n",
            "       '2020-02-01', '2020-02-01', '2020-02-01'], dtype='datetime64[D]')\n"
          ],
          "name": "stdout"
        }
      ]
    },
    {
      "cell_type": "code",
      "metadata": {
        "id": "fKoZqqFaMA7Q",
        "colab_type": "code",
        "colab": {
          "base_uri": "https://localhost:8080/",
          "height": 72
        },
        "outputId": "faa40c41-0e46-43c2-c171-cc15a1baa1e8"
      },
      "source": [
        "print(\"Raw Dates:\", event_dates)\n",
        "print(\"Indices:\", calendar.searchsorted(event_dates))\n",
        "print(\"Forward-Filled Dates:\", calendar[calendar.searchsorted(event_dates)])"
      ],
      "execution_count": 111,
      "outputs": [
        {
          "output_type": "stream",
          "text": [
            "Raw Dates: ['2017-01-06' '2017-01-07' '2017-01-08']\n",
            "Indices: [3 4 4]\n",
            "Forward-Filled Dates: ['2017-01-06' '2017-01-09' '2017-01-09']\n"
          ],
          "name": "stdout"
        }
      ]
    },
    {
      "cell_type": "code",
      "metadata": {
        "id": "idYBl7dW3NZy",
        "colab_type": "code",
        "colab": {
          "base_uri": "https://localhost:8080/",
          "height": 72
        },
        "outputId": "3b67858a-a197-4017-dad8-45d1a49dd356"
      },
      "source": [
        "print(\"Fecha crudos:\", dates_ev)\n",
        "print(\"Indices:\", calendarr.searchsorted(dates_ev))\n",
        "print(\"Fechas++:\", calendarr[calendarr.searchsorted(dates_ev)])"
      ],
      "execution_count": 112,
      "outputs": [
        {
          "output_type": "stream",
          "text": [
            "Fecha crudos: ['2017-02-01' '2017-02-02' '2017-02-03']\n",
            "Indices: [0 0 0]\n",
            "Fechas++: ['2020-02-01' '2020-02-01' '2020-02-01']\n"
          ],
          "name": "stdout"
        }
      ]
    },
    {
      "cell_type": "markdown",
      "metadata": {
        "id": "Aeda8IJmMA7S",
        "colab_type": "text"
      },
      "source": [
        "On multi-dimensional arrays, we can slice along each axis independently."
      ]
    },
    {
      "cell_type": "code",
      "metadata": {
        "id": "ihHUrx4vMA7S",
        "colab_type": "code",
        "colab": {
          "base_uri": "https://localhost:8080/",
          "height": 109
        },
        "outputId": "f9d453c8-67f9-45fd-8831-164dd9887d42"
      },
      "source": [
        "data = np.arange(25).reshape(5, 5)\n",
        "data"
      ],
      "execution_count": 113,
      "outputs": [
        {
          "output_type": "execute_result",
          "data": {
            "text/plain": [
              "array([[ 0,  1,  2,  3,  4],\n",
              "       [ 5,  6,  7,  8,  9],\n",
              "       [10, 11, 12, 13, 14],\n",
              "       [15, 16, 17, 18, 19],\n",
              "       [20, 21, 22, 23, 24]])"
            ]
          },
          "metadata": {
            "tags": []
          },
          "execution_count": 113
        }
      ]
    },
    {
      "cell_type": "code",
      "metadata": {
        "id": "anakFzSJ3dor",
        "colab_type": "code",
        "colab": {
          "base_uri": "https://localhost:8080/",
          "height": 201
        },
        "outputId": "26646875-c628-454a-947b-974ee881e5e2"
      },
      "source": [
        "datap = np.arange(100).reshape(10,10)\n",
        "datap"
      ],
      "execution_count": 114,
      "outputs": [
        {
          "output_type": "execute_result",
          "data": {
            "text/plain": [
              "array([[ 0,  1,  2,  3,  4,  5,  6,  7,  8,  9],\n",
              "       [10, 11, 12, 13, 14, 15, 16, 17, 18, 19],\n",
              "       [20, 21, 22, 23, 24, 25, 26, 27, 28, 29],\n",
              "       [30, 31, 32, 33, 34, 35, 36, 37, 38, 39],\n",
              "       [40, 41, 42, 43, 44, 45, 46, 47, 48, 49],\n",
              "       [50, 51, 52, 53, 54, 55, 56, 57, 58, 59],\n",
              "       [60, 61, 62, 63, 64, 65, 66, 67, 68, 69],\n",
              "       [70, 71, 72, 73, 74, 75, 76, 77, 78, 79],\n",
              "       [80, 81, 82, 83, 84, 85, 86, 87, 88, 89],\n",
              "       [90, 91, 92, 93, 94, 95, 96, 97, 98, 99]])"
            ]
          },
          "metadata": {
            "tags": []
          },
          "execution_count": 114
        }
      ]
    },
    {
      "cell_type": "code",
      "metadata": {
        "id": "J05owKaQMA7U",
        "colab_type": "code",
        "colab": {
          "base_uri": "https://localhost:8080/",
          "height": 54
        },
        "outputId": "c3f0fc45-16b4-420f-a591-ce9eac801c7b"
      },
      "source": [
        "data[:2, :2]  # First two rows and first two columns."
      ],
      "execution_count": 115,
      "outputs": [
        {
          "output_type": "execute_result",
          "data": {
            "text/plain": [
              "array([[0, 1],\n",
              "       [5, 6]])"
            ]
          },
          "metadata": {
            "tags": []
          },
          "execution_count": 115
        }
      ]
    },
    {
      "cell_type": "code",
      "metadata": {
        "id": "tbn9zkAY3eGx",
        "colab_type": "code",
        "colab": {
          "base_uri": "https://localhost:8080/",
          "height": 201
        },
        "outputId": "38a5e7dd-1c87-402f-fbdc-9c68a898e37b"
      },
      "source": [
        "datap[:56, :3]  "
      ],
      "execution_count": 116,
      "outputs": [
        {
          "output_type": "execute_result",
          "data": {
            "text/plain": [
              "array([[ 0,  1,  2],\n",
              "       [10, 11, 12],\n",
              "       [20, 21, 22],\n",
              "       [30, 31, 32],\n",
              "       [40, 41, 42],\n",
              "       [50, 51, 52],\n",
              "       [60, 61, 62],\n",
              "       [70, 71, 72],\n",
              "       [80, 81, 82],\n",
              "       [90, 91, 92]])"
            ]
          },
          "metadata": {
            "tags": []
          },
          "execution_count": 116
        }
      ]
    },
    {
      "cell_type": "code",
      "metadata": {
        "id": "zDLlkm6IMA7X",
        "colab_type": "code",
        "colab": {
          "base_uri": "https://localhost:8080/",
          "height": 54
        },
        "outputId": "795be850-8ffc-4a27-9ef6-64fcce6a293c"
      },
      "source": [
        "data[:2, [0, -1]]  # First two rows, first and last columns."
      ],
      "execution_count": 117,
      "outputs": [
        {
          "output_type": "execute_result",
          "data": {
            "text/plain": [
              "array([[0, 4],\n",
              "       [5, 9]])"
            ]
          },
          "metadata": {
            "tags": []
          },
          "execution_count": 117
        }
      ]
    },
    {
      "cell_type": "code",
      "metadata": {
        "id": "n9S_S7KN3ehq",
        "colab_type": "code",
        "colab": {
          "base_uri": "https://localhost:8080/",
          "height": 72
        },
        "outputId": "89202464-5452-4629-8eb6-a445c2c00843"
      },
      "source": [
        "datap[:3, [5, -1]]  "
      ],
      "execution_count": 118,
      "outputs": [
        {
          "output_type": "execute_result",
          "data": {
            "text/plain": [
              "array([[ 5,  9],\n",
              "       [15, 19],\n",
              "       [25, 29]])"
            ]
          },
          "metadata": {
            "tags": []
          },
          "execution_count": 118
        }
      ]
    },
    {
      "cell_type": "code",
      "metadata": {
        "id": "VaCN7_n-MA7a",
        "colab_type": "code",
        "colab": {
          "base_uri": "https://localhost:8080/",
          "height": 72
        },
        "outputId": "86f7e7f7-6fc0-465e-b106-8ba906c0ed20"
      },
      "source": [
        "data[(data[:, 0] % 2) == 0]  # Rows where the first column is divisible by two."
      ],
      "execution_count": 119,
      "outputs": [
        {
          "output_type": "execute_result",
          "data": {
            "text/plain": [
              "array([[ 0,  1,  2,  3,  4],\n",
              "       [10, 11, 12, 13, 14],\n",
              "       [20, 21, 22, 23, 24]])"
            ]
          },
          "metadata": {
            "tags": []
          },
          "execution_count": 119
        }
      ]
    },
    {
      "cell_type": "code",
      "metadata": {
        "id": "9nsZPjDe3e-z",
        "colab_type": "code",
        "colab": {
          "base_uri": "https://localhost:8080/",
          "height": 72
        },
        "outputId": "bd090519-7aee-4262-a163-25d349c137d1"
      },
      "source": [
        "datap[(datap[:, 2] % 3) == 0]  "
      ],
      "execution_count": 120,
      "outputs": [
        {
          "output_type": "execute_result",
          "data": {
            "text/plain": [
              "array([[10, 11, 12, 13, 14, 15, 16, 17, 18, 19],\n",
              "       [40, 41, 42, 43, 44, 45, 46, 47, 48, 49],\n",
              "       [70, 71, 72, 73, 74, 75, 76, 77, 78, 79]])"
            ]
          },
          "metadata": {
            "tags": []
          },
          "execution_count": 120
        }
      ]
    },
    {
      "cell_type": "markdown",
      "metadata": {
        "id": "sbYGwXnCMA7c",
        "colab_type": "text"
      },
      "source": [
        "# Selections Review\n",
        "\n",
        "- Indexing with an integer removes a dimension.\n",
        "- Slicing operations work on Numpy arrays the same way they do on lists.\n",
        "- Indexing with a boolean array filters to True locations.\n",
        "- Indexing with an integer array selects indices along an axis.\n",
        "- Multidimensional arrays can apply selections independently along different axes."
      ]
    },
    {
      "cell_type": "markdown",
      "metadata": {
        "id": "mNsFM18sMA7d",
        "colab_type": "text"
      },
      "source": [
        "## Reductions\n",
        "\n",
        "Functions that reduce an array to a scalar."
      ]
    },
    {
      "cell_type": "markdown",
      "metadata": {
        "id": "NAcknKwbMA7d",
        "colab_type": "text"
      },
      "source": [
        "$Var(X) = \\frac{1}{N}\\sqrt{\\sum_{i=1}^N (x_i - \\bar{x})^2}$"
      ]
    },
    {
      "cell_type": "code",
      "metadata": {
        "id": "P3glLaAhMA7e",
        "colab_type": "code",
        "colab": {}
      },
      "source": [
        "def variance(x):\n",
        "    return ((x - x.mean()) ** 2).sum() / len(x)"
      ],
      "execution_count": 121,
      "outputs": []
    },
    {
      "cell_type": "code",
      "metadata": {
        "id": "vNnD8XqY4m1A",
        "colab_type": "code",
        "colab": {}
      },
      "source": [
        "def varianza(x):\n",
        "    return ((x - x.mean()) ** 2).sum() / len(x)"
      ],
      "execution_count": 122,
      "outputs": []
    },
    {
      "cell_type": "code",
      "metadata": {
        "id": "13u8CDFMMA7k",
        "colab_type": "code",
        "colab": {
          "base_uri": "https://localhost:8080/",
          "height": 35
        },
        "outputId": "8377b88f-8ab6-4832-b01f-9eaf94cbacd0"
      },
      "source": [
        "variance(np.random.standard_normal(1000))"
      ],
      "execution_count": 123,
      "outputs": [
        {
          "output_type": "execute_result",
          "data": {
            "text/plain": [
              "0.9836537356149478"
            ]
          },
          "metadata": {
            "tags": []
          },
          "execution_count": 123
        }
      ]
    },
    {
      "cell_type": "code",
      "metadata": {
        "id": "16FsAoLA5AX7",
        "colab_type": "code",
        "colab": {
          "base_uri": "https://localhost:8080/",
          "height": 35
        },
        "outputId": "2b94c3c0-83f8-42a3-ac44-1195029f98d6"
      },
      "source": [
        "varianza(np.random.standard_normal(35000))"
      ],
      "execution_count": 124,
      "outputs": [
        {
          "output_type": "execute_result",
          "data": {
            "text/plain": [
              "0.9991159976162516"
            ]
          },
          "metadata": {
            "tags": []
          },
          "execution_count": 124
        }
      ]
    },
    {
      "cell_type": "markdown",
      "metadata": {
        "id": "_BP9-FbJMA7n",
        "colab_type": "text"
      },
      "source": [
        "- `sum()` and `mean()` are both **reductions**."
      ]
    },
    {
      "cell_type": "markdown",
      "metadata": {
        "id": "Qs2c8-QLMA7n",
        "colab_type": "text"
      },
      "source": [
        "- In the simplest case, we use these to reduce an entire array into a single value..."
      ]
    },
    {
      "cell_type": "code",
      "metadata": {
        "id": "IFqZClB3MA7n",
        "colab_type": "code",
        "colab": {
          "base_uri": "https://localhost:8080/",
          "height": 35
        },
        "outputId": "223364e5-8c7a-42ec-9a8b-712a7f522f4c"
      },
      "source": [
        "data = np.arange(30)\n",
        "data.mean()"
      ],
      "execution_count": 125,
      "outputs": [
        {
          "output_type": "execute_result",
          "data": {
            "text/plain": [
              "14.5"
            ]
          },
          "metadata": {
            "tags": []
          },
          "execution_count": 125
        }
      ]
    },
    {
      "cell_type": "code",
      "metadata": {
        "id": "EFG-P5S85Gpr",
        "colab_type": "code",
        "colab": {
          "base_uri": "https://localhost:8080/",
          "height": 35
        },
        "outputId": "3b8d0ff5-f0f6-43df-9007-9dcbb655be46"
      },
      "source": [
        "mas_dat = np.arange(100)\n",
        "mas_dat.mean()"
      ],
      "execution_count": 126,
      "outputs": [
        {
          "output_type": "execute_result",
          "data": {
            "text/plain": [
              "49.5"
            ]
          },
          "metadata": {
            "tags": []
          },
          "execution_count": 126
        }
      ]
    },
    {
      "cell_type": "markdown",
      "metadata": {
        "id": "msA5wfPNMA7p",
        "colab_type": "text"
      },
      "source": [
        "- ...but we can do more interesting things with multi-dimensional arrays."
      ]
    },
    {
      "cell_type": "code",
      "metadata": {
        "id": "x7L9WDkoMA7q",
        "colab_type": "code",
        "colab": {
          "base_uri": "https://localhost:8080/",
          "height": 72
        },
        "outputId": "3a05c576-3dcf-4513-9cdf-25700ce9c3f0"
      },
      "source": [
        "data = np.arange(30).reshape(3, 10)\n",
        "data"
      ],
      "execution_count": 127,
      "outputs": [
        {
          "output_type": "execute_result",
          "data": {
            "text/plain": [
              "array([[ 0,  1,  2,  3,  4,  5,  6,  7,  8,  9],\n",
              "       [10, 11, 12, 13, 14, 15, 16, 17, 18, 19],\n",
              "       [20, 21, 22, 23, 24, 25, 26, 27, 28, 29]])"
            ]
          },
          "metadata": {
            "tags": []
          },
          "execution_count": 127
        }
      ]
    },
    {
      "cell_type": "code",
      "metadata": {
        "id": "6xYXLMFr9OQ0",
        "colab_type": "code",
        "colab": {
          "base_uri": "https://localhost:8080/",
          "height": 127
        },
        "outputId": "6304506e-6e8c-4f55-bcf9-2fe8e785934b"
      },
      "source": [
        "dp = np.arange(36).reshape(6,6)\n",
        "dp"
      ],
      "execution_count": 128,
      "outputs": [
        {
          "output_type": "execute_result",
          "data": {
            "text/plain": [
              "array([[ 0,  1,  2,  3,  4,  5],\n",
              "       [ 6,  7,  8,  9, 10, 11],\n",
              "       [12, 13, 14, 15, 16, 17],\n",
              "       [18, 19, 20, 21, 22, 23],\n",
              "       [24, 25, 26, 27, 28, 29],\n",
              "       [30, 31, 32, 33, 34, 35]])"
            ]
          },
          "metadata": {
            "tags": []
          },
          "execution_count": 128
        }
      ]
    },
    {
      "cell_type": "code",
      "metadata": {
        "id": "c8eL_qwFMA7t",
        "colab_type": "code",
        "colab": {
          "base_uri": "https://localhost:8080/",
          "height": 35
        },
        "outputId": "ad3cbe1d-ccfa-4be3-d3ae-4c4e3b76f127"
      },
      "source": [
        "data.mean()"
      ],
      "execution_count": 129,
      "outputs": [
        {
          "output_type": "execute_result",
          "data": {
            "text/plain": [
              "14.5"
            ]
          },
          "metadata": {
            "tags": []
          },
          "execution_count": 129
        }
      ]
    },
    {
      "cell_type": "code",
      "metadata": {
        "id": "vcWhIBI79VCR",
        "colab_type": "code",
        "colab": {
          "base_uri": "https://localhost:8080/",
          "height": 35
        },
        "outputId": "cc56df34-87c7-43c3-9bdb-7e8042202fac"
      },
      "source": [
        "dp.mean()"
      ],
      "execution_count": 130,
      "outputs": [
        {
          "output_type": "execute_result",
          "data": {
            "text/plain": [
              "17.5"
            ]
          },
          "metadata": {
            "tags": []
          },
          "execution_count": 130
        }
      ]
    },
    {
      "cell_type": "code",
      "metadata": {
        "id": "HZKyLPRvMA7v",
        "colab_type": "code",
        "colab": {
          "base_uri": "https://localhost:8080/",
          "height": 35
        },
        "outputId": "b868f81c-58ef-4a59-e8ec-00222b9f66be"
      },
      "source": [
        "data.mean(axis=0)"
      ],
      "execution_count": 131,
      "outputs": [
        {
          "output_type": "execute_result",
          "data": {
            "text/plain": [
              "array([10., 11., 12., 13., 14., 15., 16., 17., 18., 19.])"
            ]
          },
          "metadata": {
            "tags": []
          },
          "execution_count": 131
        }
      ]
    },
    {
      "cell_type": "code",
      "metadata": {
        "id": "mhTNqI4U9WhY",
        "colab_type": "code",
        "colab": {
          "base_uri": "https://localhost:8080/",
          "height": 35
        },
        "outputId": "0e66b2d0-b3d5-4c56-ba73-dcb34298a05e"
      },
      "source": [
        "dp.mean(axis=0)"
      ],
      "execution_count": 132,
      "outputs": [
        {
          "output_type": "execute_result",
          "data": {
            "text/plain": [
              "array([15., 16., 17., 18., 19., 20.])"
            ]
          },
          "metadata": {
            "tags": []
          },
          "execution_count": 132
        }
      ]
    },
    {
      "cell_type": "code",
      "metadata": {
        "id": "zL2Qwv6eMA7y",
        "colab_type": "code",
        "colab": {
          "base_uri": "https://localhost:8080/",
          "height": 35
        },
        "outputId": "0f85485c-8bbc-4761-ac2f-eec62c426696"
      },
      "source": [
        "data.mean(axis=1)"
      ],
      "execution_count": 133,
      "outputs": [
        {
          "output_type": "execute_result",
          "data": {
            "text/plain": [
              "array([ 4.5, 14.5, 24.5])"
            ]
          },
          "metadata": {
            "tags": []
          },
          "execution_count": 133
        }
      ]
    },
    {
      "cell_type": "code",
      "metadata": {
        "id": "CX6VIZEu9bVI",
        "colab_type": "code",
        "colab": {
          "base_uri": "https://localhost:8080/",
          "height": 35
        },
        "outputId": "5319079c-17f3-4300-f54d-a959d839906a"
      },
      "source": [
        "dp.mean(axis=1)"
      ],
      "execution_count": 134,
      "outputs": [
        {
          "output_type": "execute_result",
          "data": {
            "text/plain": [
              "array([ 2.5,  8.5, 14.5, 20.5, 26.5, 32.5])"
            ]
          },
          "metadata": {
            "tags": []
          },
          "execution_count": 134
        }
      ]
    },
    {
      "cell_type": "markdown",
      "metadata": {
        "id": "_rmATgUeMA70",
        "colab_type": "text"
      },
      "source": [
        "## Reductions Review\n",
        "\n",
        "- Reductions allow us to perform efficient aggregations over arrays.\n",
        "- We can do aggregations over a single axis to collapse a single dimension.\n",
        "- Many built-in reductions (`mean`, `sum`, `min`, `max`, `median`, ...)."
      ]
    },
    {
      "cell_type": "markdown",
      "metadata": {
        "id": "E_X1oTlWMA70",
        "colab_type": "text"
      },
      "source": [
        "# Broadcasting"
      ]
    },
    {
      "cell_type": "code",
      "metadata": {
        "id": "x--kwYmCMA70",
        "colab_type": "code",
        "colab": {
          "base_uri": "https://localhost:8080/",
          "height": 127
        },
        "outputId": "dbb69b2a-d5a8-4a80-9039-1d491702bdbb"
      },
      "source": [
        "row = np.array([1, 2, 3, 4])\n",
        "column = np.array([[1], [2], [3]])\n",
        "print(\"Row:\\n\", row, sep='')\n",
        "print(\"Column:\\n\", column, sep='')"
      ],
      "execution_count": 135,
      "outputs": [
        {
          "output_type": "stream",
          "text": [
            "Row:\n",
            "[1 2 3 4]\n",
            "Column:\n",
            "[[1]\n",
            " [2]\n",
            " [3]]\n"
          ],
          "name": "stdout"
        }
      ]
    },
    {
      "cell_type": "code",
      "metadata": {
        "id": "EOyWeWcK9nY-",
        "colab_type": "code",
        "colab": {
          "base_uri": "https://localhost:8080/",
          "height": 127
        },
        "outputId": "2f1bd7ba-1e30-4ac2-daf6-e5a6200cffa4"
      },
      "source": [
        "fila = np.array([3, 6, 9, 12])\n",
        "colum = np.array([[5], [10], [15]])\n",
        "print(\"Fila:\\n\", row, sep='')\n",
        "print(\"Columna:\\n\", column, sep='')"
      ],
      "execution_count": 136,
      "outputs": [
        {
          "output_type": "stream",
          "text": [
            "Fila:\n",
            "[1 2 3 4]\n",
            "Columna:\n",
            "[[1]\n",
            " [2]\n",
            " [3]]\n"
          ],
          "name": "stdout"
        }
      ]
    },
    {
      "cell_type": "code",
      "metadata": {
        "id": "s5xs-5cCMA73",
        "colab_type": "code",
        "colab": {
          "base_uri": "https://localhost:8080/",
          "height": 72
        },
        "outputId": "94f4705b-7e95-4282-bce5-81417d9f901f"
      },
      "source": [
        "row + column"
      ],
      "execution_count": 137,
      "outputs": [
        {
          "output_type": "execute_result",
          "data": {
            "text/plain": [
              "array([[2, 3, 4, 5],\n",
              "       [3, 4, 5, 6],\n",
              "       [4, 5, 6, 7]])"
            ]
          },
          "metadata": {
            "tags": []
          },
          "execution_count": 137
        }
      ]
    },
    {
      "cell_type": "code",
      "metadata": {
        "id": "ZAf4B1ah9n7E",
        "colab_type": "code",
        "colab": {
          "base_uri": "https://localhost:8080/",
          "height": 72
        },
        "outputId": "8e07e995-6ad9-469c-c52b-2c98691cedef"
      },
      "source": [
        "fila+colum"
      ],
      "execution_count": 138,
      "outputs": [
        {
          "output_type": "execute_result",
          "data": {
            "text/plain": [
              "array([[ 8, 11, 14, 17],\n",
              "       [13, 16, 19, 22],\n",
              "       [18, 21, 24, 27]])"
            ]
          },
          "metadata": {
            "tags": []
          },
          "execution_count": 138
        }
      ]
    },
    {
      "cell_type": "markdown",
      "metadata": {
        "id": "LsPJWsxPMA75",
        "colab_type": "text"
      },
      "source": [
        "<center><img src=\"images/broadcasting.png\" alt=\"Drawing\" style=\"width: 60%;\"/></center>\n",
        "\n",
        "<h5>Source: http://www.scipy-lectures.org/_images/numpy_broadcasting.png</h5>"
      ]
    },
    {
      "cell_type": "code",
      "metadata": {
        "id": "WX5HP8-NMA75",
        "colab_type": "code",
        "colab": {
          "base_uri": "https://localhost:8080/",
          "height": 201
        },
        "outputId": "a9a62a54-300f-4451-cf87-30f9981b440e"
      },
      "source": [
        "# Broadcasting is particularly useful in conjunction with reductions.\n",
        "print(\"Data:\\n\", data, sep='')\n",
        "print(\"Mean:\\n\", data.mean(axis=0), sep='')\n",
        "print(\"Data - Mean:\\n\", data - data.mean(axis=0), sep='')"
      ],
      "execution_count": 139,
      "outputs": [
        {
          "output_type": "stream",
          "text": [
            "Data:\n",
            "[[ 0  1  2  3  4  5  6  7  8  9]\n",
            " [10 11 12 13 14 15 16 17 18 19]\n",
            " [20 21 22 23 24 25 26 27 28 29]]\n",
            "Mean:\n",
            "[10. 11. 12. 13. 14. 15. 16. 17. 18. 19.]\n",
            "Data - Mean:\n",
            "[[-10. -10. -10. -10. -10. -10. -10. -10. -10. -10.]\n",
            " [  0.   0.   0.   0.   0.   0.   0.   0.   0.   0.]\n",
            " [ 10.  10.  10.  10.  10.  10.  10.  10.  10.  10.]]\n"
          ],
          "name": "stdout"
        }
      ]
    },
    {
      "cell_type": "code",
      "metadata": {
        "id": "NhudxuFM9olW",
        "colab_type": "code",
        "colab": {
          "base_uri": "https://localhost:8080/",
          "height": 311
        },
        "outputId": "92c10a5f-d02a-4def-d447-2727592163e5"
      },
      "source": [
        "print(\"Datos:\\n\", dp, sep='')\n",
        "print(\"Media:\\n\", dp.mean(axis=0), sep='')\n",
        "print(\"Datos - Meedia:\\n\", dp - dp.mean(axis=0), sep='')"
      ],
      "execution_count": 140,
      "outputs": [
        {
          "output_type": "stream",
          "text": [
            "Datos:\n",
            "[[ 0  1  2  3  4  5]\n",
            " [ 6  7  8  9 10 11]\n",
            " [12 13 14 15 16 17]\n",
            " [18 19 20 21 22 23]\n",
            " [24 25 26 27 28 29]\n",
            " [30 31 32 33 34 35]]\n",
            "Media:\n",
            "[15. 16. 17. 18. 19. 20.]\n",
            "Datos - Meedia:\n",
            "[[-15. -15. -15. -15. -15. -15.]\n",
            " [ -9.  -9.  -9.  -9.  -9.  -9.]\n",
            " [ -3.  -3.  -3.  -3.  -3.  -3.]\n",
            " [  3.   3.   3.   3.   3.   3.]\n",
            " [  9.   9.   9.   9.   9.   9.]\n",
            " [ 15.  15.  15.  15.  15.  15.]]\n"
          ],
          "name": "stdout"
        }
      ]
    },
    {
      "cell_type": "markdown",
      "metadata": {
        "id": "8oK_DXPHMA77",
        "colab_type": "text"
      },
      "source": [
        "# Broadcasting Review\n",
        "\n",
        "- Numpy operations can work on arrays of different dimensions as long as the arrays' shapes are still \"compatible\".\n",
        "- Broadcasting works by \"tiling\" the smaller array along the missing dimension.\n",
        "- The result of a broadcasted operation is always at least as large in each dimension as the largest array in that dimension."
      ]
    },
    {
      "cell_type": "markdown",
      "metadata": {
        "id": "jBW_Nr7_MA78",
        "colab_type": "text"
      },
      "source": [
        "# Numpy Review"
      ]
    },
    {
      "cell_type": "markdown",
      "metadata": {
        "id": "pJQ5WDu3MA78",
        "colab_type": "text"
      },
      "source": [
        "- Numerical algorithms are slow in pure Python because the overhead dynamic dispatch dominates our runtime."
      ]
    },
    {
      "cell_type": "markdown",
      "metadata": {
        "id": "PhGFqwc7MA78",
        "colab_type": "text"
      },
      "source": [
        "- Numpy solves this problem by:\n",
        "  1. Imposing additional restrictions on the contents of arrays.\n",
        "  2. Moving the inner loops of our algorithms into compiled C code."
      ]
    },
    {
      "cell_type": "markdown",
      "metadata": {
        "id": "LfDiqUN8MA79",
        "colab_type": "text"
      },
      "source": [
        "- Using Numpy effectively often requires reworking an algorithms to use vectorized operations instead of for-loops, but the resulting operations are usually simpler, clearer, and faster than the pure Python equivalent."
      ]
    },
    {
      "cell_type": "markdown",
      "metadata": {
        "id": "1Aha8cTlMA79",
        "colab_type": "text"
      },
      "source": [
        "<center><img src=\"images/unicorn.jpg\" alt=\"Drawing\" style=\"width: 75%;\"/></center>"
      ]
    },
    {
      "cell_type": "markdown",
      "metadata": {
        "id": "4uuHRNq9MA7-",
        "colab_type": "text"
      },
      "source": [
        "Numpy is great for many things, but..."
      ]
    },
    {
      "cell_type": "markdown",
      "metadata": {
        "id": "6vj3I8YmMA7-",
        "colab_type": "text"
      },
      "source": [
        "- Sometimes our data is equipped with a natural set of **labels**:\n",
        "  - Dates/Times\n",
        "  - Stock Tickers\n",
        "  - Field Names (e.g. Open/High/Low/Close)"
      ]
    },
    {
      "cell_type": "markdown",
      "metadata": {
        "id": "bVjbfqsKMA7_",
        "colab_type": "text"
      },
      "source": [
        "- Sometimes we have **more than one type of data** that we want to keep grouped together.\n",
        "  - Tables with a mix of real-valued and categorical data."
      ]
    },
    {
      "cell_type": "markdown",
      "metadata": {
        "id": "7chAiu1tMA7_",
        "colab_type": "text"
      },
      "source": [
        "- Sometimes we have **missing** data, which we need to ignore, fill, or otherwise work around."
      ]
    },
    {
      "cell_type": "markdown",
      "metadata": {
        "id": "u56q_256MA8A",
        "colab_type": "text"
      },
      "source": [
        "<center><img src=\"images/panda-wrangling.gif\" alt=\"Drawing\" style=\"width: 75%;\"/></center>"
      ]
    },
    {
      "cell_type": "markdown",
      "metadata": {
        "id": "fwftbFAyMA8A",
        "colab_type": "text"
      },
      "source": [
        "<center><img src=\"images/pandas_logo.png\" alt=\"Drawing\" style=\"width: 75%;\"/></center>\n"
      ]
    },
    {
      "cell_type": "markdown",
      "metadata": {
        "id": "Wne4eQ5NMA8B",
        "colab_type": "text"
      },
      "source": [
        "Pandas extends Numpy with more complex data structures:\n",
        "\n",
        "- `Series`: 1-dimensional, homogenously-typed, labelled array.\n",
        "- `DataFrame`: 2-dimensional, semi-homogenous, labelled table."
      ]
    },
    {
      "cell_type": "markdown",
      "metadata": {
        "id": "cyhQ0NvwMA8B",
        "colab_type": "text"
      },
      "source": [
        "Pandas also provides many utilities for: \n",
        "- Input/Output\n",
        "- Data Cleaning\n",
        "- Rolling Algorithms\n",
        "- Plotting"
      ]
    },
    {
      "cell_type": "markdown",
      "metadata": {
        "id": "DjsBWQiVMA8C",
        "colab_type": "text"
      },
      "source": [
        "# Selection in Pandas"
      ]
    },
    {
      "cell_type": "code",
      "metadata": {
        "id": "Kjbg4jpTMA8C",
        "colab_type": "code",
        "colab": {
          "base_uri": "https://localhost:8080/",
          "height": 127
        },
        "outputId": "a3854813-513c-473a-c447-5304f14a820f"
      },
      "source": [
        "s = pd.Series(index=['a', 'b', 'c', 'd', 'e'], data=[1, 2, 3, 4, 5])\n",
        "s"
      ],
      "execution_count": 141,
      "outputs": [
        {
          "output_type": "execute_result",
          "data": {
            "text/plain": [
              "a    1\n",
              "b    2\n",
              "c    3\n",
              "d    4\n",
              "e    5\n",
              "dtype: int64"
            ]
          },
          "metadata": {
            "tags": []
          },
          "execution_count": 141
        }
      ]
    },
    {
      "cell_type": "code",
      "metadata": {
        "id": "YX92gk2_ozkT",
        "colab_type": "code",
        "colab": {
          "base_uri": "https://localhost:8080/",
          "height": 146
        },
        "outputId": "38afad13-14d0-455f-d7ed-8e5a30643606"
      },
      "source": [
        "serie = pd.Series(index=['q', 'w', 'e', 'r', 't','y'], data=[1, 1, 2, 3, 5, 8])\n",
        "serie"
      ],
      "execution_count": 142,
      "outputs": [
        {
          "output_type": "execute_result",
          "data": {
            "text/plain": [
              "q    1\n",
              "w    1\n",
              "e    2\n",
              "r    3\n",
              "t    5\n",
              "y    8\n",
              "dtype: int64"
            ]
          },
          "metadata": {
            "tags": []
          },
          "execution_count": 142
        }
      ]
    },
    {
      "cell_type": "code",
      "metadata": {
        "id": "NFVbVJnEMA8E",
        "colab_type": "code",
        "colab": {
          "base_uri": "https://localhost:8080/",
          "height": 54
        },
        "outputId": "e634c04f-2316-439b-a2a2-a729804ef84d"
      },
      "source": [
        "# There are two pieces to a Series: the index and the values.\n",
        "print(\"The index is:\", s.index)\n",
        "print(\"The values are:\", s.values)"
      ],
      "execution_count": 143,
      "outputs": [
        {
          "output_type": "stream",
          "text": [
            "The index is: Index(['a', 'b', 'c', 'd', 'e'], dtype='object')\n",
            "The values are: [1 2 3 4 5]\n"
          ],
          "name": "stdout"
        }
      ]
    },
    {
      "cell_type": "code",
      "metadata": {
        "id": "SXZIIHjQo0Fn",
        "colab_type": "code",
        "colab": {
          "base_uri": "https://localhost:8080/",
          "height": 54
        },
        "outputId": "dfeebaf4-5044-4b96-fbf9-44d2cfeb9ea1"
      },
      "source": [
        "print(\"Los indices:\", serie.index)\n",
        "print(\"Los valores:\", serie.values)"
      ],
      "execution_count": 144,
      "outputs": [
        {
          "output_type": "stream",
          "text": [
            "Los indices: Index(['q', 'w', 'e', 'r', 't', 'y'], dtype='object')\n",
            "Los valores: [1 1 2 3 5 8]\n"
          ],
          "name": "stdout"
        }
      ]
    },
    {
      "cell_type": "code",
      "metadata": {
        "id": "mPq__RsQMA8I",
        "colab_type": "code",
        "colab": {
          "base_uri": "https://localhost:8080/",
          "height": 35
        },
        "outputId": "293d191b-3ec2-4951-ab6f-47300e792a8e"
      },
      "source": [
        "# We can look up values out of a Series by position...\n",
        "s.iloc[0]"
      ],
      "execution_count": 145,
      "outputs": [
        {
          "output_type": "execute_result",
          "data": {
            "text/plain": [
              "1"
            ]
          },
          "metadata": {
            "tags": []
          },
          "execution_count": 145
        }
      ]
    },
    {
      "cell_type": "code",
      "metadata": {
        "id": "fMuQgRNSo0lf",
        "colab_type": "code",
        "colab": {
          "base_uri": "https://localhost:8080/",
          "height": 72
        },
        "outputId": "4e9aaf91-8662-41ae-d5cd-53521eb5d052"
      },
      "source": [
        "print(serie.iloc[2])\n",
        "print(serie.iloc[3])\n",
        "print(serie.iloc[2]+serie.iloc[3] == serie.iloc[4])"
      ],
      "execution_count": 146,
      "outputs": [
        {
          "output_type": "stream",
          "text": [
            "2\n",
            "3\n",
            "True\n"
          ],
          "name": "stdout"
        }
      ]
    },
    {
      "cell_type": "code",
      "metadata": {
        "id": "Y8iF30u3MA8K",
        "colab_type": "code",
        "colab": {
          "base_uri": "https://localhost:8080/",
          "height": 35
        },
        "outputId": "5d8296b8-d5c4-428e-e05f-caeecdf1062b"
      },
      "source": [
        "# ... or by label.\n",
        "s.loc['a']"
      ],
      "execution_count": 147,
      "outputs": [
        {
          "output_type": "execute_result",
          "data": {
            "text/plain": [
              "1"
            ]
          },
          "metadata": {
            "tags": []
          },
          "execution_count": 147
        }
      ]
    },
    {
      "cell_type": "code",
      "metadata": {
        "id": "0DtVLp0_pbs_",
        "colab_type": "code",
        "colab": {
          "base_uri": "https://localhost:8080/",
          "height": 35
        },
        "outputId": "10ed1b35-a0e3-4db9-f3eb-02dd7da3d149"
      },
      "source": [
        "serie.loc['q'] + serie.loc['w'] + serie.loc['e'] "
      ],
      "execution_count": 148,
      "outputs": [
        {
          "output_type": "execute_result",
          "data": {
            "text/plain": [
              "4"
            ]
          },
          "metadata": {
            "tags": []
          },
          "execution_count": 148
        }
      ]
    },
    {
      "cell_type": "code",
      "metadata": {
        "id": "ky7w4_kDo1Bn",
        "colab_type": "code",
        "colab": {}
      },
      "source": [
        ""
      ],
      "execution_count": 148,
      "outputs": []
    },
    {
      "cell_type": "code",
      "metadata": {
        "id": "8f0KnW-1MA8M",
        "colab_type": "code",
        "colab": {
          "base_uri": "https://localhost:8080/",
          "height": 72
        },
        "outputId": "769812ab-78da-4d23-cd0e-6df1fc2003e3"
      },
      "source": [
        "# Slicing works as expected...\n",
        "s.iloc[:2]"
      ],
      "execution_count": 149,
      "outputs": [
        {
          "output_type": "execute_result",
          "data": {
            "text/plain": [
              "a    1\n",
              "b    2\n",
              "dtype: int64"
            ]
          },
          "metadata": {
            "tags": []
          },
          "execution_count": 149
        }
      ]
    },
    {
      "cell_type": "code",
      "metadata": {
        "id": "WfjPqUFNo1dK",
        "colab_type": "code",
        "colab": {
          "base_uri": "https://localhost:8080/",
          "height": 146
        },
        "outputId": "2d083848-eb9a-45d0-9b40-92f05ae40dbc"
      },
      "source": [
        "serie.iloc[::-1]"
      ],
      "execution_count": 150,
      "outputs": [
        {
          "output_type": "execute_result",
          "data": {
            "text/plain": [
              "y    8\n",
              "t    5\n",
              "r    3\n",
              "e    2\n",
              "w    1\n",
              "q    1\n",
              "dtype: int64"
            ]
          },
          "metadata": {
            "tags": []
          },
          "execution_count": 150
        }
      ]
    },
    {
      "cell_type": "code",
      "metadata": {
        "id": "9AxwsYpKMA8O",
        "colab_type": "code",
        "colab": {
          "base_uri": "https://localhost:8080/",
          "height": 90
        },
        "outputId": "151d43f5-5d74-4a2f-9134-5de98357da47"
      },
      "source": [
        "# ...but it works with labels too!\n",
        "s.loc[:'c']"
      ],
      "execution_count": 151,
      "outputs": [
        {
          "output_type": "execute_result",
          "data": {
            "text/plain": [
              "a    1\n",
              "b    2\n",
              "c    3\n",
              "dtype: int64"
            ]
          },
          "metadata": {
            "tags": []
          },
          "execution_count": 151
        }
      ]
    },
    {
      "cell_type": "code",
      "metadata": {
        "id": "IQ9we1KjpmdH",
        "colab_type": "code",
        "colab": {
          "base_uri": "https://localhost:8080/",
          "height": 90
        },
        "outputId": "1d6ae73a-aaa2-4fa4-8382-2adf2a0e52ca"
      },
      "source": [
        "serie.loc[::2]"
      ],
      "execution_count": 152,
      "outputs": [
        {
          "output_type": "execute_result",
          "data": {
            "text/plain": [
              "q    1\n",
              "e    2\n",
              "t    5\n",
              "dtype: int64"
            ]
          },
          "metadata": {
            "tags": []
          },
          "execution_count": 152
        }
      ]
    },
    {
      "cell_type": "code",
      "metadata": {
        "id": "iOqTM0erMA8R",
        "colab_type": "code",
        "colab": {
          "base_uri": "https://localhost:8080/",
          "height": 72
        },
        "outputId": "52532905-9b39-4c91-e6db-922098ec8f14"
      },
      "source": [
        "# Fancy indexing works the same as in numpy.\n",
        "s.iloc[[0, -1]]"
      ],
      "execution_count": 153,
      "outputs": [
        {
          "output_type": "execute_result",
          "data": {
            "text/plain": [
              "a    1\n",
              "e    5\n",
              "dtype: int64"
            ]
          },
          "metadata": {
            "tags": []
          },
          "execution_count": 153
        }
      ]
    },
    {
      "cell_type": "code",
      "metadata": {
        "id": "59cSfYLRo2YH",
        "colab_type": "code",
        "colab": {
          "base_uri": "https://localhost:8080/",
          "height": 72
        },
        "outputId": "02ad8d09-4a8f-4f09-dbc2-ccdd70bd5154"
      },
      "source": [
        "serie.iloc[[3, -2]]"
      ],
      "execution_count": 154,
      "outputs": [
        {
          "output_type": "execute_result",
          "data": {
            "text/plain": [
              "r    3\n",
              "t    5\n",
              "dtype: int64"
            ]
          },
          "metadata": {
            "tags": []
          },
          "execution_count": 154
        }
      ]
    },
    {
      "cell_type": "code",
      "metadata": {
        "id": "CHXV0zZqMA8S",
        "colab_type": "code",
        "colab": {
          "base_uri": "https://localhost:8080/",
          "height": 90
        },
        "outputId": "f0909262-b18a-4e66-aafd-2b0067f38c1e"
      },
      "source": [
        "# As does boolean masking.\n",
        "s.loc[s > 2]"
      ],
      "execution_count": 155,
      "outputs": [
        {
          "output_type": "execute_result",
          "data": {
            "text/plain": [
              "c    3\n",
              "d    4\n",
              "e    5\n",
              "dtype: int64"
            ]
          },
          "metadata": {
            "tags": []
          },
          "execution_count": 155
        }
      ]
    },
    {
      "cell_type": "code",
      "metadata": {
        "id": "BWc-vui8o27v",
        "colab_type": "code",
        "colab": {
          "base_uri": "https://localhost:8080/",
          "height": 109
        },
        "outputId": "9282f51e-e0a6-4f35-c38b-d6bb4800e0f6"
      },
      "source": [
        "s.loc[s > 3 & (s % 2 == 1)]"
      ],
      "execution_count": 156,
      "outputs": [
        {
          "output_type": "execute_result",
          "data": {
            "text/plain": [
              "b    2\n",
              "c    3\n",
              "d    4\n",
              "e    5\n",
              "dtype: int64"
            ]
          },
          "metadata": {
            "tags": []
          },
          "execution_count": 156
        }
      ]
    },
    {
      "cell_type": "code",
      "metadata": {
        "id": "63JieldgMA8a",
        "colab_type": "code",
        "colab": {
          "base_uri": "https://localhost:8080/",
          "height": 109
        },
        "outputId": "f2bb79ea-e48c-4288-d316-fe32ff112bd0"
      },
      "source": [
        "# Element-wise operations are aligned by index.\n",
        "other_s = pd.Series({'a': 10.0, 'c': 20.0, 'd': 30.0, 'z': 40.0})\n",
        "other_s"
      ],
      "execution_count": 157,
      "outputs": [
        {
          "output_type": "execute_result",
          "data": {
            "text/plain": [
              "a    10.0\n",
              "c    20.0\n",
              "d    30.0\n",
              "z    40.0\n",
              "dtype: float64"
            ]
          },
          "metadata": {
            "tags": []
          },
          "execution_count": 157
        }
      ]
    },
    {
      "cell_type": "code",
      "metadata": {
        "id": "tHiSH4lgp_h2",
        "colab_type": "code",
        "colab": {
          "base_uri": "https://localhost:8080/",
          "height": 109
        },
        "outputId": "07f3f840-0ca8-4bd8-a3eb-f77c9f500d40"
      },
      "source": [
        "another = pd.Series({'a': 15.2, 'B': 3.1416, 'q': 2.71, 'w': 1.4142})\n",
        "print(another, 'mal animé')"
      ],
      "execution_count": 158,
      "outputs": [
        {
          "output_type": "stream",
          "text": [
            "a    15.2000\n",
            "B     3.1416\n",
            "q     2.7100\n",
            "w     1.4142\n",
            "dtype: float64 mal animé\n"
          ],
          "name": "stdout"
        }
      ]
    },
    {
      "cell_type": "code",
      "metadata": {
        "id": "rSFgwRFRMA8c",
        "colab_type": "code",
        "colab": {
          "base_uri": "https://localhost:8080/",
          "height": 146
        },
        "outputId": "30a986b7-a5cc-4dff-f4c3-b3816faf8c6c"
      },
      "source": [
        "s + other_s"
      ],
      "execution_count": 159,
      "outputs": [
        {
          "output_type": "execute_result",
          "data": {
            "text/plain": [
              "a    11.0\n",
              "b     NaN\n",
              "c    23.0\n",
              "d    34.0\n",
              "e     NaN\n",
              "z     NaN\n",
              "dtype: float64"
            ]
          },
          "metadata": {
            "tags": []
          },
          "execution_count": 159
        }
      ]
    },
    {
      "cell_type": "code",
      "metadata": {
        "id": "_y7AZYFWo3-O",
        "colab_type": "code",
        "colab": {
          "base_uri": "https://localhost:8080/",
          "height": 182
        },
        "outputId": "6ae9a289-0cfb-4697-f21e-3420e355f3f3"
      },
      "source": [
        "serie+another"
      ],
      "execution_count": 160,
      "outputs": [
        {
          "output_type": "execute_result",
          "data": {
            "text/plain": [
              "B       NaN\n",
              "a       NaN\n",
              "e       NaN\n",
              "q    3.7100\n",
              "r       NaN\n",
              "t       NaN\n",
              "w    2.4142\n",
              "y       NaN\n",
              "dtype: float64"
            ]
          },
          "metadata": {
            "tags": []
          },
          "execution_count": 160
        }
      ]
    },
    {
      "cell_type": "code",
      "metadata": {
        "id": "zSJvQJ2fMA8d",
        "colab_type": "code",
        "colab": {
          "base_uri": "https://localhost:8080/",
          "height": 146
        },
        "outputId": "c57f6215-fb18-4d5e-8d09-1bcc80da8e10"
      },
      "source": [
        "# We can fill in missing values with fillna().\n",
        "(s + other_s).fillna(0.0)"
      ],
      "execution_count": 161,
      "outputs": [
        {
          "output_type": "execute_result",
          "data": {
            "text/plain": [
              "a    11.0\n",
              "b     0.0\n",
              "c    23.0\n",
              "d    34.0\n",
              "e     0.0\n",
              "z     0.0\n",
              "dtype: float64"
            ]
          },
          "metadata": {
            "tags": []
          },
          "execution_count": 161
        }
      ]
    },
    {
      "cell_type": "code",
      "metadata": {
        "id": "VvzgKWrso4ZQ",
        "colab_type": "code",
        "colab": {
          "base_uri": "https://localhost:8080/",
          "height": 182
        },
        "outputId": "e4dafce5-2ab3-4d85-89bf-cdf9c318ab83"
      },
      "source": [
        "(serie+another).fillna(123123.1)"
      ],
      "execution_count": 162,
      "outputs": [
        {
          "output_type": "execute_result",
          "data": {
            "text/plain": [
              "B    123123.1000\n",
              "a    123123.1000\n",
              "e    123123.1000\n",
              "q         3.7100\n",
              "r    123123.1000\n",
              "t    123123.1000\n",
              "w         2.4142\n",
              "y    123123.1000\n",
              "dtype: float64"
            ]
          },
          "metadata": {
            "tags": []
          },
          "execution_count": 162
        }
      ]
    },
    {
      "cell_type": "code",
      "metadata": {
        "id": "oz_tj6VCMA8f",
        "colab_type": "code",
        "colab": {
          "base_uri": "https://localhost:8080/",
          "height": 238
        },
        "outputId": "5de8e281-258d-46fd-f59c-b982d264db83"
      },
      "source": [
        "# Most real datasets are read in from an external file format.\n",
        "aapl = pd.read_csv('AAPL.csv', parse_dates=['Date'], index_col='Date')\n",
        "aapl.head()"
      ],
      "execution_count": 163,
      "outputs": [
        {
          "output_type": "execute_result",
          "data": {
            "text/html": [
              "<div>\n",
              "<style scoped>\n",
              "    .dataframe tbody tr th:only-of-type {\n",
              "        vertical-align: middle;\n",
              "    }\n",
              "\n",
              "    .dataframe tbody tr th {\n",
              "        vertical-align: top;\n",
              "    }\n",
              "\n",
              "    .dataframe thead th {\n",
              "        text-align: right;\n",
              "    }\n",
              "</style>\n",
              "<table border=\"1\" class=\"dataframe\">\n",
              "  <thead>\n",
              "    <tr style=\"text-align: right;\">\n",
              "      <th></th>\n",
              "      <th>Adj Close</th>\n",
              "      <th>Close</th>\n",
              "      <th>High</th>\n",
              "      <th>Low</th>\n",
              "      <th>Open</th>\n",
              "      <th>Volume</th>\n",
              "    </tr>\n",
              "    <tr>\n",
              "      <th>Date</th>\n",
              "      <th></th>\n",
              "      <th></th>\n",
              "      <th></th>\n",
              "      <th></th>\n",
              "      <th></th>\n",
              "      <th></th>\n",
              "    </tr>\n",
              "  </thead>\n",
              "  <tbody>\n",
              "    <tr>\n",
              "      <th>2010-01-04</th>\n",
              "      <td>27.613066</td>\n",
              "      <td>30.572857</td>\n",
              "      <td>30.642857</td>\n",
              "      <td>30.340000</td>\n",
              "      <td>30.490000</td>\n",
              "      <td>123432400.0</td>\n",
              "    </tr>\n",
              "    <tr>\n",
              "      <th>2010-01-05</th>\n",
              "      <td>27.660807</td>\n",
              "      <td>30.625713</td>\n",
              "      <td>30.798571</td>\n",
              "      <td>30.464285</td>\n",
              "      <td>30.657143</td>\n",
              "      <td>150476200.0</td>\n",
              "    </tr>\n",
              "    <tr>\n",
              "      <th>2010-01-06</th>\n",
              "      <td>27.220825</td>\n",
              "      <td>30.138571</td>\n",
              "      <td>30.747143</td>\n",
              "      <td>30.107143</td>\n",
              "      <td>30.625713</td>\n",
              "      <td>138040000.0</td>\n",
              "    </tr>\n",
              "    <tr>\n",
              "      <th>2010-01-07</th>\n",
              "      <td>27.170504</td>\n",
              "      <td>30.082857</td>\n",
              "      <td>30.285715</td>\n",
              "      <td>29.864286</td>\n",
              "      <td>30.250000</td>\n",
              "      <td>119282800.0</td>\n",
              "    </tr>\n",
              "    <tr>\n",
              "      <th>2010-01-08</th>\n",
              "      <td>27.351143</td>\n",
              "      <td>30.282858</td>\n",
              "      <td>30.285715</td>\n",
              "      <td>29.865715</td>\n",
              "      <td>30.042856</td>\n",
              "      <td>111902700.0</td>\n",
              "    </tr>\n",
              "  </tbody>\n",
              "</table>\n",
              "</div>"
            ],
            "text/plain": [
              "            Adj Close      Close       High        Low       Open       Volume\n",
              "Date                                                                          \n",
              "2010-01-04  27.613066  30.572857  30.642857  30.340000  30.490000  123432400.0\n",
              "2010-01-05  27.660807  30.625713  30.798571  30.464285  30.657143  150476200.0\n",
              "2010-01-06  27.220825  30.138571  30.747143  30.107143  30.625713  138040000.0\n",
              "2010-01-07  27.170504  30.082857  30.285715  29.864286  30.250000  119282800.0\n",
              "2010-01-08  27.351143  30.282858  30.285715  29.865715  30.042856  111902700.0"
            ]
          },
          "metadata": {
            "tags": []
          },
          "execution_count": 163
        }
      ]
    },
    {
      "cell_type": "code",
      "metadata": {
        "id": "EBGKFva9o43u",
        "colab_type": "code",
        "colab": {
          "base_uri": "https://localhost:8080/",
          "height": 175
        },
        "outputId": "3f8809da-2ac6-4dc9-dd6d-a4110dfc5c4c"
      },
      "source": [
        "apple = pd.read_csv('AAPL.csv', parse_dates=['Date'], index_col='Date')\n",
        "apple.head(3)"
      ],
      "execution_count": 164,
      "outputs": [
        {
          "output_type": "execute_result",
          "data": {
            "text/html": [
              "<div>\n",
              "<style scoped>\n",
              "    .dataframe tbody tr th:only-of-type {\n",
              "        vertical-align: middle;\n",
              "    }\n",
              "\n",
              "    .dataframe tbody tr th {\n",
              "        vertical-align: top;\n",
              "    }\n",
              "\n",
              "    .dataframe thead th {\n",
              "        text-align: right;\n",
              "    }\n",
              "</style>\n",
              "<table border=\"1\" class=\"dataframe\">\n",
              "  <thead>\n",
              "    <tr style=\"text-align: right;\">\n",
              "      <th></th>\n",
              "      <th>Adj Close</th>\n",
              "      <th>Close</th>\n",
              "      <th>High</th>\n",
              "      <th>Low</th>\n",
              "      <th>Open</th>\n",
              "      <th>Volume</th>\n",
              "    </tr>\n",
              "    <tr>\n",
              "      <th>Date</th>\n",
              "      <th></th>\n",
              "      <th></th>\n",
              "      <th></th>\n",
              "      <th></th>\n",
              "      <th></th>\n",
              "      <th></th>\n",
              "    </tr>\n",
              "  </thead>\n",
              "  <tbody>\n",
              "    <tr>\n",
              "      <th>2010-01-04</th>\n",
              "      <td>27.613066</td>\n",
              "      <td>30.572857</td>\n",
              "      <td>30.642857</td>\n",
              "      <td>30.340000</td>\n",
              "      <td>30.490000</td>\n",
              "      <td>123432400.0</td>\n",
              "    </tr>\n",
              "    <tr>\n",
              "      <th>2010-01-05</th>\n",
              "      <td>27.660807</td>\n",
              "      <td>30.625713</td>\n",
              "      <td>30.798571</td>\n",
              "      <td>30.464285</td>\n",
              "      <td>30.657143</td>\n",
              "      <td>150476200.0</td>\n",
              "    </tr>\n",
              "    <tr>\n",
              "      <th>2010-01-06</th>\n",
              "      <td>27.220825</td>\n",
              "      <td>30.138571</td>\n",
              "      <td>30.747143</td>\n",
              "      <td>30.107143</td>\n",
              "      <td>30.625713</td>\n",
              "      <td>138040000.0</td>\n",
              "    </tr>\n",
              "  </tbody>\n",
              "</table>\n",
              "</div>"
            ],
            "text/plain": [
              "            Adj Close      Close       High        Low       Open       Volume\n",
              "Date                                                                          \n",
              "2010-01-04  27.613066  30.572857  30.642857  30.340000  30.490000  123432400.0\n",
              "2010-01-05  27.660807  30.625713  30.798571  30.464285  30.657143  150476200.0\n",
              "2010-01-06  27.220825  30.138571  30.747143  30.107143  30.625713  138040000.0"
            ]
          },
          "metadata": {
            "tags": []
          },
          "execution_count": 164
        }
      ]
    },
    {
      "cell_type": "code",
      "metadata": {
        "id": "rWL4U2bmMA8h",
        "colab_type": "code",
        "colab": {
          "base_uri": "https://localhost:8080/",
          "height": 143
        },
        "outputId": "4d8fa4fe-9ff9-40ad-f8f8-7ca6e86b9ae9"
      },
      "source": [
        "# Slicing generalizes to two dimensions as you'd expect:\n",
        "aapl.iloc[:2, :2]"
      ],
      "execution_count": 165,
      "outputs": [
        {
          "output_type": "execute_result",
          "data": {
            "text/html": [
              "<div>\n",
              "<style scoped>\n",
              "    .dataframe tbody tr th:only-of-type {\n",
              "        vertical-align: middle;\n",
              "    }\n",
              "\n",
              "    .dataframe tbody tr th {\n",
              "        vertical-align: top;\n",
              "    }\n",
              "\n",
              "    .dataframe thead th {\n",
              "        text-align: right;\n",
              "    }\n",
              "</style>\n",
              "<table border=\"1\" class=\"dataframe\">\n",
              "  <thead>\n",
              "    <tr style=\"text-align: right;\">\n",
              "      <th></th>\n",
              "      <th>Adj Close</th>\n",
              "      <th>Close</th>\n",
              "    </tr>\n",
              "    <tr>\n",
              "      <th>Date</th>\n",
              "      <th></th>\n",
              "      <th></th>\n",
              "    </tr>\n",
              "  </thead>\n",
              "  <tbody>\n",
              "    <tr>\n",
              "      <th>2010-01-04</th>\n",
              "      <td>27.613066</td>\n",
              "      <td>30.572857</td>\n",
              "    </tr>\n",
              "    <tr>\n",
              "      <th>2010-01-05</th>\n",
              "      <td>27.660807</td>\n",
              "      <td>30.625713</td>\n",
              "    </tr>\n",
              "  </tbody>\n",
              "</table>\n",
              "</div>"
            ],
            "text/plain": [
              "            Adj Close      Close\n",
              "Date                            \n",
              "2010-01-04  27.613066  30.572857\n",
              "2010-01-05  27.660807  30.625713"
            ]
          },
          "metadata": {
            "tags": []
          },
          "execution_count": 165
        }
      ]
    },
    {
      "cell_type": "code",
      "metadata": {
        "id": "Xaceax6Po5hp",
        "colab_type": "code",
        "colab": {
          "base_uri": "https://localhost:8080/",
          "height": 455
        },
        "outputId": "248bb74c-f20e-4f2a-df9c-3819fd8f648b"
      },
      "source": [
        "apple.iloc[::-1]"
      ],
      "execution_count": 166,
      "outputs": [
        {
          "output_type": "execute_result",
          "data": {
            "text/html": [
              "<div>\n",
              "<style scoped>\n",
              "    .dataframe tbody tr th:only-of-type {\n",
              "        vertical-align: middle;\n",
              "    }\n",
              "\n",
              "    .dataframe tbody tr th {\n",
              "        vertical-align: top;\n",
              "    }\n",
              "\n",
              "    .dataframe thead th {\n",
              "        text-align: right;\n",
              "    }\n",
              "</style>\n",
              "<table border=\"1\" class=\"dataframe\">\n",
              "  <thead>\n",
              "    <tr style=\"text-align: right;\">\n",
              "      <th></th>\n",
              "      <th>Adj Close</th>\n",
              "      <th>Close</th>\n",
              "      <th>High</th>\n",
              "      <th>Low</th>\n",
              "      <th>Open</th>\n",
              "      <th>Volume</th>\n",
              "    </tr>\n",
              "    <tr>\n",
              "      <th>Date</th>\n",
              "      <th></th>\n",
              "      <th></th>\n",
              "      <th></th>\n",
              "      <th></th>\n",
              "      <th></th>\n",
              "      <th></th>\n",
              "    </tr>\n",
              "  </thead>\n",
              "  <tbody>\n",
              "    <tr>\n",
              "      <th>2017-08-01</th>\n",
              "      <td>149.059998</td>\n",
              "      <td>149.059998</td>\n",
              "      <td>149.419998</td>\n",
              "      <td>148.410004</td>\n",
              "      <td>149.100006</td>\n",
              "      <td>13845589.0</td>\n",
              "    </tr>\n",
              "    <tr>\n",
              "      <th>2017-07-31</th>\n",
              "      <td>148.729996</td>\n",
              "      <td>148.729996</td>\n",
              "      <td>150.330002</td>\n",
              "      <td>148.130005</td>\n",
              "      <td>149.899994</td>\n",
              "      <td>19614200.0</td>\n",
              "    </tr>\n",
              "    <tr>\n",
              "      <th>2017-07-28</th>\n",
              "      <td>149.500000</td>\n",
              "      <td>149.500000</td>\n",
              "      <td>150.229996</td>\n",
              "      <td>149.190002</td>\n",
              "      <td>149.889999</td>\n",
              "      <td>17213700.0</td>\n",
              "    </tr>\n",
              "    <tr>\n",
              "      <th>2017-07-27</th>\n",
              "      <td>150.559998</td>\n",
              "      <td>150.559998</td>\n",
              "      <td>153.990005</td>\n",
              "      <td>147.300003</td>\n",
              "      <td>153.750000</td>\n",
              "      <td>32476300.0</td>\n",
              "    </tr>\n",
              "    <tr>\n",
              "      <th>2017-07-26</th>\n",
              "      <td>153.460007</td>\n",
              "      <td>153.460007</td>\n",
              "      <td>153.929993</td>\n",
              "      <td>153.059998</td>\n",
              "      <td>153.350006</td>\n",
              "      <td>15781000.0</td>\n",
              "    </tr>\n",
              "    <tr>\n",
              "      <th>...</th>\n",
              "      <td>...</td>\n",
              "      <td>...</td>\n",
              "      <td>...</td>\n",
              "      <td>...</td>\n",
              "      <td>...</td>\n",
              "      <td>...</td>\n",
              "    </tr>\n",
              "    <tr>\n",
              "      <th>2010-01-08</th>\n",
              "      <td>27.351143</td>\n",
              "      <td>30.282858</td>\n",
              "      <td>30.285715</td>\n",
              "      <td>29.865715</td>\n",
              "      <td>30.042856</td>\n",
              "      <td>111902700.0</td>\n",
              "    </tr>\n",
              "    <tr>\n",
              "      <th>2010-01-07</th>\n",
              "      <td>27.170504</td>\n",
              "      <td>30.082857</td>\n",
              "      <td>30.285715</td>\n",
              "      <td>29.864286</td>\n",
              "      <td>30.250000</td>\n",
              "      <td>119282800.0</td>\n",
              "    </tr>\n",
              "    <tr>\n",
              "      <th>2010-01-06</th>\n",
              "      <td>27.220825</td>\n",
              "      <td>30.138571</td>\n",
              "      <td>30.747143</td>\n",
              "      <td>30.107143</td>\n",
              "      <td>30.625713</td>\n",
              "      <td>138040000.0</td>\n",
              "    </tr>\n",
              "    <tr>\n",
              "      <th>2010-01-05</th>\n",
              "      <td>27.660807</td>\n",
              "      <td>30.625713</td>\n",
              "      <td>30.798571</td>\n",
              "      <td>30.464285</td>\n",
              "      <td>30.657143</td>\n",
              "      <td>150476200.0</td>\n",
              "    </tr>\n",
              "    <tr>\n",
              "      <th>2010-01-04</th>\n",
              "      <td>27.613066</td>\n",
              "      <td>30.572857</td>\n",
              "      <td>30.642857</td>\n",
              "      <td>30.340000</td>\n",
              "      <td>30.490000</td>\n",
              "      <td>123432400.0</td>\n",
              "    </tr>\n",
              "  </tbody>\n",
              "</table>\n",
              "<p>1908 rows × 6 columns</p>\n",
              "</div>"
            ],
            "text/plain": [
              "             Adj Close       Close  ...        Open       Volume\n",
              "Date                                ...                         \n",
              "2017-08-01  149.059998  149.059998  ...  149.100006   13845589.0\n",
              "2017-07-31  148.729996  148.729996  ...  149.899994   19614200.0\n",
              "2017-07-28  149.500000  149.500000  ...  149.889999   17213700.0\n",
              "2017-07-27  150.559998  150.559998  ...  153.750000   32476300.0\n",
              "2017-07-26  153.460007  153.460007  ...  153.350006   15781000.0\n",
              "...                ...         ...  ...         ...          ...\n",
              "2010-01-08   27.351143   30.282858  ...   30.042856  111902700.0\n",
              "2010-01-07   27.170504   30.082857  ...   30.250000  119282800.0\n",
              "2010-01-06   27.220825   30.138571  ...   30.625713  138040000.0\n",
              "2010-01-05   27.660807   30.625713  ...   30.657143  150476200.0\n",
              "2010-01-04   27.613066   30.572857  ...   30.490000  123432400.0\n",
              "\n",
              "[1908 rows x 6 columns]"
            ]
          },
          "metadata": {
            "tags": []
          },
          "execution_count": 166
        }
      ]
    },
    {
      "cell_type": "code",
      "metadata": {
        "id": "qFjlvXbNMA8j",
        "colab_type": "code",
        "colab": {
          "base_uri": "https://localhost:8080/",
          "height": 206
        },
        "outputId": "fca166e1-efa9-437a-f2f8-44a89830115e"
      },
      "source": [
        "aapl.loc[pd.Timestamp('2010-02-01'):pd.Timestamp('2010-02-04'), ['Close', 'Volume']]"
      ],
      "execution_count": 167,
      "outputs": [
        {
          "output_type": "execute_result",
          "data": {
            "text/html": [
              "<div>\n",
              "<style scoped>\n",
              "    .dataframe tbody tr th:only-of-type {\n",
              "        vertical-align: middle;\n",
              "    }\n",
              "\n",
              "    .dataframe tbody tr th {\n",
              "        vertical-align: top;\n",
              "    }\n",
              "\n",
              "    .dataframe thead th {\n",
              "        text-align: right;\n",
              "    }\n",
              "</style>\n",
              "<table border=\"1\" class=\"dataframe\">\n",
              "  <thead>\n",
              "    <tr style=\"text-align: right;\">\n",
              "      <th></th>\n",
              "      <th>Close</th>\n",
              "      <th>Volume</th>\n",
              "    </tr>\n",
              "    <tr>\n",
              "      <th>Date</th>\n",
              "      <th></th>\n",
              "      <th></th>\n",
              "    </tr>\n",
              "  </thead>\n",
              "  <tbody>\n",
              "    <tr>\n",
              "      <th>2010-02-01</th>\n",
              "      <td>27.818571</td>\n",
              "      <td>187469100.0</td>\n",
              "    </tr>\n",
              "    <tr>\n",
              "      <th>2010-02-02</th>\n",
              "      <td>27.980000</td>\n",
              "      <td>174585600.0</td>\n",
              "    </tr>\n",
              "    <tr>\n",
              "      <th>2010-02-03</th>\n",
              "      <td>28.461428</td>\n",
              "      <td>153832000.0</td>\n",
              "    </tr>\n",
              "    <tr>\n",
              "      <th>2010-02-04</th>\n",
              "      <td>27.435715</td>\n",
              "      <td>189413000.0</td>\n",
              "    </tr>\n",
              "  </tbody>\n",
              "</table>\n",
              "</div>"
            ],
            "text/plain": [
              "                Close       Volume\n",
              "Date                              \n",
              "2010-02-01  27.818571  187469100.0\n",
              "2010-02-02  27.980000  174585600.0\n",
              "2010-02-03  28.461428  153832000.0\n",
              "2010-02-04  27.435715  189413000.0"
            ]
          },
          "metadata": {
            "tags": []
          },
          "execution_count": 167
        }
      ]
    },
    {
      "cell_type": "code",
      "metadata": {
        "id": "KMlCi5PhsSDU",
        "colab_type": "code",
        "colab": {
          "base_uri": "https://localhost:8080/",
          "height": 455
        },
        "outputId": "0ced66bd-137d-48b9-c055-e30907170184"
      },
      "source": [
        "apple.loc[pd.Timestamp('2015-01-01'):pd.Timestamp('2017-01-01'),['High','Low']]"
      ],
      "execution_count": 168,
      "outputs": [
        {
          "output_type": "execute_result",
          "data": {
            "text/html": [
              "<div>\n",
              "<style scoped>\n",
              "    .dataframe tbody tr th:only-of-type {\n",
              "        vertical-align: middle;\n",
              "    }\n",
              "\n",
              "    .dataframe tbody tr th {\n",
              "        vertical-align: top;\n",
              "    }\n",
              "\n",
              "    .dataframe thead th {\n",
              "        text-align: right;\n",
              "    }\n",
              "</style>\n",
              "<table border=\"1\" class=\"dataframe\">\n",
              "  <thead>\n",
              "    <tr style=\"text-align: right;\">\n",
              "      <th></th>\n",
              "      <th>High</th>\n",
              "      <th>Low</th>\n",
              "    </tr>\n",
              "    <tr>\n",
              "      <th>Date</th>\n",
              "      <th></th>\n",
              "      <th></th>\n",
              "    </tr>\n",
              "  </thead>\n",
              "  <tbody>\n",
              "    <tr>\n",
              "      <th>2015-01-02</th>\n",
              "      <td>111.440002</td>\n",
              "      <td>107.349998</td>\n",
              "    </tr>\n",
              "    <tr>\n",
              "      <th>2015-01-05</th>\n",
              "      <td>108.650002</td>\n",
              "      <td>105.410004</td>\n",
              "    </tr>\n",
              "    <tr>\n",
              "      <th>2015-01-06</th>\n",
              "      <td>107.430000</td>\n",
              "      <td>104.629997</td>\n",
              "    </tr>\n",
              "    <tr>\n",
              "      <th>2015-01-07</th>\n",
              "      <td>108.199997</td>\n",
              "      <td>106.699997</td>\n",
              "    </tr>\n",
              "    <tr>\n",
              "      <th>2015-01-08</th>\n",
              "      <td>112.150002</td>\n",
              "      <td>108.699997</td>\n",
              "    </tr>\n",
              "    <tr>\n",
              "      <th>...</th>\n",
              "      <td>...</td>\n",
              "      <td>...</td>\n",
              "    </tr>\n",
              "    <tr>\n",
              "      <th>2016-12-23</th>\n",
              "      <td>116.519997</td>\n",
              "      <td>115.589996</td>\n",
              "    </tr>\n",
              "    <tr>\n",
              "      <th>2016-12-27</th>\n",
              "      <td>117.800003</td>\n",
              "      <td>116.489998</td>\n",
              "    </tr>\n",
              "    <tr>\n",
              "      <th>2016-12-28</th>\n",
              "      <td>118.019997</td>\n",
              "      <td>116.199997</td>\n",
              "    </tr>\n",
              "    <tr>\n",
              "      <th>2016-12-29</th>\n",
              "      <td>117.110001</td>\n",
              "      <td>116.400002</td>\n",
              "    </tr>\n",
              "    <tr>\n",
              "      <th>2016-12-30</th>\n",
              "      <td>117.199997</td>\n",
              "      <td>115.430000</td>\n",
              "    </tr>\n",
              "  </tbody>\n",
              "</table>\n",
              "<p>504 rows × 2 columns</p>\n",
              "</div>"
            ],
            "text/plain": [
              "                  High         Low\n",
              "Date                              \n",
              "2015-01-02  111.440002  107.349998\n",
              "2015-01-05  108.650002  105.410004\n",
              "2015-01-06  107.430000  104.629997\n",
              "2015-01-07  108.199997  106.699997\n",
              "2015-01-08  112.150002  108.699997\n",
              "...                ...         ...\n",
              "2016-12-23  116.519997  115.589996\n",
              "2016-12-27  117.800003  116.489998\n",
              "2016-12-28  118.019997  116.199997\n",
              "2016-12-29  117.110001  116.400002\n",
              "2016-12-30  117.199997  115.430000\n",
              "\n",
              "[504 rows x 2 columns]"
            ]
          },
          "metadata": {
            "tags": []
          },
          "execution_count": 168
        }
      ]
    },
    {
      "cell_type": "markdown",
      "metadata": {
        "id": "kiGVD8sbMA8l",
        "colab_type": "text"
      },
      "source": [
        "# Rolling Operations"
      ]
    },
    {
      "cell_type": "markdown",
      "metadata": {
        "id": "2T-wl-5HMA8l",
        "colab_type": "text"
      },
      "source": [
        "<center><img src=\"images/rolling.gif\" alt=\"Drawing\" style=\"width: 75%;\"/></center>"
      ]
    },
    {
      "cell_type": "code",
      "metadata": {
        "id": "0JHl-xn8MA8l",
        "colab_type": "code",
        "colab": {
          "base_uri": "https://localhost:8080/",
          "height": 271
        },
        "outputId": "ef14e3f6-c251-44b3-e70a-f221ed110dc6"
      },
      "source": [
        "aapl.rolling(5)[['Close', 'Adj Close']].mean().plot();"
      ],
      "execution_count": 169,
      "outputs": [
        {
          "output_type": "display_data",
          "data": {
            "image/png": "[encoded data removed]",
            "text/plain": [
              "<Figure size 432x288 with 1 Axes>"
            ]
          },
          "metadata": {
            "tags": [],
            "needs_background": "light"
          }
        }
      ]
    },
    {
      "cell_type": "code",
      "metadata": {
        "id": "uNrFBC5tssMb",
        "colab_type": "code",
        "colab": {
          "base_uri": "https://localhost:8080/",
          "height": 278
        },
        "outputId": "ae3bfd9b-22eb-452a-fd9d-ac0ac3243341"
      },
      "source": [
        "apple.rolling(1000)[['High','Low']].mean().plot();"
      ],
      "execution_count": 170,
      "outputs": [
        {
          "output_type": "display_data",
          "data": {
            "image/png": "[encoded data removed]",
            "text/plain": [
              "<Figure size 432x288 with 1 Axes>"
            ]
          },
          "metadata": {
            "tags": [],
            "needs_background": "light"
          }
        }
      ]
    },
    {
      "cell_type": "code",
      "metadata": {
        "id": "uCG9bBq9MA8o",
        "colab_type": "code",
        "colab": {
          "base_uri": "https://localhost:8080/",
          "height": 279
        },
        "outputId": "58c198f1-3851-48fd-a961-a416d7cddfdf"
      },
      "source": [
        "# Drop `Volume`, since it's way bigger than everything else.\n",
        "aapl.drop('Volume', axis=1).resample('2W').max().plot();"
      ],
      "execution_count": 171,
      "outputs": [
        {
          "output_type": "display_data",
          "data": {
            "image/png": "[encoded data removed]",
            "text/plain": [
              "<Figure size 432x288 with 1 Axes>"
            ]
          },
          "metadata": {
            "tags": [],
            "needs_background": "light"
          }
        }
      ]
    },
    {
      "cell_type": "code",
      "metadata": {
        "id": "XnsQz43as5DE",
        "colab_type": "code",
        "colab": {
          "base_uri": "https://localhost:8080/",
          "height": 279
        },
        "outputId": "cef79f35-a49a-47b4-eb73-e7d7cdd6093e"
      },
      "source": [
        "apple.drop('Volume', axis=1).resample('110W').min().plot();"
      ],
      "execution_count": 172,
      "outputs": [
        {
          "output_type": "display_data",
          "data": {
            "image/png": "[encoded data removed]",
            "text/plain": [
              "<Figure size 432x288 with 1 Axes>"
            ]
          },
          "metadata": {
            "tags": [],
            "needs_background": "light"
          }
        }
      ]
    },
    {
      "cell_type": "code",
      "metadata": {
        "id": "bgqzMOSiMA8z",
        "colab_type": "code",
        "colab": {
          "base_uri": "https://localhost:8080/",
          "height": 269
        },
        "outputId": "2493d5a1-5771-4c43-b3f1-014d1d88a890"
      },
      "source": [
        "# 30-day rolling exponentially-weighted stddev of returns.\n",
        "aapl['Close'].pct_change().ewm(span=30).std().plot();"
      ],
      "execution_count": 173,
      "outputs": [
        {
          "output_type": "display_data",
          "data": {
            "image/png": "[encoded data removed]",
            "text/plain": [
              "<Figure size 432x288 with 1 Axes>"
            ]
          },
          "metadata": {
            "tags": [],
            "needs_background": "light"
          }
        }
      ]
    },
    {
      "cell_type": "code",
      "metadata": {
        "id": "HhlRPvIMtRB4",
        "colab_type": "code",
        "colab": {
          "base_uri": "https://localhost:8080/",
          "height": 272
        },
        "outputId": "3c56dc18-8606-4657-8b3c-f4f203a008cb"
      },
      "source": [
        "apple['High'].pct_change().ewm(span=1000).std().plot();"
      ],
      "execution_count": 174,
      "outputs": [
        {
          "output_type": "display_data",
          "data": {
            "image/png": "[encoded data removed]",
            "text/plain": [
              "<Figure size 432x288 with 1 Axes>"
            ]
          },
          "metadata": {
            "tags": [],
            "needs_background": "light"
          }
        }
      ]
    },
    {
      "cell_type": "markdown",
      "metadata": {
        "id": "VpoWliHfMA82",
        "colab_type": "text"
      },
      "source": [
        "# \"Real World\" Data"
      ]
    },
    {
      "cell_type": "code",
      "metadata": {
        "id": "cZxxSO9bMA83",
        "colab_type": "code",
        "colab": {
          "base_uri": "https://localhost:8080/",
          "height": 206
        },
        "outputId": "886c0e5b-9fc9-4758-adbc-c7ac7c670ece"
      },
      "source": [
        "from avocados import read_avocadata\n",
        "\n",
        "avocados = read_avocadata('2014', '2016')\n",
        "avocados.head()"
      ],
      "execution_count": 175,
      "outputs": [
        {
          "output_type": "execute_result",
          "data": {
            "text/html": [
              "<div>\n",
              "<style scoped>\n",
              "    .dataframe tbody tr th:only-of-type {\n",
              "        vertical-align: middle;\n",
              "    }\n",
              "\n",
              "    .dataframe tbody tr th {\n",
              "        vertical-align: top;\n",
              "    }\n",
              "\n",
              "    .dataframe thead th {\n",
              "        text-align: right;\n",
              "    }\n",
              "</style>\n",
              "<table border=\"1\" class=\"dataframe\">\n",
              "  <thead>\n",
              "    <tr style=\"text-align: right;\">\n",
              "      <th></th>\n",
              "      <th>Date</th>\n",
              "      <th>Region</th>\n",
              "      <th>Variety</th>\n",
              "      <th>Organic</th>\n",
              "      <th>Number of Stores</th>\n",
              "      <th>Weighted Avg Price</th>\n",
              "      <th>Low Price</th>\n",
              "      <th>High Price</th>\n",
              "    </tr>\n",
              "  </thead>\n",
              "  <tbody>\n",
              "    <tr>\n",
              "      <th>0</th>\n",
              "      <td>2014-01-03 00:00:00+00:00</td>\n",
              "      <td>NATIONAL</td>\n",
              "      <td>HASS</td>\n",
              "      <td>False</td>\n",
              "      <td>9184</td>\n",
              "      <td>0.93</td>\n",
              "      <td>NaN</td>\n",
              "      <td>NaN</td>\n",
              "    </tr>\n",
              "    <tr>\n",
              "      <th>1</th>\n",
              "      <td>2014-01-03 00:00:00+00:00</td>\n",
              "      <td>NATIONAL</td>\n",
              "      <td>HASS</td>\n",
              "      <td>True</td>\n",
              "      <td>872</td>\n",
              "      <td>1.44</td>\n",
              "      <td>NaN</td>\n",
              "      <td>NaN</td>\n",
              "    </tr>\n",
              "    <tr>\n",
              "      <th>2</th>\n",
              "      <td>2014-01-03 00:00:00+00:00</td>\n",
              "      <td>NORTHEAST</td>\n",
              "      <td>HASS</td>\n",
              "      <td>False</td>\n",
              "      <td>1449</td>\n",
              "      <td>1.08</td>\n",
              "      <td>0.5</td>\n",
              "      <td>1.67</td>\n",
              "    </tr>\n",
              "    <tr>\n",
              "      <th>3</th>\n",
              "      <td>2014-01-03 00:00:00+00:00</td>\n",
              "      <td>NORTHEAST</td>\n",
              "      <td>HASS</td>\n",
              "      <td>True</td>\n",
              "      <td>66</td>\n",
              "      <td>1.54</td>\n",
              "      <td>1.5</td>\n",
              "      <td>2.00</td>\n",
              "    </tr>\n",
              "    <tr>\n",
              "      <th>4</th>\n",
              "      <td>2014-01-03 00:00:00+00:00</td>\n",
              "      <td>SOUTHEAST</td>\n",
              "      <td>HASS</td>\n",
              "      <td>False</td>\n",
              "      <td>2286</td>\n",
              "      <td>0.98</td>\n",
              "      <td>0.5</td>\n",
              "      <td>1.99</td>\n",
              "    </tr>\n",
              "  </tbody>\n",
              "</table>\n",
              "</div>"
            ],
            "text/plain": [
              "                       Date     Region  ... Low Price  High Price\n",
              "0 2014-01-03 00:00:00+00:00   NATIONAL  ...       NaN         NaN\n",
              "1 2014-01-03 00:00:00+00:00   NATIONAL  ...       NaN         NaN\n",
              "2 2014-01-03 00:00:00+00:00  NORTHEAST  ...       0.5        1.67\n",
              "3 2014-01-03 00:00:00+00:00  NORTHEAST  ...       1.5        2.00\n",
              "4 2014-01-03 00:00:00+00:00  SOUTHEAST  ...       0.5        1.99\n",
              "\n",
              "[5 rows x 8 columns]"
            ]
          },
          "metadata": {
            "tags": []
          },
          "execution_count": 175
        }
      ]
    },
    {
      "cell_type": "code",
      "metadata": {
        "id": "OX362BC0t7fR",
        "colab_type": "code",
        "colab": {
          "base_uri": "https://localhost:8080/",
          "height": 206
        },
        "outputId": "f587c624-bd05-4131-9939-59f2938517d2"
      },
      "source": [
        "from avocados import read_avocadata\n",
        "\n",
        "aguacate = read_avocadata('2010', '2017')\n",
        "aguacate.head()"
      ],
      "execution_count": 176,
      "outputs": [
        {
          "output_type": "execute_result",
          "data": {
            "text/html": [
              "<div>\n",
              "<style scoped>\n",
              "    .dataframe tbody tr th:only-of-type {\n",
              "        vertical-align: middle;\n",
              "    }\n",
              "\n",
              "    .dataframe tbody tr th {\n",
              "        vertical-align: top;\n",
              "    }\n",
              "\n",
              "    .dataframe thead th {\n",
              "        text-align: right;\n",
              "    }\n",
              "</style>\n",
              "<table border=\"1\" class=\"dataframe\">\n",
              "  <thead>\n",
              "    <tr style=\"text-align: right;\">\n",
              "      <th></th>\n",
              "      <th>Date</th>\n",
              "      <th>Region</th>\n",
              "      <th>Variety</th>\n",
              "      <th>Organic</th>\n",
              "      <th>Number of Stores</th>\n",
              "      <th>Weighted Avg Price</th>\n",
              "      <th>Low Price</th>\n",
              "      <th>High Price</th>\n",
              "    </tr>\n",
              "  </thead>\n",
              "  <tbody>\n",
              "    <tr>\n",
              "      <th>0</th>\n",
              "      <td>2014-01-03 00:00:00+00:00</td>\n",
              "      <td>NATIONAL</td>\n",
              "      <td>HASS</td>\n",
              "      <td>False</td>\n",
              "      <td>9184</td>\n",
              "      <td>0.93</td>\n",
              "      <td>NaN</td>\n",
              "      <td>NaN</td>\n",
              "    </tr>\n",
              "    <tr>\n",
              "      <th>1</th>\n",
              "      <td>2014-01-03 00:00:00+00:00</td>\n",
              "      <td>NATIONAL</td>\n",
              "      <td>HASS</td>\n",
              "      <td>True</td>\n",
              "      <td>872</td>\n",
              "      <td>1.44</td>\n",
              "      <td>NaN</td>\n",
              "      <td>NaN</td>\n",
              "    </tr>\n",
              "    <tr>\n",
              "      <th>2</th>\n",
              "      <td>2014-01-03 00:00:00+00:00</td>\n",
              "      <td>NORTHEAST</td>\n",
              "      <td>HASS</td>\n",
              "      <td>False</td>\n",
              "      <td>1449</td>\n",
              "      <td>1.08</td>\n",
              "      <td>0.5</td>\n",
              "      <td>1.67</td>\n",
              "    </tr>\n",
              "    <tr>\n",
              "      <th>3</th>\n",
              "      <td>2014-01-03 00:00:00+00:00</td>\n",
              "      <td>NORTHEAST</td>\n",
              "      <td>HASS</td>\n",
              "      <td>True</td>\n",
              "      <td>66</td>\n",
              "      <td>1.54</td>\n",
              "      <td>1.5</td>\n",
              "      <td>2.00</td>\n",
              "    </tr>\n",
              "    <tr>\n",
              "      <th>4</th>\n",
              "      <td>2014-01-03 00:00:00+00:00</td>\n",
              "      <td>SOUTHEAST</td>\n",
              "      <td>HASS</td>\n",
              "      <td>False</td>\n",
              "      <td>2286</td>\n",
              "      <td>0.98</td>\n",
              "      <td>0.5</td>\n",
              "      <td>1.99</td>\n",
              "    </tr>\n",
              "  </tbody>\n",
              "</table>\n",
              "</div>"
            ],
            "text/plain": [
              "                       Date     Region  ... Low Price  High Price\n",
              "0 2014-01-03 00:00:00+00:00   NATIONAL  ...       NaN         NaN\n",
              "1 2014-01-03 00:00:00+00:00   NATIONAL  ...       NaN         NaN\n",
              "2 2014-01-03 00:00:00+00:00  NORTHEAST  ...       0.5        1.67\n",
              "3 2014-01-03 00:00:00+00:00  NORTHEAST  ...       1.5        2.00\n",
              "4 2014-01-03 00:00:00+00:00  SOUTHEAST  ...       0.5        1.99\n",
              "\n",
              "[5 rows x 8 columns]"
            ]
          },
          "metadata": {
            "tags": []
          },
          "execution_count": 176
        }
      ]
    },
    {
      "cell_type": "code",
      "metadata": {
        "id": "gaZcq-MLMA84",
        "colab_type": "code",
        "colab": {
          "base_uri": "https://localhost:8080/",
          "height": 182
        },
        "outputId": "7c255430-11a2-4cfa-9e5e-c710673cc054"
      },
      "source": [
        "# Unlike numpy arrays, pandas DataFrames can have a different dtype for each column.\n",
        "avocados.dtypes"
      ],
      "execution_count": 177,
      "outputs": [
        {
          "output_type": "execute_result",
          "data": {
            "text/plain": [
              "Date                  datetime64[ns, UTC]\n",
              "Region                             object\n",
              "Variety                            object\n",
              "Organic                              bool\n",
              "Number of Stores                    int64\n",
              "Weighted Avg Price                float64\n",
              "Low Price                         float64\n",
              "High Price                        float64\n",
              "dtype: object"
            ]
          },
          "metadata": {
            "tags": []
          },
          "execution_count": 177
        }
      ]
    },
    {
      "cell_type": "code",
      "metadata": {
        "id": "7YBoD3k6uC__",
        "colab_type": "code",
        "colab": {
          "base_uri": "https://localhost:8080/",
          "height": 182
        },
        "outputId": "ab81908e-3ea2-4499-d578-34a4deeff877"
      },
      "source": [
        "aguacate.dtypes"
      ],
      "execution_count": 178,
      "outputs": [
        {
          "output_type": "execute_result",
          "data": {
            "text/plain": [
              "Date                  datetime64[ns, UTC]\n",
              "Region                             object\n",
              "Variety                            object\n",
              "Organic                              bool\n",
              "Number of Stores                    int64\n",
              "Weighted Avg Price                float64\n",
              "Low Price                         float64\n",
              "High Price                        float64\n",
              "dtype: object"
            ]
          },
          "metadata": {
            "tags": []
          },
          "execution_count": 178
        }
      ]
    },
    {
      "cell_type": "code",
      "metadata": {
        "id": "_9LKTGr3MA86",
        "colab_type": "code",
        "colab": {
          "base_uri": "https://localhost:8080/",
          "height": 277
        },
        "outputId": "4a32849f-4cf7-4d86-901a-78b4de77a00a"
      },
      "source": [
        "# What's the regional average price of a HASS avocado every day?\n",
        "hass = avocados[avocados.Variety == 'HASS']\n",
        "hass.groupby(['Date', 'Region'])['Weighted Avg Price'].mean().unstack().ffill().plot();"
      ],
      "execution_count": 179,
      "outputs": [
        {
          "output_type": "display_data",
          "data": {
            "image/png": "[encoded data removed]",
            "text/plain": [
              "<Figure size 432x288 with 1 Axes>"
            ]
          },
          "metadata": {
            "tags": [],
            "needs_background": "light"
          }
        }
      ]
    },
    {
      "cell_type": "code",
      "metadata": {
        "id": "B79J2dS4uGH3",
        "colab_type": "code",
        "colab": {
          "base_uri": "https://localhost:8080/",
          "height": 537
        },
        "outputId": "fe3e70c6-580c-4228-f9eb-583bcffae426"
      },
      "source": [
        "reg = avocados[avocados.Region == 'NORTHEAST']\n",
        "reg.groupby(['Date', 'Variety'])['Weighted Avg Price'].mean().unstack().ffill().plot();\n",
        "greenskin = avocados[avocados.Variety == 'GREENSKIN']\n",
        "greenskin.groupby(['Date', 'Region'])['Weighted Avg Price'].mean().unstack().ffill().plot();"
      ],
      "execution_count": 180,
      "outputs": [
        {
          "output_type": "display_data",
          "data": {
            "image/png": "[encoded data removed]",
            "text/plain": [
              "<Figure size 432x288 with 1 Axes>"
            ]
          },
          "metadata": {
            "tags": [],
            "needs_background": "light"
          }
        },
        {
          "output_type": "display_data",
          "data": {
            "image/png": "[encoded data removed]",
            "text/plain": [
              "<Figure size 432x288 with 1 Axes>"
            ]
          },
          "metadata": {
            "tags": [],
            "needs_background": "light"
          }
        }
      ]
    },
    {
      "cell_type": "code",
      "metadata": {
        "id": "9mgSJJplMA88",
        "colab_type": "code",
        "colab": {}
      },
      "source": [
        "def _organic_spread(group):\n",
        "\n",
        "    if len(group.columns) != 2:\n",
        "        return pd.Series(index=group.index, data=0.0)\n",
        "    \n",
        "    is_organic = group.columns.get_level_values('Organic').values.astype(bool)\n",
        "    organics = group.loc[:, is_organic].squeeze()\n",
        "    non_organics = group.loc[:, ~is_organic].squeeze()\n",
        "    diff = organics - non_organics\n",
        "    return diff\n",
        "\n",
        "def organic_spread_by_region(df):\n",
        "    \"\"\"What's the difference between the price of an organic \n",
        "    and non-organic avocado within each region?\n",
        "    \"\"\"\n",
        "    return (\n",
        "        df\n",
        "        .set_index(['Date', 'Region', 'Organic'])\n",
        "         ['Weighted Avg Price']\n",
        "        .unstack(level=['Region', 'Organic'])\n",
        "        .ffill()\n",
        "        .groupby(level='Region', axis=1)\n",
        "        .apply(_organic_spread)\n",
        "    )"
      ],
      "execution_count": 181,
      "outputs": []
    },
    {
      "cell_type": "code",
      "metadata": {
        "id": "tOM2q9itMA8-",
        "colab_type": "code",
        "colab": {
          "base_uri": "https://localhost:8080/",
          "height": 293
        },
        "outputId": "b1b86218-b132-4292-a3a6-fa2b8040c2bc"
      },
      "source": [
        "organic_spread_by_region(hass).plot();\n",
        "plt.gca().set_title(\"Daily Regional Organic Spread\");\n",
        "plt.legend(bbox_to_anchor=(1, 1));"
      ],
      "execution_count": 182,
      "outputs": [
        {
          "output_type": "display_data",
          "data": {
            "image/png": "[encoded data removed]",
            "text/plain": [
              "<Figure size 432x288 with 1 Axes>"
            ]
          },
          "metadata": {
            "tags": [],
            "needs_background": "light"
          }
        }
      ]
    },
    {
      "cell_type": "code",
      "metadata": {
        "id": "K8Pw4BT9ufvY",
        "colab_type": "code",
        "colab": {
          "base_uri": "https://localhost:8080/",
          "height": 293
        },
        "outputId": "1e88fec0-a5aa-4c3b-a36e-be73ec9cb85d"
      },
      "source": [
        "organic_spread_by_region(greenskin).plot();\n",
        "plt.gca().set_title(\"Greenskin\");\n",
        "plt.legend(bbox_to_anchor=(1, 1));"
      ],
      "execution_count": 183,
      "outputs": [
        {
          "output_type": "display_data",
          "data": {
            "image/png": "[encoded data removed]",
            "text/plain": [
              "<Figure size 432x288 with 1 Axes>"
            ]
          },
          "metadata": {
            "tags": [],
            "needs_background": "light"
          }
        }
      ]
    },
    {
      "cell_type": "code",
      "metadata": {
        "id": "qm-d9H25MA8_",
        "colab_type": "code",
        "colab": {
          "base_uri": "https://localhost:8080/",
          "height": 363
        },
        "outputId": "5e5b08b9-b6ba-4e23-a68d-50fa7c1e2fcc"
      },
      "source": [
        "spread_correlation = organic_spread_by_region(hass).corr()\n",
        "spread_correlation"
      ],
      "execution_count": 184,
      "outputs": [
        {
          "output_type": "execute_result",
          "data": {
            "text/html": [
              "<div>\n",
              "<style scoped>\n",
              "    .dataframe tbody tr th:only-of-type {\n",
              "        vertical-align: middle;\n",
              "    }\n",
              "\n",
              "    .dataframe tbody tr th {\n",
              "        vertical-align: top;\n",
              "    }\n",
              "\n",
              "    .dataframe thead th {\n",
              "        text-align: right;\n",
              "    }\n",
              "</style>\n",
              "<table border=\"1\" class=\"dataframe\">\n",
              "  <thead>\n",
              "    <tr style=\"text-align: right;\">\n",
              "      <th>Region</th>\n",
              "      <th>ALASKA</th>\n",
              "      <th>HAWAII</th>\n",
              "      <th>MIDWEST</th>\n",
              "      <th>NATIONAL</th>\n",
              "      <th>NORTHEAST</th>\n",
              "      <th>NORTHWEST</th>\n",
              "      <th>SOUTHEAST</th>\n",
              "      <th>SOUTHWEST</th>\n",
              "      <th>SOUTH_CENTRAL</th>\n",
              "    </tr>\n",
              "    <tr>\n",
              "      <th>Region</th>\n",
              "      <th></th>\n",
              "      <th></th>\n",
              "      <th></th>\n",
              "      <th></th>\n",
              "      <th></th>\n",
              "      <th></th>\n",
              "      <th></th>\n",
              "      <th></th>\n",
              "      <th></th>\n",
              "    </tr>\n",
              "  </thead>\n",
              "  <tbody>\n",
              "    <tr>\n",
              "      <th>ALASKA</th>\n",
              "      <td>1.000000</td>\n",
              "      <td>0.202723</td>\n",
              "      <td>0.175251</td>\n",
              "      <td>0.007844</td>\n",
              "      <td>0.051049</td>\n",
              "      <td>0.087575</td>\n",
              "      <td>0.129079</td>\n",
              "      <td>-0.070868</td>\n",
              "      <td>0.161624</td>\n",
              "    </tr>\n",
              "    <tr>\n",
              "      <th>HAWAII</th>\n",
              "      <td>0.202723</td>\n",
              "      <td>1.000000</td>\n",
              "      <td>-0.021116</td>\n",
              "      <td>0.373914</td>\n",
              "      <td>0.247171</td>\n",
              "      <td>0.341155</td>\n",
              "      <td>0.019388</td>\n",
              "      <td>0.159192</td>\n",
              "      <td>0.092632</td>\n",
              "    </tr>\n",
              "    <tr>\n",
              "      <th>MIDWEST</th>\n",
              "      <td>0.175251</td>\n",
              "      <td>-0.021116</td>\n",
              "      <td>1.000000</td>\n",
              "      <td>0.062595</td>\n",
              "      <td>-0.010213</td>\n",
              "      <td>-0.043783</td>\n",
              "      <td>0.047437</td>\n",
              "      <td>-0.059128</td>\n",
              "      <td>0.068902</td>\n",
              "    </tr>\n",
              "    <tr>\n",
              "      <th>NATIONAL</th>\n",
              "      <td>0.007844</td>\n",
              "      <td>0.373914</td>\n",
              "      <td>0.062595</td>\n",
              "      <td>1.000000</td>\n",
              "      <td>0.502035</td>\n",
              "      <td>0.579102</td>\n",
              "      <td>-0.040539</td>\n",
              "      <td>0.635006</td>\n",
              "      <td>0.486524</td>\n",
              "    </tr>\n",
              "    <tr>\n",
              "      <th>NORTHEAST</th>\n",
              "      <td>0.051049</td>\n",
              "      <td>0.247171</td>\n",
              "      <td>-0.010213</td>\n",
              "      <td>0.502035</td>\n",
              "      <td>1.000000</td>\n",
              "      <td>0.242039</td>\n",
              "      <td>-0.236225</td>\n",
              "      <td>0.360389</td>\n",
              "      <td>0.149881</td>\n",
              "    </tr>\n",
              "    <tr>\n",
              "      <th>NORTHWEST</th>\n",
              "      <td>0.087575</td>\n",
              "      <td>0.341155</td>\n",
              "      <td>-0.043783</td>\n",
              "      <td>0.579102</td>\n",
              "      <td>0.242039</td>\n",
              "      <td>1.000000</td>\n",
              "      <td>-0.032306</td>\n",
              "      <td>0.165992</td>\n",
              "      <td>0.349935</td>\n",
              "    </tr>\n",
              "    <tr>\n",
              "      <th>SOUTHEAST</th>\n",
              "      <td>0.129079</td>\n",
              "      <td>0.019388</td>\n",
              "      <td>0.047437</td>\n",
              "      <td>-0.040539</td>\n",
              "      <td>-0.236225</td>\n",
              "      <td>-0.032306</td>\n",
              "      <td>1.000000</td>\n",
              "      <td>-0.167631</td>\n",
              "      <td>-0.021176</td>\n",
              "    </tr>\n",
              "    <tr>\n",
              "      <th>SOUTHWEST</th>\n",
              "      <td>-0.070868</td>\n",
              "      <td>0.159192</td>\n",
              "      <td>-0.059128</td>\n",
              "      <td>0.635006</td>\n",
              "      <td>0.360389</td>\n",
              "      <td>0.165992</td>\n",
              "      <td>-0.167631</td>\n",
              "      <td>1.000000</td>\n",
              "      <td>0.254504</td>\n",
              "    </tr>\n",
              "    <tr>\n",
              "      <th>SOUTH_CENTRAL</th>\n",
              "      <td>0.161624</td>\n",
              "      <td>0.092632</td>\n",
              "      <td>0.068902</td>\n",
              "      <td>0.486524</td>\n",
              "      <td>0.149881</td>\n",
              "      <td>0.349935</td>\n",
              "      <td>-0.021176</td>\n",
              "      <td>0.254504</td>\n",
              "      <td>1.000000</td>\n",
              "    </tr>\n",
              "  </tbody>\n",
              "</table>\n",
              "</div>"
            ],
            "text/plain": [
              "Region           ALASKA    HAWAII  ...  SOUTHWEST  SOUTH_CENTRAL\n",
              "Region                             ...                          \n",
              "ALASKA         1.000000  0.202723  ...  -0.070868       0.161624\n",
              "HAWAII         0.202723  1.000000  ...   0.159192       0.092632\n",
              "MIDWEST        0.175251 -0.021116  ...  -0.059128       0.068902\n",
              "NATIONAL       0.007844  0.373914  ...   0.635006       0.486524\n",
              "NORTHEAST      0.051049  0.247171  ...   0.360389       0.149881\n",
              "NORTHWEST      0.087575  0.341155  ...   0.165992       0.349935\n",
              "SOUTHEAST      0.129079  0.019388  ...  -0.167631      -0.021176\n",
              "SOUTHWEST     -0.070868  0.159192  ...   1.000000       0.254504\n",
              "SOUTH_CENTRAL  0.161624  0.092632  ...   0.254504       1.000000\n",
              "\n",
              "[9 rows x 9 columns]"
            ]
          },
          "metadata": {
            "tags": []
          },
          "execution_count": 184
        }
      ]
    },
    {
      "cell_type": "code",
      "metadata": {
        "id": "vzoPPP1VvFkY",
        "colab_type": "code",
        "colab": {
          "base_uri": "https://localhost:8080/",
          "height": 332
        },
        "outputId": "b3fe2c9d-94ec-496b-d2e0-66aaa2fc933e"
      },
      "source": [
        "spread = organic_spread_by_region(greenskin).corr()\n",
        "spread = spread.fillna(0)\n",
        "spread"
      ],
      "execution_count": 185,
      "outputs": [
        {
          "output_type": "execute_result",
          "data": {
            "text/html": [
              "<div>\n",
              "<style scoped>\n",
              "    .dataframe tbody tr th:only-of-type {\n",
              "        vertical-align: middle;\n",
              "    }\n",
              "\n",
              "    .dataframe tbody tr th {\n",
              "        vertical-align: top;\n",
              "    }\n",
              "\n",
              "    .dataframe thead th {\n",
              "        text-align: right;\n",
              "    }\n",
              "</style>\n",
              "<table border=\"1\" class=\"dataframe\">\n",
              "  <thead>\n",
              "    <tr style=\"text-align: right;\">\n",
              "      <th>Region</th>\n",
              "      <th>ALASKA</th>\n",
              "      <th>MIDWEST</th>\n",
              "      <th>NATIONAL</th>\n",
              "      <th>NORTHEAST</th>\n",
              "      <th>NORTHWEST</th>\n",
              "      <th>SOUTHEAST</th>\n",
              "      <th>SOUTHWEST</th>\n",
              "      <th>SOUTH_CENTRAL</th>\n",
              "    </tr>\n",
              "    <tr>\n",
              "      <th>Region</th>\n",
              "      <th></th>\n",
              "      <th></th>\n",
              "      <th></th>\n",
              "      <th></th>\n",
              "      <th></th>\n",
              "      <th></th>\n",
              "      <th></th>\n",
              "      <th></th>\n",
              "    </tr>\n",
              "  </thead>\n",
              "  <tbody>\n",
              "    <tr>\n",
              "      <th>ALASKA</th>\n",
              "      <td>0.0</td>\n",
              "      <td>0.000000</td>\n",
              "      <td>0.000000</td>\n",
              "      <td>0.000000</td>\n",
              "      <td>0.000000</td>\n",
              "      <td>0.000000</td>\n",
              "      <td>0.000000</td>\n",
              "      <td>0.000000</td>\n",
              "    </tr>\n",
              "    <tr>\n",
              "      <th>MIDWEST</th>\n",
              "      <td>0.0</td>\n",
              "      <td>1.000000</td>\n",
              "      <td>0.326341</td>\n",
              "      <td>0.307174</td>\n",
              "      <td>0.289433</td>\n",
              "      <td>0.041748</td>\n",
              "      <td>-0.346672</td>\n",
              "      <td>0.166863</td>\n",
              "    </tr>\n",
              "    <tr>\n",
              "      <th>NATIONAL</th>\n",
              "      <td>0.0</td>\n",
              "      <td>0.326341</td>\n",
              "      <td>1.000000</td>\n",
              "      <td>0.417789</td>\n",
              "      <td>0.299378</td>\n",
              "      <td>0.021097</td>\n",
              "      <td>0.250812</td>\n",
              "      <td>0.401773</td>\n",
              "    </tr>\n",
              "    <tr>\n",
              "      <th>NORTHEAST</th>\n",
              "      <td>0.0</td>\n",
              "      <td>0.307174</td>\n",
              "      <td>0.417789</td>\n",
              "      <td>1.000000</td>\n",
              "      <td>0.400814</td>\n",
              "      <td>0.434013</td>\n",
              "      <td>-0.149993</td>\n",
              "      <td>0.248797</td>\n",
              "    </tr>\n",
              "    <tr>\n",
              "      <th>NORTHWEST</th>\n",
              "      <td>0.0</td>\n",
              "      <td>0.289433</td>\n",
              "      <td>0.299378</td>\n",
              "      <td>0.400814</td>\n",
              "      <td>1.000000</td>\n",
              "      <td>0.257435</td>\n",
              "      <td>-0.111115</td>\n",
              "      <td>0.004146</td>\n",
              "    </tr>\n",
              "    <tr>\n",
              "      <th>SOUTHEAST</th>\n",
              "      <td>0.0</td>\n",
              "      <td>0.041748</td>\n",
              "      <td>0.021097</td>\n",
              "      <td>0.434013</td>\n",
              "      <td>0.257435</td>\n",
              "      <td>1.000000</td>\n",
              "      <td>-0.090884</td>\n",
              "      <td>-0.081374</td>\n",
              "    </tr>\n",
              "    <tr>\n",
              "      <th>SOUTHWEST</th>\n",
              "      <td>0.0</td>\n",
              "      <td>-0.346672</td>\n",
              "      <td>0.250812</td>\n",
              "      <td>-0.149993</td>\n",
              "      <td>-0.111115</td>\n",
              "      <td>-0.090884</td>\n",
              "      <td>1.000000</td>\n",
              "      <td>0.179237</td>\n",
              "    </tr>\n",
              "    <tr>\n",
              "      <th>SOUTH_CENTRAL</th>\n",
              "      <td>0.0</td>\n",
              "      <td>0.166863</td>\n",
              "      <td>0.401773</td>\n",
              "      <td>0.248797</td>\n",
              "      <td>0.004146</td>\n",
              "      <td>-0.081374</td>\n",
              "      <td>0.179237</td>\n",
              "      <td>1.000000</td>\n",
              "    </tr>\n",
              "  </tbody>\n",
              "</table>\n",
              "</div>"
            ],
            "text/plain": [
              "Region         ALASKA   MIDWEST  NATIONAL  ...  SOUTHEAST  SOUTHWEST  SOUTH_CENTRAL\n",
              "Region                                     ...                                     \n",
              "ALASKA            0.0  0.000000  0.000000  ...   0.000000   0.000000       0.000000\n",
              "MIDWEST           0.0  1.000000  0.326341  ...   0.041748  -0.346672       0.166863\n",
              "NATIONAL          0.0  0.326341  1.000000  ...   0.021097   0.250812       0.401773\n",
              "NORTHEAST         0.0  0.307174  0.417789  ...   0.434013  -0.149993       0.248797\n",
              "NORTHWEST         0.0  0.289433  0.299378  ...   0.257435  -0.111115       0.004146\n",
              "SOUTHEAST         0.0  0.041748  0.021097  ...   1.000000  -0.090884      -0.081374\n",
              "SOUTHWEST         0.0 -0.346672  0.250812  ...  -0.090884   1.000000       0.179237\n",
              "SOUTH_CENTRAL     0.0  0.166863  0.401773  ...  -0.081374   0.179237       1.000000\n",
              "\n",
              "[8 rows x 8 columns]"
            ]
          },
          "metadata": {
            "tags": []
          },
          "execution_count": 185
        }
      ]
    },
    {
      "cell_type": "code",
      "metadata": {
        "id": "mQeRM688MA9C",
        "colab_type": "code",
        "colab": {
          "base_uri": "https://localhost:8080/",
          "height": 712
        },
        "outputId": "41b773b1-7929-416f-f019-191448bbc932"
      },
      "source": [
        "import seaborn as sns\n",
        "grid = sns.clustermap(spread_correlation, annot=True)\n",
        "fig = grid.fig\n",
        "axes = fig.axes\n",
        "ax = axes[2]\n",
        "ax.set_xticklabels(ax.get_xticklabels(), rotation=45);"
      ],
      "execution_count": 186,
      "outputs": [
        {
          "output_type": "display_data",
          "data": {
            "image/png": "[encoded data removed]",
            "text/plain": [
              "<Figure size 720x720 with 4 Axes>"
            ]
          },
          "metadata": {
            "tags": [],
            "needs_background": "light"
          }
        }
      ]
    },
    {
      "cell_type": "code",
      "metadata": {
        "id": "4kvOQsJPvNyk",
        "colab_type": "code",
        "colab": {
          "base_uri": "https://localhost:8080/",
          "height": 712
        },
        "outputId": "1193e247-ddff-485e-db25-83aeefe4750c"
      },
      "source": [
        "import seaborn as sns\n",
        "grid= sns.clustermap(spread, annot=True)\n",
        "fig = grid.fig\n",
        "axes = fig.axes\n",
        "ax = axes[2]\n",
        "ax.set_xticklabels(ax.get_xticklabels(), rotation=45);"
      ],
      "execution_count": 187,
      "outputs": [
        {
          "output_type": "display_data",
          "data": {
            "image/png": "[encoded data removed]",
            "text/plain": [
              "<Figure size 720x720 with 4 Axes>"
            ]
          },
          "metadata": {
            "tags": [],
            "needs_background": "light"
          }
        }
      ]
    },
    {
      "cell_type": "markdown",
      "metadata": {
        "id": "DubtKIWBMA9E",
        "colab_type": "text"
      },
      "source": [
        "# Pandas Review\n",
        "\n",
        "- Pandas extends numpy with more complex datastructures and algorithms.\n",
        "- If you understand numpy, you understand 90% of pandas.\n",
        "- `groupby`, `set_index`, and `unstack` are powerful tools for working with categorical data.\n",
        "- Avocado prices are surprisingly interesting :)"
      ]
    },
    {
      "cell_type": "markdown",
      "metadata": {
        "id": "xpOS4oAjMA9F",
        "colab_type": "text"
      },
      "source": [
        "# Thanks!"
      ]
    }
  ]
}